{
 "cells": [
  {
   "cell_type": "markdown",
   "metadata": {},
   "source": [
    "# Automated ML\n",
    "\n",
    "TODO: Import Dependencies. In the cell below, import all the dependencies that you will need to complete the project."
   ]
  },
  {
   "cell_type": "code",
   "execution_count": 1,
   "metadata": {
    "gather": {
     "logged": 1612162463193
    },
    "jupyter": {
     "outputs_hidden": false,
     "source_hidden": false
    },
    "nteract": {
     "transient": {
      "deleting": false
     }
    }
   },
   "outputs": [],
   "source": [
    "from azureml.core import Workspace, Experiment\n",
    "from azureml.core.compute import ComputeTarget, AmlCompute\n",
    "from azureml.widgets import RunDetails\n",
    "import os\n",
    "import joblib\n",
    "\n",
    "from azureml.train.automl import AutoMLConfig\n",
    "from pprint import pprint # Used in printing automl model parameters\n",
    "from azureml.core import Model # Used to get model information"
   ]
  },
  {
   "cell_type": "markdown",
   "metadata": {},
   "source": [
    "## Dataset\n",
    "\n",
    "### Overview\n",
    "\n",
    "TODO: Get data. In the cell below, write code to access the data you will be using in this project. Remember that the dataset needs to be external."
   ]
  },
  {
   "cell_type": "code",
   "execution_count": 2,
   "metadata": {
    "gather": {
     "logged": 1612162476063
    }
   },
   "outputs": [],
   "source": [
    "from azureml.data.dataset_factory import TabularDatasetFactory\n",
    "ds = TabularDatasetFactory.from_delimited_files(\"https://raw.githubusercontent.com/BAderinto/capstone-project/main/fetal_health.csv\")"
   ]
  },
  {
   "cell_type": "code",
   "execution_count": 3,
   "metadata": {
    "gather": {
     "logged": 1612162525016
    },
    "jupyter": {
     "outputs_hidden": false,
     "source_hidden": false
    },
    "nteract": {
     "transient": {
      "deleting": false
     }
    }
   },
   "outputs": [
    {
     "name": "stdout",
     "output_type": "stream",
     "text": [
      "Performing interactive authentication. Please follow the instructions on the terminal.\n",
      "To sign in, use a web browser to open the page https://microsoft.com/devicelogin and enter the code RHLAUPXL9 to authenticate.\n",
      "You have logged in. Now let us find all the subscriptions to which you have access...\n",
      "Interactive authentication successfully completed.\n"
     ]
    }
   ],
   "source": [
    "ws = Workspace.from_config()\n",
    "\n",
    "# choose a name for experiment\n",
    "experiment_name = 'FetalHealthAutomlExp'\n",
    "\n",
    "experiment=Experiment(ws, experiment_name)"
   ]
  },
  {
   "cell_type": "code",
   "execution_count": 4,
   "metadata": {
    "gather": {
     "logged": 1612162536695
    }
   },
   "outputs": [],
   "source": [
    "data = ds.to_pandas_dataframe().dropna()\n",
    "x_test = data.sample(10)\n",
    "x_train = data.drop(x_test.index)"
   ]
  },
  {
   "cell_type": "code",
   "execution_count": 6,
   "metadata": {
    "gather": {
     "logged": 1612162550507
    }
   },
   "outputs": [
    {
     "name": "stdout",
     "output_type": "stream",
     "text": [
      "Uploading an estimated of 1 files\n",
      "Uploading ./data/train_data.csv\n",
      "Uploaded ./data/train_data.csv, 1 files out of an estimated total of 1\n",
      "Uploaded 1 files\n"
     ]
    }
   ],
   "source": [
    "from azureml.core.dataset import Dataset\n",
    "if not os.path.isdir('data'):\n",
    "    os.mkdir('data')\n",
    "    \n",
    "# Save the train data to a csv to be uploaded to the datastore\n",
    "x_train.to_csv(\"data/train_data.csv\", index=False)\n",
    "\n",
    "ds = ws.get_default_datastore()\n",
    "ds.upload(src_dir='./data', target_path='fh_training_dataset', overwrite=True, show_progress=True)\n",
    "\n",
    " \n",
    "\n",
    "# Upload the training data as a tabular dataset for access during training on remote compute\n",
    "train_dataset = Dataset.Tabular.from_delimited_files(path=ds.path('fh_training_dataset/train_data.csv'))"
   ]
  },
  {
   "cell_type": "code",
   "execution_count": 7,
   "metadata": {
    "gather": {
     "logged": 1612162557217
    }
   },
   "outputs": [
    {
     "name": "stdout",
     "output_type": "stream",
     "text": [
      "FHCapstoneCompute already exist.\n"
     ]
    }
   ],
   "source": [
    "from azureml.core.compute import ComputeTarget, AmlCompute\n",
    "\n",
    "compute_name = os.environ.get('UDACITY_AML_COMPUTE_CLUSTER_NAME', 'FHCapstoneCompute')\n",
    "compute_min_nodes = os.environ.get('UDACITY_AML_COMPUTE_CLUSTER_MIN_NODES', 0)\n",
    "compute_max_nodes = os.environ.get('UDACITY_AML_COMPUTE_CLUSTER_MAX_NODES', 4)\n",
    "\n",
    "vm_size = os.environ.get('UDACITY_AML_COMPUTE_CLUSTER_SKU', 'STANDARD_D2_V2')\n",
    "\n",
    "\n",
    "if compute_name in ws.compute_targets:\n",
    "    compute_target = ws.compute_targets[compute_name]\n",
    "    print(compute_name+ ' already exist.')\n",
    "else:\n",
    "    provisioning_config = AmlCompute.provisioning_configuration(vm_size=vm_size,\n",
    "                                                                min_nodes=compute_min_nodes, \n",
    "                                                                max_nodes=compute_max_nodes)\n",
    "\n",
    "    compute_target = ComputeTarget.create(ws, compute_name, provisioning_config)\n",
    "\n",
    "    print(compute_target.get_status().serialize())"
   ]
  },
  {
   "cell_type": "markdown",
   "metadata": {},
   "source": [
    "## AutoML Configuration"
   ]
  },
  {
   "cell_type": "code",
   "execution_count": 8,
   "metadata": {
    "gather": {
     "logged": 1612162564660
    },
    "jupyter": {
     "outputs_hidden": false,
     "source_hidden": false
    },
    "nteract": {
     "transient": {
      "deleting": false
     }
    }
   },
   "outputs": [],
   "source": [
    "# TODO: Put your automl settings here\n",
    "automl_settings = {\n",
    "    \"experiment_timeout_minutes\": 20,\n",
    "    \"max_concurrent_iterations\": 5,\n",
    "    \"primary_metric\" : 'accuracy'\n",
    "}\n",
    "\n",
    "# TODO: Put your automl config here\n",
    "automl_config = AutoMLConfig(\n",
    "        task='classification',\n",
    "        compute_target=compute_target,\n",
    "        training_data=train_dataset,\n",
    "        label_column_name='fetal_health',\n",
    "        n_cross_validations=5,\n",
    "        **automl_settings\n",
    ")"
   ]
  },
  {
   "cell_type": "code",
   "execution_count": 9,
   "metadata": {
    "gather": {
     "logged": 1612162575447
    },
    "jupyter": {
     "outputs_hidden": false,
     "source_hidden": false
    },
    "nteract": {
     "transient": {
      "deleting": false
     }
    }
   },
   "outputs": [
    {
     "name": "stdout",
     "output_type": "stream",
     "text": [
      "Running on remote.\n"
     ]
    }
   ],
   "source": [
    "# TODO: Submit your experiment\n",
    "remote_run = experiment.submit(automl_config)"
   ]
  },
  {
   "cell_type": "markdown",
   "metadata": {},
   "source": [
    "## Run Details\n",
    "\n",
    "TODO: In the cell below, use the `RunDetails` widget to show the different experiments."
   ]
  },
  {
   "cell_type": "code",
   "execution_count": 10,
   "metadata": {
    "gather": {
     "logged": 1612162578271
    },
    "jupyter": {
     "outputs_hidden": false,
     "source_hidden": false
    },
    "nteract": {
     "transient": {
      "deleting": false
     }
    }
   },
   "outputs": [
    {
     "data": {
      "application/vnd.jupyter.widget-view+json": {
       "model_id": "89d44d7155ff4dcb89d25c0bd2d7e8e1",
       "version_major": 2,
       "version_minor": 0
      },
      "text/plain": [
       "_AutoMLWidget(widget_settings={'childWidgetDisplay': 'popup', 'send_telemetry': False, 'log_level': 'INFO', 's…"
      ]
     },
     "metadata": {},
     "output_type": "display_data"
    },
    {
     "data": {
      "application/aml.mini.widget.v1": "{\"status\": \"Completed\", \"workbench_run_details_uri\": \"https://ml.azure.com/experiments/FetalHealthAutomlExp/runs/AutoML_719dc484-cd77-4408-ba66-fb1b871b7adf?wsid=/subscriptions/d4ad7261-832d-46b2-b093-22156001df5b/resourcegroups/aml-quickstarts-136799/workspaces/quick-starts-ws-136799\", \"run_id\": \"AutoML_719dc484-cd77-4408-ba66-fb1b871b7adf\", \"run_properties\": {\"run_id\": \"AutoML_719dc484-cd77-4408-ba66-fb1b871b7adf\", \"created_utc\": \"2021-02-01T06:56:13.121343Z\", \"properties\": {\"num_iterations\": \"1000\", \"training_type\": \"TrainFull\", \"acquisition_function\": \"EI\", \"primary_metric\": \"accuracy\", \"train_split\": \"0\", \"acquisition_parameter\": \"0\", \"num_cross_validation\": \"5\", \"target\": \"FHCapstoneCompute\", \"AMLSettingsJsonString\": \"{\\\"path\\\":null,\\\"name\\\":\\\"FetalHealthAutomlExp\\\",\\\"subscription_id\\\":\\\"d4ad7261-832d-46b2-b093-22156001df5b\\\",\\\"resource_group\\\":\\\"aml-quickstarts-136799\\\",\\\"workspace_name\\\":\\\"quick-starts-ws-136799\\\",\\\"region\\\":\\\"southcentralus\\\",\\\"compute_target\\\":\\\"FHCapstoneCompute\\\",\\\"spark_service\\\":null,\\\"azure_service\\\":\\\"remote\\\",\\\"many_models\\\":false,\\\"pipeline_fetch_max_batch_size\\\":1,\\\"iterations\\\":1000,\\\"primary_metric\\\":\\\"accuracy\\\",\\\"task_type\\\":\\\"classification\\\",\\\"data_script\\\":null,\\\"validation_size\\\":0.0,\\\"n_cross_validations\\\":5,\\\"y_min\\\":null,\\\"y_max\\\":null,\\\"num_classes\\\":null,\\\"featurization\\\":\\\"auto\\\",\\\"_ignore_package_version_incompatibilities\\\":false,\\\"is_timeseries\\\":false,\\\"max_cores_per_iteration\\\":1,\\\"max_concurrent_iterations\\\":5,\\\"iteration_timeout_minutes\\\":null,\\\"mem_in_mb\\\":null,\\\"enforce_time_on_windows\\\":false,\\\"experiment_timeout_minutes\\\":20,\\\"experiment_exit_score\\\":null,\\\"whitelist_models\\\":null,\\\"blacklist_algos\\\":[\\\"TensorFlowLinearClassifier\\\",\\\"TensorFlowDNN\\\"],\\\"supported_models\\\":[\\\"LinearSVM\\\",\\\"RandomForest\\\",\\\"ExtremeRandomTrees\\\",\\\"SVM\\\",\\\"LogisticRegression\\\",\\\"TensorFlowLinearClassifier\\\",\\\"KNN\\\",\\\"LightGBM\\\",\\\"XGBoostClassifier\\\",\\\"BernoulliNaiveBayes\\\",\\\"TensorFlowDNN\\\",\\\"DecisionTree\\\",\\\"AveragedPerceptronClassifier\\\",\\\"GradientBoosting\\\",\\\"SGD\\\",\\\"MultinomialNaiveBayes\\\"],\\\"auto_blacklist\\\":true,\\\"blacklist_samples_reached\\\":false,\\\"exclude_nan_labels\\\":true,\\\"verbosity\\\":20,\\\"_debug_log\\\":\\\"azureml_automl.log\\\",\\\"show_warnings\\\":false,\\\"model_explainability\\\":true,\\\"service_url\\\":null,\\\"sdk_url\\\":null,\\\"sdk_packages\\\":null,\\\"enable_onnx_compatible_models\\\":false,\\\"enable_split_onnx_featurizer_estimator_models\\\":false,\\\"vm_type\\\":\\\"STANDARD_DS2_V2\\\",\\\"telemetry_verbosity\\\":20,\\\"send_telemetry\\\":true,\\\"enable_dnn\\\":false,\\\"scenario\\\":\\\"SDK-1.13.0\\\",\\\"environment_label\\\":null,\\\"force_text_dnn\\\":false,\\\"enable_feature_sweeping\\\":true,\\\"enable_early_stopping\\\":false,\\\"early_stopping_n_iters\\\":10,\\\"metrics\\\":null,\\\"enable_ensembling\\\":true,\\\"enable_stack_ensembling\\\":true,\\\"ensemble_iterations\\\":15,\\\"enable_tf\\\":false,\\\"enable_subsampling\\\":null,\\\"subsample_seed\\\":null,\\\"enable_nimbusml\\\":false,\\\"enable_streaming\\\":false,\\\"force_streaming\\\":false,\\\"track_child_runs\\\":true,\\\"allowed_private_models\\\":[],\\\"label_column_name\\\":\\\"fetal_health\\\",\\\"weight_column_name\\\":null,\\\"cv_split_column_names\\\":null,\\\"enable_local_managed\\\":false,\\\"_local_managed_run_id\\\":null,\\\"cost_mode\\\":1,\\\"lag_length\\\":0,\\\"metric_operation\\\":\\\"maximize\\\",\\\"preprocess\\\":true}\", \"DataPrepJsonString\": \"{\\\\\\\"training_data\\\\\\\": \\\\\\\"{\\\\\\\\\\\\\\\"blocks\\\\\\\\\\\\\\\": [{\\\\\\\\\\\\\\\"id\\\\\\\\\\\\\\\": \\\\\\\\\\\\\\\"668b51d2-3217-4f4e-a99f-76f2fbf34103\\\\\\\\\\\\\\\", \\\\\\\\\\\\\\\"type\\\\\\\\\\\\\\\": \\\\\\\\\\\\\\\"Microsoft.DPrep.GetDatastoreFilesBlock\\\\\\\\\\\\\\\", \\\\\\\\\\\\\\\"arguments\\\\\\\\\\\\\\\": {\\\\\\\\\\\\\\\"datastores\\\\\\\\\\\\\\\": [{\\\\\\\\\\\\\\\"datastoreName\\\\\\\\\\\\\\\": \\\\\\\\\\\\\\\"workspaceblobstore\\\\\\\\\\\\\\\", \\\\\\\\\\\\\\\"path\\\\\\\\\\\\\\\": \\\\\\\\\\\\\\\"fh_training_dataset/train_data.csv\\\\\\\\\\\\\\\", \\\\\\\\\\\\\\\"resourceGroup\\\\\\\\\\\\\\\": \\\\\\\\\\\\\\\"aml-quickstarts-136799\\\\\\\\\\\\\\\", \\\\\\\\\\\\\\\"subscription\\\\\\\\\\\\\\\": \\\\\\\\\\\\\\\"d4ad7261-832d-46b2-b093-22156001df5b\\\\\\\\\\\\\\\", \\\\\\\\\\\\\\\"workspaceName\\\\\\\\\\\\\\\": \\\\\\\\\\\\\\\"quick-starts-ws-136799\\\\\\\\\\\\\\\"}]}, \\\\\\\\\\\\\\\"localData\\\\\\\\\\\\\\\": {}, \\\\\\\\\\\\\\\"isEnabled\\\\\\\\\\\\\\\": true, \\\\\\\\\\\\\\\"name\\\\\\\\\\\\\\\": null, \\\\\\\\\\\\\\\"annotation\\\\\\\\\\\\\\\": null}, {\\\\\\\\\\\\\\\"id\\\\\\\\\\\\\\\": \\\\\\\\\\\\\\\"9e77863f-56d6-4506-b8a4-0385b9c6d80c\\\\\\\\\\\\\\\", \\\\\\\\\\\\\\\"type\\\\\\\\\\\\\\\": \\\\\\\\\\\\\\\"Microsoft.DPrep.ParseDelimitedBlock\\\\\\\\\\\\\\\", \\\\\\\\\\\\\\\"arguments\\\\\\\\\\\\\\\": {\\\\\\\\\\\\\\\"columnHeadersMode\\\\\\\\\\\\\\\": 3, \\\\\\\\\\\\\\\"fileEncoding\\\\\\\\\\\\\\\": 0, \\\\\\\\\\\\\\\"handleQuotedLineBreaks\\\\\\\\\\\\\\\": false, \\\\\\\\\\\\\\\"preview\\\\\\\\\\\\\\\": false, \\\\\\\\\\\\\\\"separator\\\\\\\\\\\\\\\": \\\\\\\\\\\\\\\",\\\\\\\\\\\\\\\", \\\\\\\\\\\\\\\"skipRows\\\\\\\\\\\\\\\": 0, \\\\\\\\\\\\\\\"skipRowsMode\\\\\\\\\\\\\\\": 0}, \\\\\\\\\\\\\\\"localData\\\\\\\\\\\\\\\": {}, \\\\\\\\\\\\\\\"isEnabled\\\\\\\\\\\\\\\": true, \\\\\\\\\\\\\\\"name\\\\\\\\\\\\\\\": null, \\\\\\\\\\\\\\\"annotation\\\\\\\\\\\\\\\": null}, {\\\\\\\\\\\\\\\"id\\\\\\\\\\\\\\\": \\\\\\\\\\\\\\\"0d28cb5c-1aeb-4ae6-afc2-f37c26179446\\\\\\\\\\\\\\\", \\\\\\\\\\\\\\\"type\\\\\\\\\\\\\\\": \\\\\\\\\\\\\\\"Microsoft.DPrep.DropColumnsBlock\\\\\\\\\\\\\\\", \\\\\\\\\\\\\\\"arguments\\\\\\\\\\\\\\\": {\\\\\\\\\\\\\\\"columns\\\\\\\\\\\\\\\": {\\\\\\\\\\\\\\\"type\\\\\\\\\\\\\\\": 0, \\\\\\\\\\\\\\\"details\\\\\\\\\\\\\\\": {\\\\\\\\\\\\\\\"selectedColumns\\\\\\\\\\\\\\\": [\\\\\\\\\\\\\\\"Path\\\\\\\\\\\\\\\"]}}}, \\\\\\\\\\\\\\\"localData\\\\\\\\\\\\\\\": {}, \\\\\\\\\\\\\\\"isEnabled\\\\\\\\\\\\\\\": true, \\\\\\\\\\\\\\\"name\\\\\\\\\\\\\\\": null, \\\\\\\\\\\\\\\"annotation\\\\\\\\\\\\\\\": null}, {\\\\\\\\\\\\\\\"id\\\\\\\\\\\\\\\": \\\\\\\\\\\\\\\"8630faa1-5bc7-4a09-aa8f-4d79e9f8b863\\\\\\\\\\\\\\\", \\\\\\\\\\\\\\\"type\\\\\\\\\\\\\\\": \\\\\\\\\\\\\\\"Microsoft.DPrep.SetColumnTypesBlock\\\\\\\\\\\\\\\", \\\\\\\\\\\\\\\"arguments\\\\\\\\\\\\\\\": {\\\\\\\\\\\\\\\"columnConversion\\\\\\\\\\\\\\\": [{\\\\\\\\\\\\\\\"column\\\\\\\\\\\\\\\": {\\\\\\\\\\\\\\\"type\\\\\\\\\\\\\\\": 2, \\\\\\\\\\\\\\\"details\\\\\\\\\\\\\\\": {\\\\\\\\\\\\\\\"selectedColumn\\\\\\\\\\\\\\\": \\\\\\\\\\\\\\\"baseline value\\\\\\\\\\\\\\\"}}, \\\\\\\\\\\\\\\"typeProperty\\\\\\\\\\\\\\\": 3}, {\\\\\\\\\\\\\\\"column\\\\\\\\\\\\\\\": {\\\\\\\\\\\\\\\"type\\\\\\\\\\\\\\\": 2, \\\\\\\\\\\\\\\"details\\\\\\\\\\\\\\\": {\\\\\\\\\\\\\\\"selectedColumn\\\\\\\\\\\\\\\": \\\\\\\\\\\\\\\"accelerations\\\\\\\\\\\\\\\"}}, \\\\\\\\\\\\\\\"typeProperty\\\\\\\\\\\\\\\": 3}, {\\\\\\\\\\\\\\\"column\\\\\\\\\\\\\\\": {\\\\\\\\\\\\\\\"type\\\\\\\\\\\\\\\": 2, \\\\\\\\\\\\\\\"details\\\\\\\\\\\\\\\": {\\\\\\\\\\\\\\\"selectedColumn\\\\\\\\\\\\\\\": \\\\\\\\\\\\\\\"fetal_movement\\\\\\\\\\\\\\\"}}, \\\\\\\\\\\\\\\"typeProperty\\\\\\\\\\\\\\\": 3}, {\\\\\\\\\\\\\\\"column\\\\\\\\\\\\\\\": {\\\\\\\\\\\\\\\"type\\\\\\\\\\\\\\\": 2, \\\\\\\\\\\\\\\"details\\\\\\\\\\\\\\\": {\\\\\\\\\\\\\\\"selectedColumn\\\\\\\\\\\\\\\": \\\\\\\\\\\\\\\"uterine_contractions\\\\\\\\\\\\\\\"}}, \\\\\\\\\\\\\\\"typeProperty\\\\\\\\\\\\\\\": 3}, {\\\\\\\\\\\\\\\"column\\\\\\\\\\\\\\\": {\\\\\\\\\\\\\\\"type\\\\\\\\\\\\\\\": 2, \\\\\\\\\\\\\\\"details\\\\\\\\\\\\\\\": {\\\\\\\\\\\\\\\"selectedColumn\\\\\\\\\\\\\\\": \\\\\\\\\\\\\\\"light_decelerations\\\\\\\\\\\\\\\"}}, \\\\\\\\\\\\\\\"typeProperty\\\\\\\\\\\\\\\": 3}, {\\\\\\\\\\\\\\\"column\\\\\\\\\\\\\\\": {\\\\\\\\\\\\\\\"type\\\\\\\\\\\\\\\": 2, \\\\\\\\\\\\\\\"details\\\\\\\\\\\\\\\": {\\\\\\\\\\\\\\\"selectedColumn\\\\\\\\\\\\\\\": \\\\\\\\\\\\\\\"severe_decelerations\\\\\\\\\\\\\\\"}}, \\\\\\\\\\\\\\\"typeProperty\\\\\\\\\\\\\\\": 3}, {\\\\\\\\\\\\\\\"column\\\\\\\\\\\\\\\": {\\\\\\\\\\\\\\\"type\\\\\\\\\\\\\\\": 2, \\\\\\\\\\\\\\\"details\\\\\\\\\\\\\\\": {\\\\\\\\\\\\\\\"selectedColumn\\\\\\\\\\\\\\\": \\\\\\\\\\\\\\\"prolongued_decelerations\\\\\\\\\\\\\\\"}}, \\\\\\\\\\\\\\\"typeProperty\\\\\\\\\\\\\\\": 3}, {\\\\\\\\\\\\\\\"column\\\\\\\\\\\\\\\": {\\\\\\\\\\\\\\\"type\\\\\\\\\\\\\\\": 2, \\\\\\\\\\\\\\\"details\\\\\\\\\\\\\\\": {\\\\\\\\\\\\\\\"selectedColumn\\\\\\\\\\\\\\\": \\\\\\\\\\\\\\\"abnormal_short_term_variability\\\\\\\\\\\\\\\"}}, \\\\\\\\\\\\\\\"typeProperty\\\\\\\\\\\\\\\": 3}, {\\\\\\\\\\\\\\\"column\\\\\\\\\\\\\\\": {\\\\\\\\\\\\\\\"type\\\\\\\\\\\\\\\": 2, \\\\\\\\\\\\\\\"details\\\\\\\\\\\\\\\": {\\\\\\\\\\\\\\\"selectedColumn\\\\\\\\\\\\\\\": \\\\\\\\\\\\\\\"mean_value_of_short_term_variability\\\\\\\\\\\\\\\"}}, \\\\\\\\\\\\\\\"typeProperty\\\\\\\\\\\\\\\": 3}, {\\\\\\\\\\\\\\\"column\\\\\\\\\\\\\\\": {\\\\\\\\\\\\\\\"type\\\\\\\\\\\\\\\": 2, \\\\\\\\\\\\\\\"details\\\\\\\\\\\\\\\": {\\\\\\\\\\\\\\\"selectedColumn\\\\\\\\\\\\\\\": \\\\\\\\\\\\\\\"percentage_of_time_with_abnormal_long_term_variability\\\\\\\\\\\\\\\"}}, \\\\\\\\\\\\\\\"typeProperty\\\\\\\\\\\\\\\": 3}, {\\\\\\\\\\\\\\\"column\\\\\\\\\\\\\\\": {\\\\\\\\\\\\\\\"type\\\\\\\\\\\\\\\": 2, \\\\\\\\\\\\\\\"details\\\\\\\\\\\\\\\": {\\\\\\\\\\\\\\\"selectedColumn\\\\\\\\\\\\\\\": \\\\\\\\\\\\\\\"mean_value_of_long_term_variability\\\\\\\\\\\\\\\"}}, \\\\\\\\\\\\\\\"typeProperty\\\\\\\\\\\\\\\": 3}, {\\\\\\\\\\\\\\\"column\\\\\\\\\\\\\\\": {\\\\\\\\\\\\\\\"type\\\\\\\\\\\\\\\": 2, \\\\\\\\\\\\\\\"details\\\\\\\\\\\\\\\": {\\\\\\\\\\\\\\\"selectedColumn\\\\\\\\\\\\\\\": \\\\\\\\\\\\\\\"histogram_width\\\\\\\\\\\\\\\"}}, \\\\\\\\\\\\\\\"typeProperty\\\\\\\\\\\\\\\": 3}, {\\\\\\\\\\\\\\\"column\\\\\\\\\\\\\\\": {\\\\\\\\\\\\\\\"type\\\\\\\\\\\\\\\": 2, \\\\\\\\\\\\\\\"details\\\\\\\\\\\\\\\": {\\\\\\\\\\\\\\\"selectedColumn\\\\\\\\\\\\\\\": \\\\\\\\\\\\\\\"histogram_min\\\\\\\\\\\\\\\"}}, \\\\\\\\\\\\\\\"typeProperty\\\\\\\\\\\\\\\": 3}, {\\\\\\\\\\\\\\\"column\\\\\\\\\\\\\\\": {\\\\\\\\\\\\\\\"type\\\\\\\\\\\\\\\": 2, \\\\\\\\\\\\\\\"details\\\\\\\\\\\\\\\": {\\\\\\\\\\\\\\\"selectedColumn\\\\\\\\\\\\\\\": \\\\\\\\\\\\\\\"histogram_max\\\\\\\\\\\\\\\"}}, \\\\\\\\\\\\\\\"typeProperty\\\\\\\\\\\\\\\": 3}, {\\\\\\\\\\\\\\\"column\\\\\\\\\\\\\\\": {\\\\\\\\\\\\\\\"type\\\\\\\\\\\\\\\": 2, \\\\\\\\\\\\\\\"details\\\\\\\\\\\\\\\": {\\\\\\\\\\\\\\\"selectedColumn\\\\\\\\\\\\\\\": \\\\\\\\\\\\\\\"histogram_number_of_peaks\\\\\\\\\\\\\\\"}}, \\\\\\\\\\\\\\\"typeProperty\\\\\\\\\\\\\\\": 3}, {\\\\\\\\\\\\\\\"column\\\\\\\\\\\\\\\": {\\\\\\\\\\\\\\\"type\\\\\\\\\\\\\\\": 2, \\\\\\\\\\\\\\\"details\\\\\\\\\\\\\\\": {\\\\\\\\\\\\\\\"selectedColumn\\\\\\\\\\\\\\\": \\\\\\\\\\\\\\\"histogram_number_of_zeroes\\\\\\\\\\\\\\\"}}, \\\\\\\\\\\\\\\"typeProperty\\\\\\\\\\\\\\\": 3}, {\\\\\\\\\\\\\\\"column\\\\\\\\\\\\\\\": {\\\\\\\\\\\\\\\"type\\\\\\\\\\\\\\\": 2, \\\\\\\\\\\\\\\"details\\\\\\\\\\\\\\\": {\\\\\\\\\\\\\\\"selectedColumn\\\\\\\\\\\\\\\": \\\\\\\\\\\\\\\"histogram_mode\\\\\\\\\\\\\\\"}}, \\\\\\\\\\\\\\\"typeProperty\\\\\\\\\\\\\\\": 3}, {\\\\\\\\\\\\\\\"column\\\\\\\\\\\\\\\": {\\\\\\\\\\\\\\\"type\\\\\\\\\\\\\\\": 2, \\\\\\\\\\\\\\\"details\\\\\\\\\\\\\\\": {\\\\\\\\\\\\\\\"selectedColumn\\\\\\\\\\\\\\\": \\\\\\\\\\\\\\\"histogram_mean\\\\\\\\\\\\\\\"}}, \\\\\\\\\\\\\\\"typeProperty\\\\\\\\\\\\\\\": 3}, {\\\\\\\\\\\\\\\"column\\\\\\\\\\\\\\\": {\\\\\\\\\\\\\\\"type\\\\\\\\\\\\\\\": 2, \\\\\\\\\\\\\\\"details\\\\\\\\\\\\\\\": {\\\\\\\\\\\\\\\"selectedColumn\\\\\\\\\\\\\\\": \\\\\\\\\\\\\\\"histogram_median\\\\\\\\\\\\\\\"}}, \\\\\\\\\\\\\\\"typeProperty\\\\\\\\\\\\\\\": 3}, {\\\\\\\\\\\\\\\"column\\\\\\\\\\\\\\\": {\\\\\\\\\\\\\\\"type\\\\\\\\\\\\\\\": 2, \\\\\\\\\\\\\\\"details\\\\\\\\\\\\\\\": {\\\\\\\\\\\\\\\"selectedColumn\\\\\\\\\\\\\\\": \\\\\\\\\\\\\\\"histogram_variance\\\\\\\\\\\\\\\"}}, \\\\\\\\\\\\\\\"typeProperty\\\\\\\\\\\\\\\": 3}, {\\\\\\\\\\\\\\\"column\\\\\\\\\\\\\\\": {\\\\\\\\\\\\\\\"type\\\\\\\\\\\\\\\": 2, \\\\\\\\\\\\\\\"details\\\\\\\\\\\\\\\": {\\\\\\\\\\\\\\\"selectedColumn\\\\\\\\\\\\\\\": \\\\\\\\\\\\\\\"histogram_tendency\\\\\\\\\\\\\\\"}}, \\\\\\\\\\\\\\\"typeProperty\\\\\\\\\\\\\\\": 3}, {\\\\\\\\\\\\\\\"column\\\\\\\\\\\\\\\": {\\\\\\\\\\\\\\\"type\\\\\\\\\\\\\\\": 2, \\\\\\\\\\\\\\\"details\\\\\\\\\\\\\\\": {\\\\\\\\\\\\\\\"selectedColumn\\\\\\\\\\\\\\\": \\\\\\\\\\\\\\\"fetal_health\\\\\\\\\\\\\\\"}}, \\\\\\\\\\\\\\\"typeProperty\\\\\\\\\\\\\\\": 3}]}, \\\\\\\\\\\\\\\"localData\\\\\\\\\\\\\\\": {}, \\\\\\\\\\\\\\\"isEnabled\\\\\\\\\\\\\\\": true, \\\\\\\\\\\\\\\"name\\\\\\\\\\\\\\\": null, \\\\\\\\\\\\\\\"annotation\\\\\\\\\\\\\\\": null}], \\\\\\\\\\\\\\\"inspectors\\\\\\\\\\\\\\\": [], \\\\\\\\\\\\\\\"meta\\\\\\\\\\\\\\\": {\\\\\\\\\\\\\\\"savedDatasetId\\\\\\\\\\\\\\\": \\\\\\\\\\\\\\\"11aa6b69-c7d9-42f7-a5f8-e400217bddcc\\\\\\\\\\\\\\\", \\\\\\\\\\\\\\\"datasetType\\\\\\\\\\\\\\\": \\\\\\\\\\\\\\\"tabular\\\\\\\\\\\\\\\", \\\\\\\\\\\\\\\"subscriptionId\\\\\\\\\\\\\\\": \\\\\\\\\\\\\\\"d4ad7261-832d-46b2-b093-22156001df5b\\\\\\\\\\\\\\\", \\\\\\\\\\\\\\\"workspaceId\\\\\\\\\\\\\\\": \\\\\\\\\\\\\\\"bacef661-b0e0-4d02-95b0-f068e6c4c66c\\\\\\\\\\\\\\\", \\\\\\\\\\\\\\\"workspaceLocation\\\\\\\\\\\\\\\": \\\\\\\\\\\\\\\"southcentralus\\\\\\\\\\\\\\\"}}\\\\\\\", \\\\\\\"activities\\\\\\\": 0}\", \"EnableSubsampling\": null, \"runTemplate\": \"AutoML\", \"azureml.runsource\": \"automl\", \"display_task_type\": \"classification\", \"dependencies_versions\": \"{\\\"azureml-widgets\\\": \\\"1.20.0\\\", \\\"azureml-train\\\": \\\"1.20.0\\\", \\\"azureml-train-restclients-hyperdrive\\\": \\\"1.20.0\\\", \\\"azureml-train-core\\\": \\\"1.20.0\\\", \\\"azureml-train-automl\\\": \\\"1.20.0\\\", \\\"azureml-train-automl-runtime\\\": \\\"1.20.0\\\", \\\"azureml-train-automl-client\\\": \\\"1.20.0\\\", \\\"azureml-tensorboard\\\": \\\"1.20.0\\\", \\\"azureml-telemetry\\\": \\\"1.20.0\\\", \\\"azureml-sdk\\\": \\\"1.20.0\\\", \\\"azureml-samples\\\": \\\"0+unknown\\\", \\\"azureml-pipeline\\\": \\\"1.20.0\\\", \\\"azureml-pipeline-steps\\\": \\\"1.20.0\\\", \\\"azureml-pipeline-core\\\": \\\"1.20.0\\\", \\\"azureml-opendatasets\\\": \\\"1.20.0\\\", \\\"azureml-model-management-sdk\\\": \\\"1.0.1b6.post1\\\", \\\"azureml-mlflow\\\": \\\"1.20.0.post1\\\", \\\"azureml-interpret\\\": \\\"1.20.0\\\", \\\"azureml-explain-model\\\": \\\"1.20.0\\\", \\\"azureml-defaults\\\": \\\"1.20.0\\\", \\\"azureml-dataset-runtime\\\": \\\"1.20.0\\\", \\\"azureml-dataprep\\\": \\\"2.7.3\\\", \\\"azureml-dataprep-rslex\\\": \\\"1.5.0\\\", \\\"azureml-dataprep-native\\\": \\\"27.0.0\\\", \\\"azureml-datadrift\\\": \\\"1.20.0\\\", \\\"azureml-core\\\": \\\"1.20.0\\\", \\\"azureml-contrib-services\\\": \\\"1.20.0\\\", \\\"azureml-contrib-server\\\": \\\"1.20.0\\\", \\\"azureml-contrib-reinforcementlearning\\\": \\\"1.20.0\\\", \\\"azureml-contrib-pipeline-steps\\\": \\\"1.20.0\\\", \\\"azureml-contrib-notebook\\\": \\\"1.20.0\\\", \\\"azureml-contrib-interpret\\\": \\\"1.20.0\\\", \\\"azureml-contrib-gbdt\\\": \\\"1.20.0\\\", \\\"azureml-contrib-fairness\\\": \\\"1.20.0\\\", \\\"azureml-contrib-dataset\\\": \\\"1.20.0\\\", \\\"azureml-cli-common\\\": \\\"1.20.0\\\", \\\"azureml-automl-runtime\\\": \\\"1.20.0\\\", \\\"azureml-automl-core\\\": \\\"1.20.0\\\", \\\"azureml-accel-models\\\": \\\"1.20.0\\\"}\", \"_aml_system_scenario_identification\": \"Remote.Parent\", \"ClientType\": \"SDK\", \"environment_cpu_name\": \"AzureML-AutoML\", \"environment_cpu_label\": \"prod\", \"environment_gpu_name\": \"AzureML-AutoML-GPU\", \"environment_gpu_label\": \"prod\", \"root_attribution\": \"automl\", \"attribution\": \"AutoML\", \"Orchestrator\": \"AutoML\", \"CancelUri\": \"https://southcentralus.experiments.azureml.net/jasmine/v1.0/subscriptions/d4ad7261-832d-46b2-b093-22156001df5b/resourceGroups/aml-quickstarts-136799/providers/Microsoft.MachineLearningServices/workspaces/quick-starts-ws-136799/experimentids/6b02c4b4-a4e4-45ff-bf8f-b4f5acea7b95/cancel/AutoML_719dc484-cd77-4408-ba66-fb1b871b7adf\", \"ClientSdkVersion\": \"1.20.0.post1\", \"snapshotId\": \"00000000-0000-0000-0000-000000000000\", \"SetupRunId\": \"AutoML_719dc484-cd77-4408-ba66-fb1b871b7adf_setup\", \"SetupRunContainerId\": \"dcid.AutoML_719dc484-cd77-4408-ba66-fb1b871b7adf_setup\", \"FeaturizationRunJsonPath\": \"featurizer_container.json\", \"FeaturizationRunId\": \"AutoML_719dc484-cd77-4408-ba66-fb1b871b7adf_featurize\", \"ProblemInfoJsonString\": \"{\\\"dataset_num_categorical\\\": 0, \\\"is_sparse\\\": false, \\\"subsampling\\\": false, \\\"dataset_classes\\\": 3, \\\"dataset_features\\\": 21, \\\"dataset_samples\\\": 2116, \\\"single_frequency_class_detected\\\": false}\", \"ModelExplainRunId\": \"AutoML_719dc484-cd77-4408-ba66-fb1b871b7adf_ModelExplain\"}, \"tags\": {\"model_explain_run\": \"best_run\", \"_aml_system_azureml.automlComponent\": \"AutoML\", \"pipeline_id\": \"\", \"score\": \"\", \"predicted_cost\": \"\", \"fit_time\": \"\", \"training_percent\": \"\", \"iteration\": \"\", \"run_preprocessor\": \"\", \"run_algorithm\": \"\", \"dynamic_whitelisting_iterations\": \"<25>;<30>;<34>;<40>;<44>;<50>;\", \"automl_best_child_run_id\": \"AutoML_719dc484-cd77-4408-ba66-fb1b871b7adf_55\"}, \"end_time_utc\": \"2021-02-01T07:24:55.522481Z\", \"status\": \"Completed\", \"log_files\": {}, \"log_groups\": [], \"run_duration\": \"0:28:42\"}, \"child_runs\": [{\"run_id\": \"AutoML_719dc484-cd77-4408-ba66-fb1b871b7adf_0\", \"run_number\": 5, \"metric\": null, \"status\": \"Completed\", \"run_type\": \"azureml.scriptrun\", \"training_percent\": \"100\", \"start_time\": \"2021-02-01T07:03:17.044221Z\", \"end_time\": \"2021-02-01T07:04:31.174981Z\", \"created_time\": \"2021-02-01T07:01:38.147187Z\", \"created_time_dt\": \"2021-02-01T07:01:38.147187Z\", \"duration\": \"0:02:53\", \"iteration\": \"0\", \"goal\": \"accuracy_max\", \"run_name\": \"MaxAbsScaler, LightGBM\", \"run_properties\": \"copy=True\", \"primary_metric\": 0.95131362, \"best_metric\": 0.95131362}, {\"run_id\": \"AutoML_719dc484-cd77-4408-ba66-fb1b871b7adf_3\", \"run_number\": 6, \"metric\": null, \"status\": \"Completed\", \"run_type\": \"azureml.scriptrun\", \"training_percent\": \"100\", \"start_time\": \"2021-02-01T07:01:55.415617Z\", \"end_time\": \"2021-02-01T07:03:15.287291Z\", \"created_time\": \"2021-02-01T07:01:38.159851Z\", \"created_time_dt\": \"2021-02-01T07:01:38.159851Z\", \"duration\": \"0:01:37\", \"iteration\": \"3\", \"goal\": \"accuracy_max\", \"run_name\": \"MinMaxScaler, RandomForest\", \"run_properties\": \"copy=True, feature_range=(0, 1\", \"primary_metric\": 0.87048932, \"best_metric\": 0.95131362}, {\"run_id\": \"AutoML_719dc484-cd77-4408-ba66-fb1b871b7adf_1\", \"run_number\": 7, \"metric\": null, \"status\": \"Completed\", \"run_type\": \"azureml.scriptrun\", \"training_percent\": \"100\", \"start_time\": \"2021-02-01T07:01:53.546884Z\", \"end_time\": \"2021-02-01T07:03:26.537688Z\", \"created_time\": \"2021-02-01T07:01:38.16457Z\", \"created_time_dt\": \"2021-02-01T07:01:38.16457Z\", \"duration\": \"0:01:48\", \"iteration\": \"1\", \"goal\": \"accuracy_max\", \"run_name\": \"MaxAbsScaler, XGBoostClassifier\", \"run_properties\": \"copy=True\", \"primary_metric\": 0.94234132, \"best_metric\": 0.95131362}, {\"run_id\": \"AutoML_719dc484-cd77-4408-ba66-fb1b871b7adf_2\", \"run_number\": 8, \"metric\": null, \"status\": \"Completed\", \"run_type\": \"azureml.scriptrun\", \"training_percent\": \"100\", \"start_time\": \"2021-02-01T07:01:55.555686Z\", \"end_time\": \"2021-02-01T07:03:15.52197Z\", \"created_time\": \"2021-02-01T07:01:38.180466Z\", \"created_time_dt\": \"2021-02-01T07:01:38.180466Z\", \"duration\": \"0:01:37\", \"iteration\": \"2\", \"goal\": \"accuracy_max\", \"run_name\": \"MinMaxScaler, RandomForest\", \"run_properties\": \"copy=True, feature_range=(0, 1\", \"primary_metric\": 0.8964907, \"best_metric\": 0.95131362}, {\"run_id\": \"AutoML_719dc484-cd77-4408-ba66-fb1b871b7adf_4\", \"run_number\": 9, \"metric\": null, \"status\": \"Completed\", \"run_type\": \"azureml.scriptrun\", \"training_percent\": \"100\", \"start_time\": \"2021-02-01T07:01:55.797153Z\", \"end_time\": \"2021-02-01T07:03:15.656966Z\", \"created_time\": \"2021-02-01T07:01:38.47674Z\", \"created_time_dt\": \"2021-02-01T07:01:38.47674Z\", \"duration\": \"0:01:37\", \"iteration\": \"4\", \"goal\": \"accuracy_max\", \"run_name\": \"MinMaxScaler, RandomForest\", \"run_properties\": \"copy=True, feature_range=(0, 1\", \"primary_metric\": 0.88893572, \"best_metric\": 0.95131362}, {\"run_id\": \"AutoML_719dc484-cd77-4408-ba66-fb1b871b7adf_5\", \"run_number\": 10, \"metric\": null, \"status\": \"Completed\", \"run_type\": \"azureml.scriptrun\", \"training_percent\": \"100\", \"start_time\": \"2021-02-01T07:03:33.409516Z\", \"end_time\": \"2021-02-01T07:04:47.996219Z\", \"created_time\": \"2021-02-01T07:03:18.51008Z\", \"created_time_dt\": \"2021-02-01T07:03:18.51008Z\", \"duration\": \"0:01:29\", \"iteration\": \"5\", \"goal\": \"accuracy_max\", \"run_name\": \"MinMaxScaler, SVM\", \"run_properties\": \"copy=True, feature_range=(0, 1\", \"primary_metric\": 0.92390829, \"best_metric\": 0.95131362}, {\"run_id\": \"AutoML_719dc484-cd77-4408-ba66-fb1b871b7adf_7\", \"run_number\": 11, \"metric\": null, \"status\": \"Completed\", \"run_type\": \"azureml.scriptrun\", \"training_percent\": \"100\", \"start_time\": \"2021-02-01T07:03:32.818657Z\", \"end_time\": \"2021-02-01T07:05:12.466336Z\", \"created_time\": \"2021-02-01T07:03:18.665097Z\", \"created_time_dt\": \"2021-02-01T07:03:18.665097Z\", \"duration\": \"0:01:53\", \"iteration\": \"7\", \"goal\": \"accuracy_max\", \"run_name\": \"SparseNormalizer, XGBoostClassifier\", \"run_properties\": \"<azureml.automl.runtime.shared.model_wrappers.SparseNormalizer object at 0x7fa6bb10d320\", \"primary_metric\": 0.92059414, \"best_metric\": 0.95131362}, {\"run_id\": \"AutoML_719dc484-cd77-4408-ba66-fb1b871b7adf_6\", \"run_number\": 12, \"metric\": null, \"status\": \"Completed\", \"run_type\": \"azureml.scriptrun\", \"training_percent\": \"100\", \"start_time\": \"2021-02-01T07:03:35.528762Z\", \"end_time\": \"2021-02-01T07:05:19.135349Z\", \"created_time\": \"2021-02-01T07:03:18.68888Z\", \"created_time_dt\": \"2021-02-01T07:03:18.68888Z\", \"duration\": \"0:02:00\", \"iteration\": \"6\", \"goal\": \"accuracy_max\", \"run_name\": \"SparseNormalizer, XGBoostClassifier\", \"run_properties\": \"<azureml.automl.runtime.shared.model_wrappers.SparseNormalizer object at 0x7f98b5ae5588\", \"primary_metric\": 0.92863085, \"best_metric\": 0.95131362}, {\"run_id\": \"AutoML_719dc484-cd77-4408-ba66-fb1b871b7adf_8\", \"run_number\": 13, \"metric\": null, \"status\": \"Completed\", \"run_type\": \"azureml.scriptrun\", \"training_percent\": \"100\", \"start_time\": \"2021-02-01T07:04:33.729622Z\", \"end_time\": \"2021-02-01T07:05:59.842678Z\", \"created_time\": \"2021-02-01T07:03:30.010269Z\", \"created_time_dt\": \"2021-02-01T07:03:30.010269Z\", \"duration\": \"0:02:29\", \"iteration\": \"8\", \"goal\": \"accuracy_max\", \"run_name\": \"SparseNormalizer, XGBoostClassifier\", \"run_properties\": \"<azureml.automl.runtime.shared.model_wrappers.SparseNormalizer object at 0x7f44a1f33b38\", \"primary_metric\": 0.93383402, \"best_metric\": 0.95131362}, {\"run_id\": \"AutoML_719dc484-cd77-4408-ba66-fb1b871b7adf_9\", \"run_number\": 14, \"metric\": null, \"status\": \"Completed\", \"run_type\": \"azureml.scriptrun\", \"training_percent\": \"100\", \"start_time\": \"2021-02-01T07:04:52.328307Z\", \"end_time\": \"2021-02-01T07:06:08.447041Z\", \"created_time\": \"2021-02-01T07:04:34.92012Z\", \"created_time_dt\": \"2021-02-01T07:04:34.92012Z\", \"duration\": \"0:01:33\", \"iteration\": \"9\", \"goal\": \"accuracy_max\", \"run_name\": \"MinMaxScaler, SVM\", \"run_properties\": \"copy=True, feature_range=(0, 1\", \"primary_metric\": 0.91823899, \"best_metric\": 0.95131362}, {\"run_id\": \"AutoML_719dc484-cd77-4408-ba66-fb1b871b7adf_10\", \"run_number\": 15, \"metric\": null, \"status\": \"Completed\", \"run_type\": \"azureml.scriptrun\", \"training_percent\": \"100\", \"start_time\": \"2021-02-01T07:05:17.134468Z\", \"end_time\": \"2021-02-01T07:06:38.453413Z\", \"created_time\": \"2021-02-01T07:04:50.939058Z\", \"created_time_dt\": \"2021-02-01T07:04:50.939058Z\", \"duration\": \"0:01:47\", \"iteration\": \"10\", \"goal\": \"accuracy_max\", \"run_name\": \"MaxAbsScaler, GradientBoosting\", \"run_properties\": \"copy=True\", \"primary_metric\": 0.90925331, \"best_metric\": 0.95131362}, {\"run_id\": \"AutoML_719dc484-cd77-4408-ba66-fb1b871b7adf_11\", \"run_number\": 16, \"metric\": null, \"status\": \"Completed\", \"run_type\": \"azureml.scriptrun\", \"training_percent\": \"100\", \"start_time\": \"2021-02-01T07:05:27.298158Z\", \"end_time\": \"2021-02-01T07:07:02.392925Z\", \"created_time\": \"2021-02-01T07:05:14.926047Z\", \"created_time_dt\": \"2021-02-01T07:05:14.926047Z\", \"duration\": \"0:01:47\", \"iteration\": \"11\", \"goal\": \"accuracy_max\", \"run_name\": \"SparseNormalizer, LightGBM\", \"run_properties\": \"<azureml.automl.runtime.shared.model_wrappers.SparseNormalizer object at 0x7faf66773c88\", \"primary_metric\": 0.89319104, \"best_metric\": 0.95131362}, {\"run_id\": \"AutoML_719dc484-cd77-4408-ba66-fb1b871b7adf_12\", \"run_number\": 17, \"metric\": null, \"status\": \"Completed\", \"run_type\": \"azureml.scriptrun\", \"training_percent\": \"100\", \"start_time\": \"2021-02-01T07:06:03.257221Z\", \"end_time\": \"2021-02-01T07:07:28.325439Z\", \"created_time\": \"2021-02-01T07:05:21.463018Z\", \"created_time_dt\": \"2021-02-01T07:05:21.463018Z\", \"duration\": \"0:02:06\", \"iteration\": \"12\", \"goal\": \"accuracy_max\", \"run_name\": \"StandardScalerWrapper, RandomForest\", \"run_properties\": \"<azureml.automl.runtime.shared.model_wrappers.StandardScalerWrapper object at 0x7f5d8dcb2780\", \"primary_metric\": 0.90688702, \"best_metric\": 0.95131362}, {\"run_id\": \"AutoML_719dc484-cd77-4408-ba66-fb1b871b7adf_13\", \"run_number\": 18, \"metric\": null, \"status\": \"Completed\", \"run_type\": \"azureml.scriptrun\", \"training_percent\": \"100\", \"start_time\": \"2021-02-01T07:06:14.192368Z\", \"end_time\": \"2021-02-01T07:07:18.293744Z\", \"created_time\": \"2021-02-01T07:06:02.3375Z\", \"created_time_dt\": \"2021-02-01T07:06:02.3375Z\", \"duration\": \"0:01:15\", \"iteration\": \"13\", \"goal\": \"accuracy_max\", \"run_name\": \"MaxAbsScaler, LightGBM\", \"run_properties\": \"copy=True\", \"primary_metric\": 0.90878161, \"best_metric\": 0.95131362}, {\"run_id\": \"AutoML_719dc484-cd77-4408-ba66-fb1b871b7adf_14\", \"run_number\": 19, \"metric\": null, \"status\": \"Completed\", \"run_type\": \"azureml.scriptrun\", \"training_percent\": \"100\", \"start_time\": \"2021-02-01T07:06:41.283298Z\", \"end_time\": \"2021-02-01T07:07:45.648739Z\", \"created_time\": \"2021-02-01T07:06:11.093768Z\", \"created_time_dt\": \"2021-02-01T07:06:11.093768Z\", \"duration\": \"0:01:34\", \"iteration\": \"14\", \"goal\": \"accuracy_max\", \"run_name\": \"MinMaxScaler, LightGBM\", \"run_properties\": \"copy=True, feature_range=(0, 1\", \"primary_metric\": 0.85773228, \"best_metric\": 0.95131362}, {\"run_id\": \"AutoML_719dc484-cd77-4408-ba66-fb1b871b7adf_15\", \"run_number\": 20, \"metric\": null, \"status\": \"Completed\", \"run_type\": \"azureml.scriptrun\", \"training_percent\": \"100\", \"start_time\": \"2021-02-01T07:07:09.427976Z\", \"end_time\": \"2021-02-01T07:08:21.438866Z\", \"created_time\": \"2021-02-01T07:06:41.132623Z\", \"created_time_dt\": \"2021-02-01T07:06:41.132623Z\", \"duration\": \"0:01:40\", \"iteration\": \"15\", \"goal\": \"accuracy_max\", \"run_name\": \"MaxAbsScaler, LightGBM\", \"run_properties\": \"copy=True\", \"primary_metric\": 0.90027321, \"best_metric\": 0.95131362}, {\"run_id\": \"AutoML_719dc484-cd77-4408-ba66-fb1b871b7adf_16\", \"run_number\": 21, \"metric\": null, \"status\": \"Completed\", \"run_type\": \"azureml.scriptrun\", \"training_percent\": \"100\", \"start_time\": \"2021-02-01T07:07:22.683707Z\", \"end_time\": \"2021-02-01T07:08:40.455395Z\", \"created_time\": \"2021-02-01T07:07:04.981492Z\", \"created_time_dt\": \"2021-02-01T07:07:04.981492Z\", \"duration\": \"0:01:35\", \"iteration\": \"16\", \"goal\": \"accuracy_max\", \"run_name\": \"SparseNormalizer, XGBoostClassifier\", \"run_properties\": \"<azureml.automl.runtime.shared.model_wrappers.SparseNormalizer object at 0x7ff95d698ba8\", \"primary_metric\": 0.92674071, \"best_metric\": 0.95131362}, {\"run_id\": \"AutoML_719dc484-cd77-4408-ba66-fb1b871b7adf_17\", \"run_number\": 22, \"metric\": null, \"status\": \"Completed\", \"run_type\": \"azureml.scriptrun\", \"training_percent\": \"100\", \"start_time\": \"2021-02-01T07:07:33.983773Z\", \"end_time\": \"2021-02-01T07:08:47.740102Z\", \"created_time\": \"2021-02-01T07:07:21.004379Z\", \"created_time_dt\": \"2021-02-01T07:07:21.004379Z\", \"duration\": \"0:01:26\", \"iteration\": \"17\", \"goal\": \"accuracy_max\", \"run_name\": \"StandardScalerWrapper, LogisticRegression\", \"run_properties\": \"<azureml.automl.runtime.shared.model_wrappers.StandardScalerWrapper object at 0x7f925c70b400\", \"primary_metric\": 0.89272604, \"best_metric\": 0.95131362}, {\"run_id\": \"AutoML_719dc484-cd77-4408-ba66-fb1b871b7adf_18\", \"run_number\": 23, \"metric\": null, \"status\": \"Completed\", \"run_type\": \"azureml.scriptrun\", \"training_percent\": \"100\", \"start_time\": \"2021-02-01T07:07:50.42718Z\", \"end_time\": \"2021-02-01T07:09:03.657727Z\", \"created_time\": \"2021-02-01T07:07:30.921732Z\", \"created_time_dt\": \"2021-02-01T07:07:30.921732Z\", \"duration\": \"0:01:32\", \"iteration\": \"18\", \"goal\": \"accuracy_max\", \"run_name\": \"StandardScalerWrapper, RandomForest\", \"run_properties\": \"<azureml.automl.runtime.shared.model_wrappers.StandardScalerWrapper object at 0x7fd7b9162fd0\", \"primary_metric\": 0.86388666, \"best_metric\": 0.95131362}, {\"run_id\": \"AutoML_719dc484-cd77-4408-ba66-fb1b871b7adf_19\", \"run_number\": 24, \"metric\": null, \"status\": \"Completed\", \"run_type\": \"azureml.scriptrun\", \"training_percent\": \"100\", \"start_time\": \"2021-02-01T07:08:23.511001Z\", \"end_time\": \"2021-02-01T07:09:48.538996Z\", \"created_time\": \"2021-02-01T07:07:49.19278Z\", \"created_time_dt\": \"2021-02-01T07:07:49.19278Z\", \"duration\": \"0:01:59\", \"iteration\": \"19\", \"goal\": \"accuracy_max\", \"run_name\": \"SparseNormalizer, XGBoostClassifier\", \"run_properties\": \"<azureml.automl.runtime.shared.model_wrappers.SparseNormalizer object at 0x7fcf6ea1ccc0\", \"primary_metric\": 0.93052322, \"best_metric\": 0.95131362}, {\"run_id\": \"AutoML_719dc484-cd77-4408-ba66-fb1b871b7adf_20\", \"run_number\": 25, \"metric\": null, \"status\": \"Completed\", \"run_type\": \"azureml.scriptrun\", \"training_percent\": \"100\", \"start_time\": \"2021-02-01T07:08:44.240139Z\", \"end_time\": \"2021-02-01T07:10:01.471504Z\", \"created_time\": \"2021-02-01T07:08:24.104867Z\", \"created_time_dt\": \"2021-02-01T07:08:24.104867Z\", \"duration\": \"0:01:37\", \"iteration\": \"20\", \"goal\": \"accuracy_max\", \"run_name\": \"SparseNormalizer, XGBoostClassifier\", \"run_properties\": \"<azureml.automl.runtime.shared.model_wrappers.SparseNormalizer object at 0x7f0091ce5eb8\", \"primary_metric\": 0.9097317, \"best_metric\": 0.95131362}, {\"run_id\": \"AutoML_719dc484-cd77-4408-ba66-fb1b871b7adf_21\", \"run_number\": 26, \"metric\": null, \"status\": \"Completed\", \"run_type\": \"azureml.scriptrun\", \"training_percent\": \"100\", \"start_time\": \"2021-02-01T07:08:56.139452Z\", \"end_time\": \"2021-02-01T07:10:19.461289Z\", \"created_time\": \"2021-02-01T07:08:42.855942Z\", \"created_time_dt\": \"2021-02-01T07:08:42.855942Z\", \"duration\": \"0:01:36\", \"iteration\": \"21\", \"goal\": \"accuracy_max\", \"run_name\": \"SparseNormalizer, XGBoostClassifier\", \"run_properties\": \"<azureml.automl.runtime.shared.model_wrappers.SparseNormalizer object at 0x7f0821a27da0\", \"primary_metric\": 0.92154088, \"best_metric\": 0.95131362}, {\"run_id\": \"AutoML_719dc484-cd77-4408-ba66-fb1b871b7adf_22\", \"run_number\": 27, \"metric\": null, \"status\": \"Completed\", \"run_type\": \"azureml.scriptrun\", \"training_percent\": \"100\", \"start_time\": \"2021-02-01T07:09:09.021256Z\", \"end_time\": \"2021-02-01T07:10:22.578068Z\", \"created_time\": \"2021-02-01T07:08:50.046591Z\", \"created_time_dt\": \"2021-02-01T07:08:50.046591Z\", \"duration\": \"0:01:32\", \"iteration\": \"22\", \"goal\": \"accuracy_max\", \"run_name\": \"MaxAbsScaler, ExtremeRandomTrees\", \"run_properties\": \"copy=True\", \"primary_metric\": 0.83410835, \"best_metric\": 0.95131362}, {\"run_id\": \"AutoML_719dc484-cd77-4408-ba66-fb1b871b7adf_23\", \"run_number\": 28, \"metric\": null, \"status\": \"Completed\", \"run_type\": \"azureml.scriptrun\", \"training_percent\": \"100\", \"start_time\": \"2021-02-01T07:09:52.979451Z\", \"end_time\": \"2021-02-01T07:11:08.221135Z\", \"created_time\": \"2021-02-01T07:09:06.032668Z\", \"created_time_dt\": \"2021-02-01T07:09:06.032668Z\", \"duration\": \"0:02:02\", \"iteration\": \"23\", \"goal\": \"accuracy_max\", \"run_name\": \"StandardScalerWrapper, XGBoostClassifier\", \"run_properties\": \"<azureml.automl.runtime.shared.model_wrappers.StandardScalerWrapper object at 0x7f5248843588\", \"primary_metric\": 0.94139346, \"best_metric\": 0.95131362}, {\"run_id\": \"AutoML_719dc484-cd77-4408-ba66-fb1b871b7adf_24\", \"run_number\": 29, \"metric\": null, \"status\": \"Completed\", \"run_type\": \"azureml.scriptrun\", \"training_percent\": \"100\", \"start_time\": \"2021-02-01T07:10:03.623842Z\", \"end_time\": \"2021-02-01T07:11:18.287664Z\", \"created_time\": \"2021-02-01T07:09:50.806794Z\", \"created_time_dt\": \"2021-02-01T07:09:50.806794Z\", \"duration\": \"0:01:27\", \"iteration\": \"24\", \"goal\": \"accuracy_max\", \"run_name\": \"StandardScalerWrapper, LightGBM\", \"run_properties\": \"<azureml.automl.runtime.shared.model_wrappers.StandardScalerWrapper object at 0x7f27d1d5b2e8\", \"primary_metric\": 0.90121995, \"best_metric\": 0.95131362}, {\"run_id\": \"AutoML_719dc484-cd77-4408-ba66-fb1b871b7adf_25\", \"run_number\": 30, \"metric\": null, \"status\": \"Completed\", \"run_type\": \"azureml.scriptrun\", \"training_percent\": \"100\", \"start_time\": \"2021-02-01T07:10:23.065001Z\", \"end_time\": \"2021-02-01T07:11:43.018142Z\", \"created_time\": \"2021-02-01T07:10:04.867778Z\", \"created_time_dt\": \"2021-02-01T07:10:04.867778Z\", \"duration\": \"0:01:38\", \"iteration\": \"25\", \"goal\": \"accuracy_max\", \"run_name\": \"MaxAbsScaler, LightGBM\", \"run_properties\": \"copy=True\", \"primary_metric\": 0.77739864, \"best_metric\": 0.95131362}, {\"run_id\": \"AutoML_719dc484-cd77-4408-ba66-fb1b871b7adf_26\", \"run_number\": 31, \"metric\": null, \"status\": \"Completed\", \"run_type\": \"azureml.scriptrun\", \"training_percent\": \"100\", \"start_time\": \"2021-02-01T07:10:33.307929Z\", \"end_time\": \"2021-02-01T07:11:47.05259Z\", \"created_time\": \"2021-02-01T07:10:21.942202Z\", \"created_time_dt\": \"2021-02-01T07:10:21.942202Z\", \"duration\": \"0:01:25\", \"iteration\": \"26\", \"goal\": \"accuracy_max\", \"run_name\": \"StandardScalerWrapper, ExtremeRandomTrees\", \"run_properties\": \"<azureml.automl.runtime.shared.model_wrappers.StandardScalerWrapper object at 0x7f3ff86c74a8\", \"primary_metric\": 0.85348588, \"best_metric\": 0.95131362}, {\"run_id\": \"AutoML_719dc484-cd77-4408-ba66-fb1b871b7adf_27\", \"run_number\": 32, \"metric\": null, \"status\": \"Completed\", \"run_type\": \"azureml.scriptrun\", \"training_percent\": \"100\", \"start_time\": \"2021-02-01T07:11:11.50329Z\", \"end_time\": \"2021-02-01T07:12:37.517066Z\", \"created_time\": \"2021-02-01T07:10:26.460025Z\", \"created_time_dt\": \"2021-02-01T07:10:26.460025Z\", \"duration\": \"0:02:11\", \"iteration\": \"27\", \"goal\": \"accuracy_max\", \"run_name\": \"SparseNormalizer, XGBoostClassifier\", \"run_properties\": \"<azureml.automl.runtime.shared.model_wrappers.SparseNormalizer object at 0x7fa46085e4e0\", \"primary_metric\": 0.91162072, \"best_metric\": 0.95131362}, {\"run_id\": \"AutoML_719dc484-cd77-4408-ba66-fb1b871b7adf_28\", \"run_number\": 33, \"metric\": null, \"status\": \"Completed\", \"run_type\": \"azureml.scriptrun\", \"training_percent\": \"100\", \"start_time\": \"2021-02-01T07:11:23.533409Z\", \"end_time\": \"2021-02-01T07:12:29.837137Z\", \"created_time\": \"2021-02-01T07:11:10.610496Z\", \"created_time_dt\": \"2021-02-01T07:11:10.610496Z\", \"duration\": \"0:01:19\", \"iteration\": \"28\", \"goal\": \"accuracy_max\", \"run_name\": \"MaxAbsScaler, RandomForest\", \"run_properties\": \"copy=True\", \"primary_metric\": 0.83364334, \"best_metric\": 0.95131362}, {\"run_id\": \"AutoML_719dc484-cd77-4408-ba66-fb1b871b7adf_29\", \"run_number\": 34, \"metric\": null, \"status\": \"Completed\", \"run_type\": \"azureml.scriptrun\", \"training_percent\": \"100\", \"start_time\": \"2021-02-01T07:11:47.282007Z\", \"end_time\": \"2021-02-01T07:13:10.144582Z\", \"created_time\": \"2021-02-01T07:11:20.171139Z\", \"created_time_dt\": \"2021-02-01T07:11:20.171139Z\", \"duration\": \"0:01:49\", \"iteration\": \"29\", \"goal\": \"accuracy_max\", \"run_name\": \"SparseNormalizer, XGBoostClassifier\", \"run_properties\": \"<azureml.automl.runtime.shared.model_wrappers.SparseNormalizer object at 0x7f275b305c18\", \"primary_metric\": 0.90689259, \"best_metric\": 0.95131362}, {\"run_id\": \"AutoML_719dc484-cd77-4408-ba66-fb1b871b7adf_30\", \"run_number\": 35, \"metric\": null, \"status\": \"Completed\", \"run_type\": \"azureml.scriptrun\", \"training_percent\": \"100\", \"start_time\": \"2021-02-01T07:11:58.866872Z\", \"end_time\": \"2021-02-01T07:13:10.7443Z\", \"created_time\": \"2021-02-01T07:11:46.355698Z\", \"created_time_dt\": \"2021-02-01T07:11:46.355698Z\", \"duration\": \"0:01:24\", \"iteration\": \"30\", \"goal\": \"accuracy_max\", \"run_name\": \"StandardScalerWrapper, LightGBM\", \"run_properties\": \"<azureml.automl.runtime.shared.model_wrappers.StandardScalerWrapper object at 0x7fcdb4e98e10\", \"primary_metric\": 0.8435568, \"best_metric\": 0.95131362}, {\"run_id\": \"AutoML_719dc484-cd77-4408-ba66-fb1b871b7adf_31\", \"run_number\": 36, \"metric\": null, \"status\": \"Completed\", \"run_type\": \"azureml.scriptrun\", \"training_percent\": \"100\", \"start_time\": \"2021-02-01T07:12:32.808414Z\", \"end_time\": \"2021-02-01T07:14:13.14346Z\", \"created_time\": \"2021-02-01T07:11:50.963287Z\", \"created_time_dt\": \"2021-02-01T07:11:50.963287Z\", \"duration\": \"0:02:22\", \"iteration\": \"31\", \"goal\": \"accuracy_max\", \"run_name\": \"StandardScalerWrapper, RandomForest\", \"run_properties\": \"<azureml.automl.runtime.shared.model_wrappers.StandardScalerWrapper object at 0x7ff9d5499278\", \"primary_metric\": 0.82370645, \"best_metric\": 0.95131362}, {\"run_id\": \"AutoML_719dc484-cd77-4408-ba66-fb1b871b7adf_32\", \"run_number\": 37, \"metric\": null, \"status\": \"Completed\", \"run_type\": \"azureml.scriptrun\", \"training_percent\": \"100\", \"start_time\": \"2021-02-01T07:12:45.420638Z\", \"end_time\": \"2021-02-01T07:14:25.532328Z\", \"created_time\": \"2021-02-01T07:12:32.249084Z\", \"created_time_dt\": \"2021-02-01T07:12:32.249084Z\", \"duration\": \"0:01:53\", \"iteration\": \"32\", \"goal\": \"accuracy_max\", \"run_name\": \"SparseNormalizer, LightGBM\", \"run_properties\": \"<azureml.automl.runtime.shared.model_wrappers.SparseNormalizer object at 0x7efd3336a8d0\", \"primary_metric\": 0.92627236, \"best_metric\": 0.95131362}, {\"run_id\": \"AutoML_719dc484-cd77-4408-ba66-fb1b871b7adf_33\", \"run_number\": 38, \"metric\": null, \"status\": \"Completed\", \"run_type\": \"azureml.scriptrun\", \"training_percent\": \"100\", \"start_time\": \"2021-02-01T07:13:13.515631Z\", \"end_time\": \"2021-02-01T07:15:21.197915Z\", \"created_time\": \"2021-02-01T07:12:40.17445Z\", \"created_time_dt\": \"2021-02-01T07:12:40.17445Z\", \"duration\": \"0:02:41\", \"iteration\": \"33\", \"goal\": \"accuracy_max\", \"run_name\": \"SparseNormalizer, XGBoostClassifier\", \"run_properties\": \"<azureml.automl.runtime.shared.model_wrappers.SparseNormalizer object at 0x7fdb53fdd5f8\", \"primary_metric\": 0.92249097, \"best_metric\": 0.95131362}, {\"run_id\": \"AutoML_719dc484-cd77-4408-ba66-fb1b871b7adf_35\", \"run_number\": 39, \"metric\": null, \"status\": \"Completed\", \"run_type\": \"azureml.scriptrun\", \"training_percent\": \"100\", \"start_time\": \"2021-02-01T07:13:25.96332Z\", \"end_time\": \"2021-02-01T07:15:13.610202Z\", \"created_time\": \"2021-02-01T07:13:15.454594Z\", \"created_time_dt\": \"2021-02-01T07:13:15.454594Z\", \"duration\": \"0:01:58\", \"iteration\": \"35\", \"goal\": \"accuracy_max\", \"run_name\": \"SparseNormalizer, XGBoostClassifier\", \"run_properties\": \"<azureml.automl.runtime.shared.model_wrappers.SparseNormalizer object at 0x7f2c10589ba8\", \"primary_metric\": 0.92106918, \"best_metric\": 0.95131362}, {\"run_id\": \"AutoML_719dc484-cd77-4408-ba66-fb1b871b7adf_34\", \"run_number\": 40, \"metric\": null, \"status\": \"Completed\", \"run_type\": \"azureml.scriptrun\", \"training_percent\": \"100\", \"start_time\": \"2021-02-01T07:14:15.350406Z\", \"end_time\": \"2021-02-01T07:16:21.467314Z\", \"created_time\": \"2021-02-01T07:13:15.509537Z\", \"created_time_dt\": \"2021-02-01T07:13:15.509537Z\", \"duration\": \"0:03:05\", \"iteration\": \"34\", \"goal\": \"accuracy_max\", \"run_name\": \"StandardScalerWrapper, LightGBM\", \"run_properties\": \"<azureml.automl.runtime.shared.model_wrappers.StandardScalerWrapper object at 0x7f6c028d49b0\", \"primary_metric\": 0.90499688, \"best_metric\": 0.95131362}, {\"run_id\": \"AutoML_719dc484-cd77-4408-ba66-fb1b871b7adf_36\", \"run_number\": 41, \"metric\": null, \"status\": \"Completed\", \"run_type\": \"azureml.scriptrun\", \"training_percent\": \"100\", \"start_time\": \"2021-02-01T07:14:31.95205Z\", \"end_time\": \"2021-02-01T07:16:19.649943Z\", \"created_time\": \"2021-02-01T07:14:17.107903Z\", \"created_time_dt\": \"2021-02-01T07:14:17.107903Z\", \"duration\": \"0:02:02\", \"iteration\": \"36\", \"goal\": \"accuracy_max\", \"run_name\": \"SparseNormalizer, XGBoostClassifier\", \"run_properties\": \"<azureml.automl.runtime.shared.model_wrappers.SparseNormalizer object at 0x7fb312176b38\", \"primary_metric\": 0.92768857, \"best_metric\": 0.95131362}, {\"run_id\": \"AutoML_719dc484-cd77-4408-ba66-fb1b871b7adf_37\", \"run_number\": 42, \"metric\": null, \"status\": \"Completed\", \"run_type\": \"azureml.scriptrun\", \"training_percent\": \"100\", \"start_time\": \"2021-02-01T07:15:14.920147Z\", \"end_time\": \"2021-02-01T07:16:46.539312Z\", \"created_time\": \"2021-02-01T07:14:28.040261Z\", \"created_time_dt\": \"2021-02-01T07:14:28.040261Z\", \"duration\": \"0:02:18\", \"iteration\": \"37\", \"goal\": \"accuracy_max\", \"run_name\": \"SparseNormalizer, XGBoostClassifier\", \"run_properties\": \"<azureml.automl.runtime.shared.model_wrappers.SparseNormalizer object at 0x7f8dfc97ca20\", \"primary_metric\": 0.92910589, \"best_metric\": 0.95131362}, {\"run_id\": \"AutoML_719dc484-cd77-4408-ba66-fb1b871b7adf_38\", \"run_number\": 43, \"metric\": null, \"status\": \"Completed\", \"run_type\": \"azureml.scriptrun\", \"training_percent\": \"100\", \"start_time\": \"2021-02-01T07:15:28.620381Z\", \"end_time\": \"2021-02-01T07:16:52.050626Z\", \"created_time\": \"2021-02-01T07:15:18.390617Z\", \"created_time_dt\": \"2021-02-01T07:15:18.390617Z\", \"duration\": \"0:01:33\", \"iteration\": \"38\", \"goal\": \"accuracy_max\", \"run_name\": \"StandardScalerWrapper, LightGBM\", \"run_properties\": \"<azureml.automl.runtime.shared.model_wrappers.StandardScalerWrapper object at 0x7fdc946518d0\", \"primary_metric\": 0.93761207, \"best_metric\": 0.95131362}, {\"run_id\": \"AutoML_719dc484-cd77-4408-ba66-fb1b871b7adf_39\", \"run_number\": 44, \"metric\": null, \"status\": \"Completed\", \"run_type\": \"azureml.scriptrun\", \"training_percent\": \"100\", \"start_time\": \"2021-02-01T07:16:23.622389Z\", \"end_time\": \"2021-02-01T07:17:47.712269Z\", \"created_time\": \"2021-02-01T07:15:25.227822Z\", \"created_time_dt\": \"2021-02-01T07:15:25.227822Z\", \"duration\": \"0:02:22\", \"iteration\": \"39\", \"goal\": \"accuracy_max\", \"run_name\": \"SparseNormalizer, XGBoostClassifier\", \"run_properties\": \"<azureml.automl.runtime.shared.model_wrappers.SparseNormalizer object at 0x7f5dc534b400\", \"primary_metric\": 0.92107587, \"best_metric\": 0.95131362}, {\"run_id\": \"AutoML_719dc484-cd77-4408-ba66-fb1b871b7adf_40\", \"run_number\": 45, \"metric\": null, \"status\": \"Completed\", \"run_type\": \"azureml.scriptrun\", \"training_percent\": \"100\", \"start_time\": \"2021-02-01T07:16:35.082529Z\", \"end_time\": \"2021-02-01T07:17:47.397463Z\", \"created_time\": \"2021-02-01T07:16:24.288174Z\", \"created_time_dt\": \"2021-02-01T07:16:24.288174Z\", \"duration\": \"0:01:23\", \"iteration\": \"40\", \"goal\": \"accuracy_max\", \"run_name\": \"TruncatedSVDWrapper, LightGBM\", \"run_properties\": \"n_components=0.95, random_state=None\", \"primary_metric\": 0.90264173, \"best_metric\": 0.95131362}, {\"run_id\": \"AutoML_719dc484-cd77-4408-ba66-fb1b871b7adf_41\", \"run_number\": 46, \"metric\": null, \"status\": \"Completed\", \"run_type\": \"azureml.scriptrun\", \"training_percent\": \"100\", \"start_time\": \"2021-02-01T07:16:49.532191Z\", \"end_time\": \"2021-02-01T07:18:13.896595Z\", \"created_time\": \"2021-02-01T07:16:29.049319Z\", \"created_time_dt\": \"2021-02-01T07:16:29.049319Z\", \"duration\": \"0:01:44\", \"iteration\": \"41\", \"goal\": \"accuracy_max\", \"run_name\": \"MinMaxScaler, LightGBM\", \"run_properties\": \"copy=True, feature_range=(0, 1\", \"primary_metric\": 0.92721352, \"best_metric\": 0.95131362}, {\"run_id\": \"AutoML_719dc484-cd77-4408-ba66-fb1b871b7adf_42\", \"run_number\": 47, \"metric\": null, \"status\": \"Completed\", \"run_type\": \"azureml.scriptrun\", \"training_percent\": \"100\", \"start_time\": \"2021-02-01T07:16:58.676332Z\", \"end_time\": \"2021-02-01T07:18:20.533111Z\", \"created_time\": \"2021-02-01T07:16:48.935801Z\", \"created_time_dt\": \"2021-02-01T07:16:48.935801Z\", \"duration\": \"0:01:31\", \"iteration\": \"42\", \"goal\": \"accuracy_max\", \"run_name\": \"SparseNormalizer, XGBoostClassifier\", \"run_properties\": \"<azureml.automl.runtime.shared.model_wrappers.SparseNormalizer object at 0x7f72839a5c18\", \"primary_metric\": 0.93004706, \"best_metric\": 0.95131362}, {\"run_id\": \"AutoML_719dc484-cd77-4408-ba66-fb1b871b7adf_43\", \"run_number\": 48, \"metric\": null, \"status\": \"Completed\", \"run_type\": \"azureml.scriptrun\", \"training_percent\": \"100\", \"start_time\": \"2021-02-01T07:17:49.535999Z\", \"end_time\": \"2021-02-01T07:19:21.10704Z\", \"created_time\": \"2021-02-01T07:16:54.431821Z\", \"created_time_dt\": \"2021-02-01T07:16:54.431821Z\", \"duration\": \"0:02:26\", \"iteration\": \"43\", \"goal\": \"accuracy_max\", \"run_name\": \"SparseNormalizer, XGBoostClassifier\", \"run_properties\": \"<azureml.automl.runtime.shared.model_wrappers.SparseNormalizer object at 0x7f967e85a9b0\", \"primary_metric\": 0.93052768, \"best_metric\": 0.95131362}, {\"run_id\": \"AutoML_719dc484-cd77-4408-ba66-fb1b871b7adf_44\", \"run_number\": 49, \"metric\": null, \"status\": \"Completed\", \"run_type\": \"azureml.scriptrun\", \"training_percent\": \"100\", \"start_time\": \"2021-02-01T07:18:03.492716Z\", \"end_time\": \"2021-02-01T07:19:21.906907Z\", \"created_time\": \"2021-02-01T07:17:50.924262Z\", \"created_time_dt\": \"2021-02-01T07:17:50.924262Z\", \"duration\": \"0:01:30\", \"iteration\": \"44\", \"goal\": \"accuracy_max\", \"run_name\": \"TruncatedSVDWrapper, LightGBM\", \"run_properties\": \"n_components=0.2573684210526316, random_state=None\", \"primary_metric\": 0.88988135, \"best_metric\": 0.95131362}, {\"run_id\": \"AutoML_719dc484-cd77-4408-ba66-fb1b871b7adf_45\", \"run_number\": 50, \"metric\": null, \"status\": \"Completed\", \"run_type\": \"azureml.scriptrun\", \"training_percent\": \"100\", \"start_time\": \"2021-02-01T07:18:18.90153Z\", \"end_time\": \"2021-02-01T07:19:48.534658Z\", \"created_time\": \"2021-02-01T07:17:51.049217Z\", \"created_time_dt\": \"2021-02-01T07:17:51.049217Z\", \"duration\": \"0:01:57\", \"iteration\": \"45\", \"goal\": \"accuracy_max\", \"run_name\": \"SparseNormalizer, XGBoostClassifier\", \"run_properties\": \"<azureml.automl.runtime.shared.model_wrappers.SparseNormalizer object at 0x7f692d444518\", \"primary_metric\": 0.92154423, \"best_metric\": 0.95131362}, {\"run_id\": \"AutoML_719dc484-cd77-4408-ba66-fb1b871b7adf_46\", \"run_number\": 51, \"metric\": null, \"status\": \"Completed\", \"run_type\": \"azureml.scriptrun\", \"training_percent\": \"100\", \"start_time\": \"2021-02-01T07:18:29.967949Z\", \"end_time\": \"2021-02-01T07:20:24.318584Z\", \"created_time\": \"2021-02-01T07:18:16.769425Z\", \"created_time_dt\": \"2021-02-01T07:18:16.769425Z\", \"duration\": \"0:02:07\", \"iteration\": \"46\", \"goal\": \"accuracy_max\", \"run_name\": \"SparseNormalizer, XGBoostClassifier\", \"run_properties\": \"<azureml.automl.runtime.shared.model_wrappers.SparseNormalizer object at 0x7f0a6a532358\", \"primary_metric\": 0.92768857, \"best_metric\": 0.95131362}, {\"run_id\": \"AutoML_719dc484-cd77-4408-ba66-fb1b871b7adf_47\", \"run_number\": 52, \"metric\": null, \"status\": \"Completed\", \"run_type\": \"azureml.scriptrun\", \"training_percent\": \"100\", \"start_time\": \"2021-02-01T07:19:24.04378Z\", \"end_time\": \"2021-02-01T07:21:08.383745Z\", \"created_time\": \"2021-02-01T07:18:22.78676Z\", \"created_time_dt\": \"2021-02-01T07:18:22.78676Z\", \"duration\": \"0:02:45\", \"iteration\": \"47\", \"goal\": \"accuracy_max\", \"run_name\": \"SparseNormalizer, XGBoostClassifier\", \"run_properties\": \"<azureml.automl.runtime.shared.model_wrappers.SparseNormalizer object at 0x7f0ee2d80da0\", \"primary_metric\": 0.93288617, \"best_metric\": 0.95131362}, {\"run_id\": \"AutoML_719dc484-cd77-4408-ba66-fb1b871b7adf_48\", \"run_number\": 53, \"metric\": null, \"status\": \"Completed\", \"run_type\": \"azureml.scriptrun\", \"training_percent\": \"100\", \"start_time\": \"2021-02-01T07:19:35.922593Z\", \"end_time\": \"2021-02-01T07:21:24.171333Z\", \"created_time\": \"2021-02-01T07:19:23.35615Z\", \"created_time_dt\": \"2021-02-01T07:19:23.35615Z\", \"duration\": \"0:02:00\", \"iteration\": \"48\", \"goal\": \"accuracy_max\", \"run_name\": \"SparseNormalizer, XGBoostClassifier\", \"run_properties\": \"<azureml.automl.runtime.shared.model_wrappers.SparseNormalizer object at 0x7f7849cec748\", \"primary_metric\": 0.93052656, \"best_metric\": 0.95131362}, {\"run_id\": \"AutoML_719dc484-cd77-4408-ba66-fb1b871b7adf_49\", \"run_number\": 54, \"metric\": null, \"status\": \"Completed\", \"run_type\": \"azureml.scriptrun\", \"training_percent\": \"100\", \"start_time\": \"2021-02-01T07:19:53.247425Z\", \"end_time\": \"2021-02-01T07:21:25.115136Z\", \"created_time\": \"2021-02-01T07:19:27.846823Z\", \"created_time_dt\": \"2021-02-01T07:19:27.846823Z\", \"duration\": \"0:01:57\", \"iteration\": \"49\", \"goal\": \"accuracy_max\", \"run_name\": \"StandardScalerWrapper, XGBoostClassifier\", \"run_properties\": \"<azureml.automl.runtime.shared.model_wrappers.StandardScalerWrapper object at 0x7ff11ff46d30\", \"primary_metric\": 0.94895178, \"best_metric\": 0.95131362}, {\"run_id\": \"AutoML_719dc484-cd77-4408-ba66-fb1b871b7adf_50\", \"run_number\": 55, \"metric\": null, \"status\": \"Completed\", \"run_type\": \"azureml.scriptrun\", \"training_percent\": \"100\", \"start_time\": \"2021-02-01T07:20:19.947431Z\", \"end_time\": \"2021-02-01T07:21:41.775472Z\", \"created_time\": \"2021-02-01T07:19:51.987768Z\", \"created_time_dt\": \"2021-02-01T07:19:51.987768Z\", \"duration\": \"0:01:49\", \"iteration\": \"50\", \"goal\": \"accuracy_max\", \"run_name\": \"SparseNormalizer, LightGBM\", \"run_properties\": \"<azureml.automl.runtime.shared.model_wrappers.SparseNormalizer object at 0x7f064c762400\", \"primary_metric\": 0.90263616, \"best_metric\": 0.95131362}, {\"run_id\": \"AutoML_719dc484-cd77-4408-ba66-fb1b871b7adf_51\", \"run_number\": 56, \"metric\": null, \"status\": \"Canceled\", \"run_type\": \"azureml.scriptrun\", \"training_percent\": \"100\", \"start_time\": \"2021-02-01T07:21:09.139769Z\", \"end_time\": \"2021-02-01T07:21:49.752853Z\", \"created_time\": \"2021-02-01T07:20:27.491814Z\", \"created_time_dt\": \"2021-02-01T07:20:27.491814Z\", \"duration\": \"0:01:22\", \"iteration\": \"51\", \"goal\": null, \"run_name\": \"StandardScalerWrapper, XGBoostClassifier\", \"run_properties\": null}, {\"run_id\": \"AutoML_719dc484-cd77-4408-ba66-fb1b871b7adf_52\", \"run_number\": 57, \"metric\": null, \"status\": \"Canceled\", \"run_type\": \"azureml.scriptrun\", \"training_percent\": \"100\", \"start_time\": \"2021-02-01T07:21:26.700011Z\", \"end_time\": \"2021-02-01T07:21:50.779868Z\", \"created_time\": \"2021-02-01T07:21:10.587979Z\", \"created_time_dt\": \"2021-02-01T07:21:10.587979Z\", \"duration\": \"0:00:40\", \"iteration\": \"52\", \"goal\": null, \"run_name\": \"Canceled\", \"run_properties\": null}, {\"run_id\": \"AutoML_719dc484-cd77-4408-ba66-fb1b871b7adf_53\", \"run_number\": 58, \"metric\": null, \"status\": \"Canceled\", \"run_type\": \"azureml.scriptrun\", \"training_percent\": \"100\", \"start_time\": \"2021-02-01T07:21:38.952399Z\", \"end_time\": \"2021-02-01T07:21:51.009261Z\", \"created_time\": \"2021-02-01T07:21:26.527439Z\", \"created_time_dt\": \"2021-02-01T07:21:26.527439Z\", \"duration\": \"0:00:24\", \"iteration\": \"53\", \"goal\": null, \"run_name\": \"Canceled\", \"run_properties\": null}, {\"run_id\": \"AutoML_719dc484-cd77-4408-ba66-fb1b871b7adf_54\", \"run_number\": 59, \"metric\": null, \"status\": \"Canceled\", \"run_type\": \"azureml.scriptrun\", \"training_percent\": \"100\", \"start_time\": \"2021-02-01T07:21:31.301231Z\", \"end_time\": \"2021-02-01T07:21:51.704188Z\", \"created_time\": \"2021-02-01T07:21:31.301231Z\", \"created_time_dt\": \"2021-02-01T07:21:31.301231Z\", \"duration\": \"0:00:20\", \"iteration\": \"54\", \"goal\": null, \"run_name\": \"Canceled\", \"run_properties\": null}, {\"run_id\": \"AutoML_719dc484-cd77-4408-ba66-fb1b871b7adf_55\", \"run_number\": 60, \"metric\": null, \"status\": \"Completed\", \"run_type\": \"azureml.scriptrun\", \"training_percent\": \"100\", \"start_time\": \"2021-02-01T07:22:06.206057Z\", \"end_time\": \"2021-02-01T07:24:30.814194Z\", \"created_time\": \"2021-02-01T07:21:53.957713Z\", \"created_time_dt\": \"2021-02-01T07:21:53.957713Z\", \"duration\": \"0:02:36\", \"iteration\": \"55\", \"goal\": \"accuracy_max\", \"run_name\": \"VotingEnsemble\", \"run_properties\": \"classification_labels=None,\\n                              estimators=[('0',\\n                                           Pipeline(memory=None,\\n                                                    steps=[('maxabsscaler',\\n                                                            MaxAbsScaler(copy=True\", \"primary_metric\": 0.95273763, \"best_metric\": 0.95273763}, {\"run_id\": \"AutoML_719dc484-cd77-4408-ba66-fb1b871b7adf_56\", \"run_number\": 61, \"metric\": null, \"status\": \"Completed\", \"run_type\": \"azureml.scriptrun\", \"training_percent\": \"100\", \"start_time\": \"2021-02-01T07:22:05.679872Z\", \"end_time\": \"2021-02-01T07:24:40.925305Z\", \"created_time\": \"2021-02-01T07:21:54.126721Z\", \"created_time_dt\": \"2021-02-01T07:21:54.126721Z\", \"duration\": \"0:02:46\", \"iteration\": \"56\", \"goal\": \"accuracy_max\", \"run_name\": \"StackEnsemble\", \"run_properties\": \"base_learners=[('0',\\n                                        Pipeline(memory=None,\\n                                                 steps=[('maxabsscaler',\\n                                                         MaxAbsScaler(copy=True\", \"primary_metric\": 0.94801062, \"best_metric\": 0.95273763}], \"children_metrics\": {\"categories\": [0], \"series\": {\"balanced_accuracy\": [{\"categories\": [\"0\", \"1\", \"2\", \"3\", \"4\", \"5\", \"6\", \"7\", \"8\", \"9\", \"10\", \"11\", \"12\", \"13\", \"14\", \"15\", \"16\", \"17\", \"18\", \"19\", \"20\", \"21\", \"22\", \"23\", \"24\", \"25\", \"26\", \"27\", \"28\", \"29\", \"30\", \"31\", \"32\", \"33\", \"34\", \"35\", \"36\", \"37\", \"38\", \"39\", \"40\", \"41\", \"42\", \"43\", \"44\", \"45\", \"46\", \"47\", \"48\", \"49\", \"50\", \"55\", \"56\"], \"mode\": \"markers\", \"name\": \"balanced_accuracy\", \"stepped\": false, \"type\": \"scatter\", \"data\": [0.8977513855915948, 0.8824930697042715, 0.7393371568508609, 0.6240461149762503, 0.8570388251511771, 0.8420981702448632, 0.8364471507030393, 0.8190974224504416, 0.8532380304320574, 0.8393992812582571, 0.7830975619085655, 0.750745339604266, 0.7666267723089526, 0.7472510944378252, 0.5625954590020835, 0.7271350780141204, 0.8359606636408797, 0.784854402533894, 0.5915442616752724, 0.8412614509005463, 0.7836419916803108, 0.8150884851327014, 0.47541925217707404, 0.8731307895314983, 0.7340960043173042, 0.3333333333333333, 0.5678560116905682, 0.7742347641921324, 0.8131662165321174, 0.7800843326423965, 0.5142610891715654, 0.7899612647634867, 0.8361554386269651, 0.8256706284166556, 0.7432274004171497, 0.8169820688590554, 0.8378592360612089, 0.8342651272434527, 0.8646729101806996, 0.822208064609989, 0.7771463406562354, 0.8266777770057189, 0.8454837235883679, 0.8471724642197589, 0.7648676348905662, 0.822030673280419, 0.8428865930231233, 0.8510579407539813, 0.8491930321831221, 0.8959450563554092, 0.7800968108380333, 0.90090884758282, 0.8919222706930727]}, {\"categories\": [\"0\", \"1\", \"2\", \"3\", \"4\", \"5\", \"6\", \"7\", \"8\", \"9\", \"10\", \"11\", \"12\", \"13\", \"14\", \"15\", \"16\", \"17\", \"18\", \"19\", \"20\", \"21\", \"22\", \"23\", \"24\", \"25\", \"26\", \"27\", \"28\", \"29\", \"30\", \"31\", \"32\", \"33\", \"34\", \"35\", \"36\", \"37\", \"38\", \"39\", \"40\", \"41\", \"42\", \"43\", \"44\", \"45\", \"46\", \"47\", \"48\", \"49\", \"50\", \"55\", \"56\"], \"mode\": \"lines\", \"name\": \"balanced_accuracy_max\", \"stepped\": true, \"type\": \"scatter\", \"data\": [0.8977513855915948, 0.8977513855915948, 0.8977513855915948, 0.8977513855915948, 0.8977513855915948, 0.8977513855915948, 0.8977513855915948, 0.8977513855915948, 0.8977513855915948, 0.8977513855915948, 0.8977513855915948, 0.8977513855915948, 0.8977513855915948, 0.8977513855915948, 0.8977513855915948, 0.8977513855915948, 0.8977513855915948, 0.8977513855915948, 0.8977513855915948, 0.8977513855915948, 0.8977513855915948, 0.8977513855915948, 0.8977513855915948, 0.8977513855915948, 0.8977513855915948, 0.8977513855915948, 0.8977513855915948, 0.8977513855915948, 0.8977513855915948, 0.8977513855915948, 0.8977513855915948, 0.8977513855915948, 0.8977513855915948, 0.8977513855915948, 0.8977513855915948, 0.8977513855915948, 0.8977513855915948, 0.8977513855915948, 0.8977513855915948, 0.8977513855915948, 0.8977513855915948, 0.8977513855915948, 0.8977513855915948, 0.8977513855915948, 0.8977513855915948, 0.8977513855915948, 0.8977513855915948, 0.8977513855915948, 0.8977513855915948, 0.8977513855915948, 0.8977513855915948, 0.90090884758282, 0.90090884758282]}], \"accuracy\": [{\"categories\": [\"0\", \"1\", \"2\", \"3\", \"4\", \"5\", \"6\", \"7\", \"8\", \"9\", \"10\", \"11\", \"12\", \"13\", \"14\", \"15\", \"16\", \"17\", \"18\", \"19\", \"20\", \"21\", \"22\", \"23\", \"24\", \"25\", \"26\", \"27\", \"28\", \"29\", \"30\", \"31\", \"32\", \"33\", \"34\", \"35\", \"36\", \"37\", \"38\", \"39\", \"40\", \"41\", \"42\", \"43\", \"44\", \"45\", \"46\", \"47\", \"48\", \"49\", \"50\", \"55\", \"56\"], \"mode\": \"markers\", \"name\": \"accuracy\", \"stepped\": false, \"type\": \"scatter\", \"data\": [0.951313617913377, 0.9423413176323654, 0.8964906998528033, 0.8704893170971051, 0.8889357241625406, 0.9239082920736875, 0.9286308488335786, 0.92059413890004, 0.9338340247111825, 0.9182389937106918, 0.9092533119229225, 0.8931910433114769, 0.9068870154779429, 0.908781613809715, 0.8577322806548018, 0.900273205762969, 0.9267407110040591, 0.8927260359516481, 0.8638866586377626, 0.9305232169142246, 0.9097317007895089, 0.9215408805031448, 0.8341083455997145, 0.9413934609036977, 0.9012199473660735, 0.7773986350863107, 0.8534858825103708, 0.9116207234934652, 0.8336433382398859, 0.9068925911057585, 0.8435568044961862, 0.8237064543467595, 0.926272358267541, 0.9224909674829386, 0.9049968776484232, 0.9210691823899371, 0.9276885677327267, 0.9291058923234756, 0.9376120701190954, 0.921075873143316, 0.902641732459075, 0.9272135242428299, 0.9300470582987644, 0.930527677416477, 0.889881350640082, 0.9215442258798341, 0.9276885677327268, 0.9328861679825149, 0.930526562290914, 0.9489517819706499, 0.9026361568312591, 0.9527376332575047, 0.9480106159953611]}, {\"categories\": [\"0\", \"1\", \"2\", \"3\", \"4\", \"5\", \"6\", \"7\", \"8\", \"9\", \"10\", \"11\", \"12\", \"13\", \"14\", \"15\", \"16\", \"17\", \"18\", \"19\", \"20\", \"21\", \"22\", \"23\", \"24\", \"25\", \"26\", \"27\", \"28\", \"29\", \"30\", \"31\", \"32\", \"33\", \"34\", \"35\", \"36\", \"37\", \"38\", \"39\", \"40\", \"41\", \"42\", \"43\", \"44\", \"45\", \"46\", \"47\", \"48\", \"49\", \"50\", \"55\", \"56\"], \"mode\": \"lines\", \"name\": \"accuracy_max\", \"stepped\": true, \"type\": \"scatter\", \"data\": [0.951313617913377, 0.951313617913377, 0.951313617913377, 0.951313617913377, 0.951313617913377, 0.951313617913377, 0.951313617913377, 0.951313617913377, 0.951313617913377, 0.951313617913377, 0.951313617913377, 0.951313617913377, 0.951313617913377, 0.951313617913377, 0.951313617913377, 0.951313617913377, 0.951313617913377, 0.951313617913377, 0.951313617913377, 0.951313617913377, 0.951313617913377, 0.951313617913377, 0.951313617913377, 0.951313617913377, 0.951313617913377, 0.951313617913377, 0.951313617913377, 0.951313617913377, 0.951313617913377, 0.951313617913377, 0.951313617913377, 0.951313617913377, 0.951313617913377, 0.951313617913377, 0.951313617913377, 0.951313617913377, 0.951313617913377, 0.951313617913377, 0.951313617913377, 0.951313617913377, 0.951313617913377, 0.951313617913377, 0.951313617913377, 0.951313617913377, 0.951313617913377, 0.951313617913377, 0.951313617913377, 0.951313617913377, 0.951313617913377, 0.951313617913377, 0.951313617913377, 0.9527376332575047, 0.9527376332575047]}], \"AUC_weighted\": [{\"categories\": [\"0\", \"1\", \"2\", \"3\", \"4\", \"5\", \"6\", \"7\", \"8\", \"9\", \"10\", \"11\", \"12\", \"13\", \"14\", \"15\", \"16\", \"17\", \"18\", \"19\", \"20\", \"21\", \"22\", \"23\", \"24\", \"25\", \"26\", \"27\", \"28\", \"29\", \"30\", \"31\", \"32\", \"33\", \"34\", \"35\", \"36\", \"37\", \"38\", \"39\", \"40\", \"41\", \"42\", \"43\", \"44\", \"45\", \"46\", \"47\", \"48\", \"49\", \"50\", \"55\", \"56\"], \"mode\": \"markers\", \"name\": \"AUC_weighted\", \"stepped\": false, \"type\": \"scatter\", \"data\": [0.9882342086466303, 0.9841890508912507, 0.9664106569615031, 0.9512446043273306, 0.9735918344240699, 0.9801924593483429, 0.9806676197617396, 0.9792138890868642, 0.9814550770652339, 0.9806408322268737, 0.9687296855069361, 0.9527331950307193, 0.9720588143039391, 0.9766000625736115, 0.9500934898897568, 0.9735247976411465, 0.9768805916221602, 0.9699067360537621, 0.9544361083026398, 0.9802225230123829, 0.9668480722340606, 0.9732893882739088, 0.9514804782189368, 0.9843056333624256, 0.9692204019903456, 0.9407045402285676, 0.9567832170078651, 0.9664791498385963, 0.9590319438956015, 0.9638898716925306, 0.964703761132764, 0.9509776714824507, 0.9777689589830352, 0.9771548105061572, 0.9743778979721199, 0.9753868295694836, 0.9804428388866983, 0.9780671275465769, 0.9845329075374398, 0.9751175635068723, 0.9686851907672807, 0.9815547027142619, 0.9810547180439496, 0.981147969427486, 0.9389750241926607, 0.9803588015966845, 0.9786177680755909, 0.9804759358070276, 0.9808964927456628, 0.9869675478329578, 0.961338456693618, 0.9874571209516432, 0.9860192729163506]}, {\"categories\": [\"0\", \"1\", \"2\", \"3\", \"4\", \"5\", \"6\", \"7\", \"8\", \"9\", \"10\", \"11\", \"12\", \"13\", \"14\", \"15\", \"16\", \"17\", \"18\", \"19\", \"20\", \"21\", \"22\", \"23\", \"24\", \"25\", \"26\", \"27\", \"28\", \"29\", \"30\", \"31\", \"32\", \"33\", \"34\", \"35\", \"36\", \"37\", \"38\", \"39\", \"40\", \"41\", \"42\", \"43\", \"44\", \"45\", \"46\", \"47\", \"48\", \"49\", \"50\", \"55\", \"56\"], \"mode\": \"lines\", \"name\": \"AUC_weighted_max\", \"stepped\": true, \"type\": \"scatter\", \"data\": [0.9882342086466303, 0.9882342086466303, 0.9882342086466303, 0.9882342086466303, 0.9882342086466303, 0.9882342086466303, 0.9882342086466303, 0.9882342086466303, 0.9882342086466303, 0.9882342086466303, 0.9882342086466303, 0.9882342086466303, 0.9882342086466303, 0.9882342086466303, 0.9882342086466303, 0.9882342086466303, 0.9882342086466303, 0.9882342086466303, 0.9882342086466303, 0.9882342086466303, 0.9882342086466303, 0.9882342086466303, 0.9882342086466303, 0.9882342086466303, 0.9882342086466303, 0.9882342086466303, 0.9882342086466303, 0.9882342086466303, 0.9882342086466303, 0.9882342086466303, 0.9882342086466303, 0.9882342086466303, 0.9882342086466303, 0.9882342086466303, 0.9882342086466303, 0.9882342086466303, 0.9882342086466303, 0.9882342086466303, 0.9882342086466303, 0.9882342086466303, 0.9882342086466303, 0.9882342086466303, 0.9882342086466303, 0.9882342086466303, 0.9882342086466303, 0.9882342086466303, 0.9882342086466303, 0.9882342086466303, 0.9882342086466303, 0.9882342086466303, 0.9882342086466303, 0.9882342086466303, 0.9882342086466303]}], \"AUC_macro\": [{\"categories\": [\"0\", \"1\", \"2\", \"3\", \"4\", \"5\", \"6\", \"7\", \"8\", \"9\", \"10\", \"11\", \"12\", \"13\", \"14\", \"15\", \"16\", \"17\", \"18\", \"19\", \"20\", \"21\", \"22\", \"23\", \"24\", \"25\", \"26\", \"27\", \"28\", \"29\", \"30\", \"31\", \"32\", \"33\", \"34\", \"35\", \"36\", \"37\", \"38\", \"39\", \"40\", \"41\", \"42\", \"43\", \"44\", \"45\", \"46\", \"47\", \"48\", \"49\", \"50\", \"55\", \"56\"], \"mode\": \"markers\", \"name\": \"AUC_macro\", \"stepped\": false, \"type\": \"scatter\", \"data\": [0.9878574535240121, 0.9853772899660693, 0.965701309361212, 0.9499242931425179, 0.9722321344638475, 0.9798382839198316, 0.9804100172791406, 0.9784822518128731, 0.9817116899310727, 0.9796238424100985, 0.9666725184901687, 0.9534749336482307, 0.9724637277896397, 0.9758986295993852, 0.9501865613103329, 0.9730121117627679, 0.9771703959395375, 0.9671979637640451, 0.9535866586539182, 0.9797459220611955, 0.9688734271469954, 0.9739472747104541, 0.9509157947631042, 0.9851997121924316, 0.967147301804497, 0.9423816367066916, 0.9532188667926059, 0.9660254233283254, 0.9526272305043101, 0.9653492839100366, 0.962499484762511, 0.9453878265374742, 0.9779520830652654, 0.9774451748904086, 0.972686737197565, 0.9758747564779066, 0.9806196818784692, 0.9781806409222972, 0.984974656672436, 0.9758436811682568, 0.9683186225759073, 0.9795754901497762, 0.981250812457817, 0.9810876158933324, 0.943100852539477, 0.9804682509331692, 0.9785510947228045, 0.9809422357616666, 0.9805441618913721, 0.9875868800543051, 0.9612990623094928, 0.9877827227457061, 0.9850523834690463]}, {\"categories\": [\"0\", \"1\", \"2\", \"3\", \"4\", \"5\", \"6\", \"7\", \"8\", \"9\", \"10\", \"11\", \"12\", \"13\", \"14\", \"15\", \"16\", \"17\", \"18\", \"19\", \"20\", \"21\", \"22\", \"23\", \"24\", \"25\", \"26\", \"27\", \"28\", \"29\", \"30\", \"31\", \"32\", \"33\", \"34\", \"35\", \"36\", \"37\", \"38\", \"39\", \"40\", \"41\", \"42\", \"43\", \"44\", \"45\", \"46\", \"47\", \"48\", \"49\", \"50\", \"55\", \"56\"], \"mode\": \"lines\", \"name\": \"AUC_macro_max\", \"stepped\": true, \"type\": \"scatter\", \"data\": [0.9878574535240121, 0.9878574535240121, 0.9878574535240121, 0.9878574535240121, 0.9878574535240121, 0.9878574535240121, 0.9878574535240121, 0.9878574535240121, 0.9878574535240121, 0.9878574535240121, 0.9878574535240121, 0.9878574535240121, 0.9878574535240121, 0.9878574535240121, 0.9878574535240121, 0.9878574535240121, 0.9878574535240121, 0.9878574535240121, 0.9878574535240121, 0.9878574535240121, 0.9878574535240121, 0.9878574535240121, 0.9878574535240121, 0.9878574535240121, 0.9878574535240121, 0.9878574535240121, 0.9878574535240121, 0.9878574535240121, 0.9878574535240121, 0.9878574535240121, 0.9878574535240121, 0.9878574535240121, 0.9878574535240121, 0.9878574535240121, 0.9878574535240121, 0.9878574535240121, 0.9878574535240121, 0.9878574535240121, 0.9878574535240121, 0.9878574535240121, 0.9878574535240121, 0.9878574535240121, 0.9878574535240121, 0.9878574535240121, 0.9878574535240121, 0.9878574535240121, 0.9878574535240121, 0.9878574535240121, 0.9878574535240121, 0.9878574535240121, 0.9878574535240121, 0.9878574535240121, 0.9878574535240121]}], \"f1_score_micro\": [{\"categories\": [\"0\", \"1\", \"2\", \"3\", \"4\", \"5\", \"6\", \"7\", \"8\", \"9\", \"10\", \"11\", \"12\", \"13\", \"14\", \"15\", \"16\", \"17\", \"18\", \"19\", \"20\", \"21\", \"22\", \"23\", \"24\", \"25\", \"26\", \"27\", \"28\", \"29\", \"30\", \"31\", \"32\", \"33\", \"34\", \"35\", \"36\", \"37\", \"38\", \"39\", \"40\", \"41\", \"42\", \"43\", \"44\", \"45\", \"46\", \"47\", \"48\", \"49\", \"50\", \"55\", \"56\"], \"mode\": \"markers\", \"name\": \"f1_score_micro\", \"stepped\": false, \"type\": \"scatter\", \"data\": [0.951313617913377, 0.9423413176323654, 0.8964906998528033, 0.8704893170971051, 0.8889357241625406, 0.9239082920736876, 0.9286308488335786, 0.92059413890004, 0.9338340247111825, 0.9182389937106918, 0.9092533119229225, 0.8931910433114769, 0.9068870154779429, 0.908781613809715, 0.8577322806548018, 0.900273205762969, 0.9267407110040591, 0.8927260359516481, 0.8638866586377626, 0.9305232169142246, 0.9097317007895089, 0.9215408805031448, 0.8341083455997145, 0.9413934609036977, 0.9012199473660735, 0.7773986350863107, 0.8534858825103708, 0.9116207234934652, 0.8336433382398859, 0.9068925911057585, 0.8435568044961862, 0.8237064543467595, 0.926272358267541, 0.9224909674829386, 0.9049968776484232, 0.9210691823899371, 0.9276885677327267, 0.9291058923234756, 0.9376120701190954, 0.921075873143316, 0.902641732459075, 0.9272135242428299, 0.9300470582987644, 0.930527677416477, 0.889881350640082, 0.9215442258798341, 0.9276885677327268, 0.9328861679825149, 0.930526562290914, 0.9489517819706499, 0.9026361568312591, 0.9527376332575047, 0.9480106159953611]}, {\"categories\": [\"0\", \"1\", \"2\", \"3\", \"4\", \"5\", \"6\", \"7\", \"8\", \"9\", \"10\", \"11\", \"12\", \"13\", \"14\", \"15\", \"16\", \"17\", \"18\", \"19\", \"20\", \"21\", \"22\", \"23\", \"24\", \"25\", \"26\", \"27\", \"28\", \"29\", \"30\", \"31\", \"32\", \"33\", \"34\", \"35\", \"36\", \"37\", \"38\", \"39\", \"40\", \"41\", \"42\", \"43\", \"44\", \"45\", \"46\", \"47\", \"48\", \"49\", \"50\", \"55\", \"56\"], \"mode\": \"lines\", \"name\": \"f1_score_micro_max\", \"stepped\": true, \"type\": \"scatter\", \"data\": [0.951313617913377, 0.951313617913377, 0.951313617913377, 0.951313617913377, 0.951313617913377, 0.951313617913377, 0.951313617913377, 0.951313617913377, 0.951313617913377, 0.951313617913377, 0.951313617913377, 0.951313617913377, 0.951313617913377, 0.951313617913377, 0.951313617913377, 0.951313617913377, 0.951313617913377, 0.951313617913377, 0.951313617913377, 0.951313617913377, 0.951313617913377, 0.951313617913377, 0.951313617913377, 0.951313617913377, 0.951313617913377, 0.951313617913377, 0.951313617913377, 0.951313617913377, 0.951313617913377, 0.951313617913377, 0.951313617913377, 0.951313617913377, 0.951313617913377, 0.951313617913377, 0.951313617913377, 0.951313617913377, 0.951313617913377, 0.951313617913377, 0.951313617913377, 0.951313617913377, 0.951313617913377, 0.951313617913377, 0.951313617913377, 0.951313617913377, 0.951313617913377, 0.951313617913377, 0.951313617913377, 0.951313617913377, 0.951313617913377, 0.951313617913377, 0.951313617913377, 0.9527376332575047, 0.9527376332575047]}], \"f1_score_weighted\": [{\"categories\": [\"0\", \"1\", \"2\", \"3\", \"4\", \"5\", \"6\", \"7\", \"8\", \"9\", \"10\", \"11\", \"12\", \"13\", \"14\", \"15\", \"16\", \"17\", \"18\", \"19\", \"20\", \"21\", \"22\", \"23\", \"24\", \"25\", \"26\", \"27\", \"28\", \"29\", \"30\", \"31\", \"32\", \"33\", \"34\", \"35\", \"36\", \"37\", \"38\", \"39\", \"40\", \"41\", \"42\", \"43\", \"44\", \"45\", \"46\", \"47\", \"48\", \"49\", \"50\", \"55\", \"56\"], \"mode\": \"markers\", \"name\": \"f1_score_weighted\", \"stepped\": false, \"type\": \"scatter\", \"data\": [0.9500474747123706, 0.9407141038596603, 0.889115531145678, 0.8521670512844729, 0.8952632288814095, 0.9220063588343381, 0.92568951187759, 0.917375792280805, 0.9318221106314365, 0.9172483662257127, 0.9054820964357685, 0.8884813389287158, 0.9011172036361185, 0.9001110083745244, 0.8274260096893341, 0.8904527779144905, 0.9238449692711559, 0.8921992628662961, 0.8383376890571265, 0.9277895089078777, 0.9048685256676652, 0.9176428991006421, 0.7860219493893232, 0.938815547225482, 0.8930685099597341, 0.6802364942021473, 0.8271150846103483, 0.9054616573642196, 0.8476205126391602, 0.9014456664230714, 0.8046866780109463, 0.838206743761402, 0.9235208355306108, 0.919665979971454, 0.8961129128862317, 0.9174889350481908, 0.9250946643415009, 0.9263275273840538, 0.935215313399447, 0.9178355391511825, 0.8980233675714213, 0.9249565937840314, 0.9273104233413741, 0.9281974625605537, 0.8849843532728737, 0.9184224010492569, 0.925286000010141, 0.9309380312453568, 0.9285301620357668, 0.9474343145328842, 0.8983527771755156, 0.9514295442283691, 0.946752716351078]}, {\"categories\": [\"0\", \"1\", \"2\", \"3\", \"4\", \"5\", \"6\", \"7\", \"8\", \"9\", \"10\", \"11\", \"12\", \"13\", \"14\", \"15\", \"16\", \"17\", \"18\", \"19\", \"20\", \"21\", \"22\", \"23\", \"24\", \"25\", \"26\", \"27\", \"28\", \"29\", \"30\", \"31\", \"32\", \"33\", \"34\", \"35\", \"36\", \"37\", \"38\", \"39\", \"40\", \"41\", \"42\", \"43\", \"44\", \"45\", \"46\", \"47\", \"48\", \"49\", \"50\", \"55\", \"56\"], \"mode\": \"lines\", \"name\": \"f1_score_weighted_max\", \"stepped\": true, \"type\": \"scatter\", \"data\": [0.9500474747123706, 0.9500474747123706, 0.9500474747123706, 0.9500474747123706, 0.9500474747123706, 0.9500474747123706, 0.9500474747123706, 0.9500474747123706, 0.9500474747123706, 0.9500474747123706, 0.9500474747123706, 0.9500474747123706, 0.9500474747123706, 0.9500474747123706, 0.9500474747123706, 0.9500474747123706, 0.9500474747123706, 0.9500474747123706, 0.9500474747123706, 0.9500474747123706, 0.9500474747123706, 0.9500474747123706, 0.9500474747123706, 0.9500474747123706, 0.9500474747123706, 0.9500474747123706, 0.9500474747123706, 0.9500474747123706, 0.9500474747123706, 0.9500474747123706, 0.9500474747123706, 0.9500474747123706, 0.9500474747123706, 0.9500474747123706, 0.9500474747123706, 0.9500474747123706, 0.9500474747123706, 0.9500474747123706, 0.9500474747123706, 0.9500474747123706, 0.9500474747123706, 0.9500474747123706, 0.9500474747123706, 0.9500474747123706, 0.9500474747123706, 0.9500474747123706, 0.9500474747123706, 0.9500474747123706, 0.9500474747123706, 0.9500474747123706, 0.9500474747123706, 0.9514295442283691, 0.9514295442283691]}], \"log_loss\": [{\"categories\": [\"0\", \"1\", \"2\", \"3\", \"4\", \"5\", \"6\", \"7\", \"8\", \"9\", \"10\", \"11\", \"12\", \"13\", \"14\", \"15\", \"16\", \"17\", \"18\", \"19\", \"20\", \"21\", \"22\", \"23\", \"24\", \"25\", \"26\", \"27\", \"28\", \"29\", \"30\", \"31\", \"32\", \"33\", \"34\", \"35\", \"36\", \"37\", \"38\", \"39\", \"40\", \"41\", \"42\", \"43\", \"44\", \"45\", \"46\", \"47\", \"48\", \"49\", \"50\", \"55\", \"56\"], \"mode\": \"markers\", \"name\": \"log_loss\", \"stepped\": false, \"type\": \"scatter\", \"data\": [0.17746708480170917, 0.15440218892750723, 0.28751236695906274, 0.35123263299193824, 0.3188539674041966, 0.19146631325503236, 0.1963707356328493, 0.24690165345240822, 0.1842401588512391, 0.1945558645086706, 0.26205828985977336, 0.3071861411879529, 0.26831788707122256, 0.30190523161351995, 0.36609331062437894, 0.3177352874761743, 0.2487750654086332, 0.25124827536450567, 0.3337581756143402, 0.19414166649508285, 0.30795624638459207, 0.4754535926220715, 0.3826011276042098, 0.22796536015960928, 0.29661333246514554, 0.6781711278646619, 0.37836534643976644, 0.5183825523645249, 0.48218079402740105, 0.5037089113573866, 0.3924197307694241, 0.5519238121825403, 0.1984949311249669, 0.19702925439587177, 0.30144584659814166, 0.2644376024505176, 0.19263645401551208, 0.20469955753669322, 0.17394911949785186, 0.20805388308216308, 0.24898757132448993, 0.19773908676936414, 0.18886316802260467, 0.18597282354834768, 0.30369187823243965, 0.19700097174860337, 0.22654097324344966, 0.19035497644828236, 0.22684185895520392, 0.1487609679476314, 0.2662222557263417, 0.1721237656562539, 0.16670017003137552]}, {\"categories\": [\"0\", \"1\", \"2\", \"3\", \"4\", \"5\", \"6\", \"7\", \"8\", \"9\", \"10\", \"11\", \"12\", \"13\", \"14\", \"15\", \"16\", \"17\", \"18\", \"19\", \"20\", \"21\", \"22\", \"23\", \"24\", \"25\", \"26\", \"27\", \"28\", \"29\", \"30\", \"31\", \"32\", \"33\", \"34\", \"35\", \"36\", \"37\", \"38\", \"39\", \"40\", \"41\", \"42\", \"43\", \"44\", \"45\", \"46\", \"47\", \"48\", \"49\", \"50\", \"55\", \"56\"], \"mode\": \"lines\", \"name\": \"log_loss_min\", \"stepped\": true, \"type\": \"scatter\", \"data\": [0.17746708480170917, 0.15440218892750723, 0.15440218892750723, 0.15440218892750723, 0.15440218892750723, 0.15440218892750723, 0.15440218892750723, 0.15440218892750723, 0.15440218892750723, 0.15440218892750723, 0.15440218892750723, 0.15440218892750723, 0.15440218892750723, 0.15440218892750723, 0.15440218892750723, 0.15440218892750723, 0.15440218892750723, 0.15440218892750723, 0.15440218892750723, 0.15440218892750723, 0.15440218892750723, 0.15440218892750723, 0.15440218892750723, 0.15440218892750723, 0.15440218892750723, 0.15440218892750723, 0.15440218892750723, 0.15440218892750723, 0.15440218892750723, 0.15440218892750723, 0.15440218892750723, 0.15440218892750723, 0.15440218892750723, 0.15440218892750723, 0.15440218892750723, 0.15440218892750723, 0.15440218892750723, 0.15440218892750723, 0.15440218892750723, 0.15440218892750723, 0.15440218892750723, 0.15440218892750723, 0.15440218892750723, 0.15440218892750723, 0.15440218892750723, 0.15440218892750723, 0.15440218892750723, 0.15440218892750723, 0.15440218892750723, 0.1487609679476314, 0.1487609679476314, 0.1487609679476314, 0.1487609679476314]}], \"f1_score_macro\": [{\"categories\": [\"0\", \"1\", \"2\", \"3\", \"4\", \"5\", \"6\", \"7\", \"8\", \"9\", \"10\", \"11\", \"12\", \"13\", \"14\", \"15\", \"16\", \"17\", \"18\", \"19\", \"20\", \"21\", \"22\", \"23\", \"24\", \"25\", \"26\", \"27\", \"28\", \"29\", \"30\", \"31\", \"32\", \"33\", \"34\", \"35\", \"36\", \"37\", \"38\", \"39\", \"40\", \"41\", \"42\", \"43\", \"44\", \"45\", \"46\", \"47\", \"48\", \"49\", \"50\", \"55\", \"56\"], \"mode\": \"markers\", \"name\": \"f1_score_macro\", \"stepped\": false, \"type\": \"scatter\", \"data\": [0.9112127430424609, 0.8983145012369402, 0.7854365486756274, 0.6701445348029407, 0.8168317809323066, 0.8563045310427485, 0.8582469708086569, 0.8410245395989542, 0.8757936003844786, 0.8465322213421926, 0.8085890852835511, 0.7871472757652677, 0.8105489825484895, 0.8025402543658607, 0.6058250035074165, 0.7842097303320188, 0.8608797791031915, 0.7947987248738358, 0.6155857355412981, 0.8634140416368121, 0.8210444759284803, 0.8452456868880536, 0.48053657776441516, 0.8965477939473473, 0.7816882859905044, 0.29152025865682474, 0.6306769990514922, 0.8200211612235473, 0.7296382089712987, 0.8117285442169138, 0.5610673659043937, 0.7138540710050935, 0.8574135083254767, 0.8491471590229038, 0.7984228571377386, 0.8441905659087556, 0.8580826736302216, 0.8621829220905735, 0.8847812493865004, 0.848434513211927, 0.8106903792093592, 0.8481576894288722, 0.865249944990276, 0.8654666712798094, 0.7900525043373978, 0.8447251423392494, 0.8610576450864326, 0.8704979328794661, 0.8643045917300853, 0.9096717781476171, 0.8048814075864726, 0.9174440105525207, 0.9083022684639767]}, {\"categories\": [\"0\", \"1\", \"2\", \"3\", \"4\", \"5\", \"6\", \"7\", \"8\", \"9\", \"10\", \"11\", \"12\", \"13\", \"14\", \"15\", \"16\", \"17\", \"18\", \"19\", \"20\", \"21\", \"22\", \"23\", \"24\", \"25\", \"26\", \"27\", \"28\", \"29\", \"30\", \"31\", \"32\", \"33\", \"34\", \"35\", \"36\", \"37\", \"38\", \"39\", \"40\", \"41\", \"42\", \"43\", \"44\", \"45\", \"46\", \"47\", \"48\", \"49\", \"50\", \"55\", \"56\"], \"mode\": \"lines\", \"name\": \"f1_score_macro_max\", \"stepped\": true, \"type\": \"scatter\", \"data\": [0.9112127430424609, 0.9112127430424609, 0.9112127430424609, 0.9112127430424609, 0.9112127430424609, 0.9112127430424609, 0.9112127430424609, 0.9112127430424609, 0.9112127430424609, 0.9112127430424609, 0.9112127430424609, 0.9112127430424609, 0.9112127430424609, 0.9112127430424609, 0.9112127430424609, 0.9112127430424609, 0.9112127430424609, 0.9112127430424609, 0.9112127430424609, 0.9112127430424609, 0.9112127430424609, 0.9112127430424609, 0.9112127430424609, 0.9112127430424609, 0.9112127430424609, 0.9112127430424609, 0.9112127430424609, 0.9112127430424609, 0.9112127430424609, 0.9112127430424609, 0.9112127430424609, 0.9112127430424609, 0.9112127430424609, 0.9112127430424609, 0.9112127430424609, 0.9112127430424609, 0.9112127430424609, 0.9112127430424609, 0.9112127430424609, 0.9112127430424609, 0.9112127430424609, 0.9112127430424609, 0.9112127430424609, 0.9112127430424609, 0.9112127430424609, 0.9112127430424609, 0.9112127430424609, 0.9112127430424609, 0.9112127430424609, 0.9112127430424609, 0.9112127430424609, 0.9174440105525207, 0.9174440105525207]}], \"precision_score_micro\": [{\"categories\": [\"0\", \"1\", \"2\", \"3\", \"4\", \"5\", \"6\", \"7\", \"8\", \"9\", \"10\", \"11\", \"12\", \"13\", \"14\", \"15\", \"16\", \"17\", \"18\", \"19\", \"20\", \"21\", \"22\", \"23\", \"24\", \"25\", \"26\", \"27\", \"28\", \"29\", \"30\", \"31\", \"32\", \"33\", \"34\", \"35\", \"36\", \"37\", \"38\", \"39\", \"40\", \"41\", \"42\", \"43\", \"44\", \"45\", \"46\", \"47\", \"48\", \"49\", \"50\", \"55\", \"56\"], \"mode\": \"markers\", \"name\": \"precision_score_micro\", \"stepped\": false, \"type\": \"scatter\", \"data\": [0.951313617913377, 0.9423413176323654, 0.8964906998528033, 0.8704893170971051, 0.8889357241625406, 0.9239082920736875, 0.9286308488335786, 0.92059413890004, 0.9338340247111825, 0.9182389937106918, 0.9092533119229225, 0.8931910433114769, 0.9068870154779429, 0.908781613809715, 0.8577322806548018, 0.900273205762969, 0.9267407110040591, 0.8927260359516481, 0.8638866586377626, 0.9305232169142246, 0.9097317007895089, 0.9215408805031448, 0.8341083455997145, 0.9413934609036977, 0.9012199473660735, 0.7773986350863107, 0.8534858825103708, 0.9116207234934652, 0.8336433382398859, 0.9068925911057585, 0.8435568044961862, 0.8237064543467595, 0.926272358267541, 0.9224909674829386, 0.9049968776484232, 0.9210691823899371, 0.9276885677327267, 0.9291058923234756, 0.9376120701190954, 0.921075873143316, 0.902641732459075, 0.9272135242428299, 0.9300470582987644, 0.930527677416477, 0.889881350640082, 0.9215442258798341, 0.9276885677327268, 0.9328861679825149, 0.930526562290914, 0.9489517819706499, 0.9026361568312591, 0.9527376332575047, 0.9480106159953611]}, {\"categories\": [\"0\", \"1\", \"2\", \"3\", \"4\", \"5\", \"6\", \"7\", \"8\", \"9\", \"10\", \"11\", \"12\", \"13\", \"14\", \"15\", \"16\", \"17\", \"18\", \"19\", \"20\", \"21\", \"22\", \"23\", \"24\", \"25\", \"26\", \"27\", \"28\", \"29\", \"30\", \"31\", \"32\", \"33\", \"34\", \"35\", \"36\", \"37\", \"38\", \"39\", \"40\", \"41\", \"42\", \"43\", \"44\", \"45\", \"46\", \"47\", \"48\", \"49\", \"50\", \"55\", \"56\"], \"mode\": \"lines\", \"name\": \"precision_score_micro_max\", \"stepped\": true, \"type\": \"scatter\", \"data\": [0.951313617913377, 0.951313617913377, 0.951313617913377, 0.951313617913377, 0.951313617913377, 0.951313617913377, 0.951313617913377, 0.951313617913377, 0.951313617913377, 0.951313617913377, 0.951313617913377, 0.951313617913377, 0.951313617913377, 0.951313617913377, 0.951313617913377, 0.951313617913377, 0.951313617913377, 0.951313617913377, 0.951313617913377, 0.951313617913377, 0.951313617913377, 0.951313617913377, 0.951313617913377, 0.951313617913377, 0.951313617913377, 0.951313617913377, 0.951313617913377, 0.951313617913377, 0.951313617913377, 0.951313617913377, 0.951313617913377, 0.951313617913377, 0.951313617913377, 0.951313617913377, 0.951313617913377, 0.951313617913377, 0.951313617913377, 0.951313617913377, 0.951313617913377, 0.951313617913377, 0.951313617913377, 0.951313617913377, 0.951313617913377, 0.951313617913377, 0.951313617913377, 0.951313617913377, 0.951313617913377, 0.951313617913377, 0.951313617913377, 0.951313617913377, 0.951313617913377, 0.9527376332575047, 0.9527376332575047]}], \"recall_score_micro\": [{\"categories\": [\"0\", \"1\", \"2\", \"3\", \"4\", \"5\", \"6\", \"7\", \"8\", \"9\", \"10\", \"11\", \"12\", \"13\", \"14\", \"15\", \"16\", \"17\", \"18\", \"19\", \"20\", \"21\", \"22\", \"23\", \"24\", \"25\", \"26\", \"27\", \"28\", \"29\", \"30\", \"31\", \"32\", \"33\", \"34\", \"35\", \"36\", \"37\", \"38\", \"39\", \"40\", \"41\", \"42\", \"43\", \"44\", \"45\", \"46\", \"47\", \"48\", \"49\", \"50\", \"55\", \"56\"], \"mode\": \"markers\", \"name\": \"recall_score_micro\", \"stepped\": false, \"type\": \"scatter\", \"data\": [0.951313617913377, 0.9423413176323654, 0.8964906998528033, 0.8704893170971051, 0.8889357241625406, 0.9239082920736875, 0.9286308488335786, 0.92059413890004, 0.9338340247111825, 0.9182389937106918, 0.9092533119229225, 0.8931910433114769, 0.9068870154779429, 0.908781613809715, 0.8577322806548018, 0.900273205762969, 0.9267407110040591, 0.8927260359516481, 0.8638866586377626, 0.9305232169142246, 0.9097317007895089, 0.9215408805031448, 0.8341083455997145, 0.9413934609036977, 0.9012199473660735, 0.7773986350863107, 0.8534858825103708, 0.9116207234934652, 0.8336433382398859, 0.9068925911057585, 0.8435568044961862, 0.8237064543467595, 0.926272358267541, 0.9224909674829386, 0.9049968776484232, 0.9210691823899371, 0.9276885677327267, 0.9291058923234756, 0.9376120701190954, 0.921075873143316, 0.902641732459075, 0.9272135242428299, 0.9300470582987644, 0.930527677416477, 0.889881350640082, 0.9215442258798341, 0.9276885677327268, 0.9328861679825149, 0.930526562290914, 0.9489517819706499, 0.9026361568312591, 0.9527376332575047, 0.9480106159953611]}, {\"categories\": [\"0\", \"1\", \"2\", \"3\", \"4\", \"5\", \"6\", \"7\", \"8\", \"9\", \"10\", \"11\", \"12\", \"13\", \"14\", \"15\", \"16\", \"17\", \"18\", \"19\", \"20\", \"21\", \"22\", \"23\", \"24\", \"25\", \"26\", \"27\", \"28\", \"29\", \"30\", \"31\", \"32\", \"33\", \"34\", \"35\", \"36\", \"37\", \"38\", \"39\", \"40\", \"41\", \"42\", \"43\", \"44\", \"45\", \"46\", \"47\", \"48\", \"49\", \"50\", \"55\", \"56\"], \"mode\": \"lines\", \"name\": \"recall_score_micro_max\", \"stepped\": true, \"type\": \"scatter\", \"data\": [0.951313617913377, 0.951313617913377, 0.951313617913377, 0.951313617913377, 0.951313617913377, 0.951313617913377, 0.951313617913377, 0.951313617913377, 0.951313617913377, 0.951313617913377, 0.951313617913377, 0.951313617913377, 0.951313617913377, 0.951313617913377, 0.951313617913377, 0.951313617913377, 0.951313617913377, 0.951313617913377, 0.951313617913377, 0.951313617913377, 0.951313617913377, 0.951313617913377, 0.951313617913377, 0.951313617913377, 0.951313617913377, 0.951313617913377, 0.951313617913377, 0.951313617913377, 0.951313617913377, 0.951313617913377, 0.951313617913377, 0.951313617913377, 0.951313617913377, 0.951313617913377, 0.951313617913377, 0.951313617913377, 0.951313617913377, 0.951313617913377, 0.951313617913377, 0.951313617913377, 0.951313617913377, 0.951313617913377, 0.951313617913377, 0.951313617913377, 0.951313617913377, 0.951313617913377, 0.951313617913377, 0.951313617913377, 0.951313617913377, 0.951313617913377, 0.951313617913377, 0.9527376332575047, 0.9527376332575047]}], \"recall_score_weighted\": [{\"categories\": [\"0\", \"1\", \"2\", \"3\", \"4\", \"5\", \"6\", \"7\", \"8\", \"9\", \"10\", \"11\", \"12\", \"13\", \"14\", \"15\", \"16\", \"17\", \"18\", \"19\", \"20\", \"21\", \"22\", \"23\", \"24\", \"25\", \"26\", \"27\", \"28\", \"29\", \"30\", \"31\", \"32\", \"33\", \"34\", \"35\", \"36\", \"37\", \"38\", \"39\", \"40\", \"41\", \"42\", \"43\", \"44\", \"45\", \"46\", \"47\", \"48\", \"49\", \"50\", \"55\", \"56\"], \"mode\": \"markers\", \"name\": \"recall_score_weighted\", \"stepped\": false, \"type\": \"scatter\", \"data\": [0.951313617913377, 0.9423413176323654, 0.8964906998528033, 0.8704893170971051, 0.8889357241625406, 0.9239082920736875, 0.9286308488335786, 0.92059413890004, 0.9338340247111825, 0.9182389937106918, 0.9092533119229225, 0.8931910433114769, 0.9068870154779429, 0.908781613809715, 0.8577322806548018, 0.900273205762969, 0.9267407110040591, 0.8927260359516481, 0.8638866586377626, 0.9305232169142246, 0.9097317007895089, 0.9215408805031448, 0.8341083455997145, 0.9413934609036977, 0.9012199473660735, 0.7773986350863107, 0.8534858825103708, 0.9116207234934652, 0.8336433382398859, 0.9068925911057585, 0.8435568044961862, 0.8237064543467595, 0.926272358267541, 0.9224909674829386, 0.9049968776484232, 0.9210691823899371, 0.9276885677327267, 0.9291058923234756, 0.9376120701190954, 0.921075873143316, 0.902641732459075, 0.9272135242428299, 0.9300470582987644, 0.930527677416477, 0.889881350640082, 0.9215442258798341, 0.9276885677327268, 0.9328861679825149, 0.930526562290914, 0.9489517819706499, 0.9026361568312591, 0.9527376332575047, 0.9480106159953611]}, {\"categories\": [\"0\", \"1\", \"2\", \"3\", \"4\", \"5\", \"6\", \"7\", \"8\", \"9\", \"10\", \"11\", \"12\", \"13\", \"14\", \"15\", \"16\", \"17\", \"18\", \"19\", \"20\", \"21\", \"22\", \"23\", \"24\", \"25\", \"26\", \"27\", \"28\", \"29\", \"30\", \"31\", \"32\", \"33\", \"34\", \"35\", \"36\", \"37\", \"38\", \"39\", \"40\", \"41\", \"42\", \"43\", \"44\", \"45\", \"46\", \"47\", \"48\", \"49\", \"50\", \"55\", \"56\"], \"mode\": \"lines\", \"name\": \"recall_score_weighted_max\", \"stepped\": true, \"type\": \"scatter\", \"data\": [0.951313617913377, 0.951313617913377, 0.951313617913377, 0.951313617913377, 0.951313617913377, 0.951313617913377, 0.951313617913377, 0.951313617913377, 0.951313617913377, 0.951313617913377, 0.951313617913377, 0.951313617913377, 0.951313617913377, 0.951313617913377, 0.951313617913377, 0.951313617913377, 0.951313617913377, 0.951313617913377, 0.951313617913377, 0.951313617913377, 0.951313617913377, 0.951313617913377, 0.951313617913377, 0.951313617913377, 0.951313617913377, 0.951313617913377, 0.951313617913377, 0.951313617913377, 0.951313617913377, 0.951313617913377, 0.951313617913377, 0.951313617913377, 0.951313617913377, 0.951313617913377, 0.951313617913377, 0.951313617913377, 0.951313617913377, 0.951313617913377, 0.951313617913377, 0.951313617913377, 0.951313617913377, 0.951313617913377, 0.951313617913377, 0.951313617913377, 0.951313617913377, 0.951313617913377, 0.951313617913377, 0.951313617913377, 0.951313617913377, 0.951313617913377, 0.951313617913377, 0.9527376332575047, 0.9527376332575047]}], \"average_precision_score_micro\": [{\"categories\": [\"0\", \"1\", \"2\", \"3\", \"4\", \"5\", \"6\", \"7\", \"8\", \"9\", \"10\", \"11\", \"12\", \"13\", \"14\", \"15\", \"16\", \"17\", \"18\", \"19\", \"20\", \"21\", \"22\", \"23\", \"24\", \"25\", \"26\", \"27\", \"28\", \"29\", \"30\", \"31\", \"32\", \"33\", \"34\", \"35\", \"36\", \"37\", \"38\", \"39\", \"40\", \"41\", \"42\", \"43\", \"44\", \"45\", \"46\", \"47\", \"48\", \"49\", \"50\", \"55\", \"56\"], \"mode\": \"markers\", \"name\": \"average_precision_score_micro\", \"stepped\": false, \"type\": \"scatter\", \"data\": [0.9888258410479484, 0.9870538409502846, 0.9664776434883422, 0.9495784616692344, 0.9621569536166368, 0.9810470117040392, 0.9820364091427705, 0.9811524350179969, 0.9832353641698848, 0.9805783297778156, 0.9697278420596709, 0.9574933593727983, 0.9718542165386603, 0.9689407872148245, 0.9476801311893167, 0.9657291080246946, 0.9796247457003137, 0.9679168586980055, 0.9529961027893196, 0.9815633329840567, 0.9708440064911225, 0.977136349092582, 0.9415784362382554, 0.9863038414084672, 0.9662037776587631, 0.9065699333360986, 0.9454622368904237, 0.9692946808640162, 0.9219033849668502, 0.9690118369792925, 0.9471373037003936, 0.9126062851922022, 0.9800426806074608, 0.9799418958506523, 0.9674856835168095, 0.9783349245666166, 0.9821663243627647, 0.9798909570602163, 0.985596776740217, 0.9781216700354806, 0.9710453823886697, 0.9811257139020325, 0.9825726672037485, 0.9827501294160863, 0.9519628526466806, 0.981905184805344, 0.9811956358719154, 0.9826245615237672, 0.9824071374552015, 0.988361509110429, 0.9653036978370955, 0.9883976937037154, 0.9868575241632094]}, {\"categories\": [\"0\", \"1\", \"2\", \"3\", \"4\", \"5\", \"6\", \"7\", \"8\", \"9\", \"10\", \"11\", \"12\", \"13\", \"14\", \"15\", \"16\", \"17\", \"18\", \"19\", \"20\", \"21\", \"22\", \"23\", \"24\", \"25\", \"26\", \"27\", \"28\", \"29\", \"30\", \"31\", \"32\", \"33\", \"34\", \"35\", \"36\", \"37\", \"38\", \"39\", \"40\", \"41\", \"42\", \"43\", \"44\", \"45\", \"46\", \"47\", \"48\", \"49\", \"50\", \"55\", \"56\"], \"mode\": \"lines\", \"name\": \"average_precision_score_micro_max\", \"stepped\": true, \"type\": \"scatter\", \"data\": [0.9888258410479484, 0.9888258410479484, 0.9888258410479484, 0.9888258410479484, 0.9888258410479484, 0.9888258410479484, 0.9888258410479484, 0.9888258410479484, 0.9888258410479484, 0.9888258410479484, 0.9888258410479484, 0.9888258410479484, 0.9888258410479484, 0.9888258410479484, 0.9888258410479484, 0.9888258410479484, 0.9888258410479484, 0.9888258410479484, 0.9888258410479484, 0.9888258410479484, 0.9888258410479484, 0.9888258410479484, 0.9888258410479484, 0.9888258410479484, 0.9888258410479484, 0.9888258410479484, 0.9888258410479484, 0.9888258410479484, 0.9888258410479484, 0.9888258410479484, 0.9888258410479484, 0.9888258410479484, 0.9888258410479484, 0.9888258410479484, 0.9888258410479484, 0.9888258410479484, 0.9888258410479484, 0.9888258410479484, 0.9888258410479484, 0.9888258410479484, 0.9888258410479484, 0.9888258410479484, 0.9888258410479484, 0.9888258410479484, 0.9888258410479484, 0.9888258410479484, 0.9888258410479484, 0.9888258410479484, 0.9888258410479484, 0.9888258410479484, 0.9888258410479484, 0.9888258410479484, 0.9888258410479484]}], \"weighted_accuracy\": [{\"categories\": [\"0\", \"1\", \"2\", \"3\", \"4\", \"5\", \"6\", \"7\", \"8\", \"9\", \"10\", \"11\", \"12\", \"13\", \"14\", \"15\", \"16\", \"17\", \"18\", \"19\", \"20\", \"21\", \"22\", \"23\", \"24\", \"25\", \"26\", \"27\", \"28\", \"29\", \"30\", \"31\", \"32\", \"33\", \"34\", \"35\", \"36\", \"37\", \"38\", \"39\", \"40\", \"41\", \"42\", \"43\", \"44\", \"45\", \"46\", \"47\", \"48\", \"49\", \"50\", \"55\", \"56\"], \"mode\": \"markers\", \"name\": \"weighted_accuracy\", \"stepped\": false, \"type\": \"scatter\", \"data\": [0.9771903575116936, 0.9706563499843505, 0.962886359169825, 0.9633948073233141, 0.9002578308920481, 0.9612883016143341, 0.97007585925121, 0.9651370883312375, 0.9700804204719804, 0.9533446758554612, 0.9609794664348221, 0.9514839262029021, 0.9672027685333937, 0.9775943791001861, 0.9677484364763214, 0.9738942464982303, 0.9684949279816187, 0.9393633117638004, 0.9609940861368902, 0.9704538369556754, 0.9636810437019261, 0.9687000484688809, 0.9670495719721849, 0.9746004860194626, 0.9696784876254514, 0.9572385921900126, 0.9684248019786409, 0.9716812053538935, 0.8393587428573293, 0.9628696544718561, 0.970001001340646, 0.8328835374482197, 0.9671031145802657, 0.9655045071948722, 0.9751337293486946, 0.967553396725515, 0.9674411461982135, 0.9712064609361304, 0.9720306369046986, 0.9651806909595191, 0.958162186148166, 0.9688502599018062, 0.9687572619581821, 0.9680381854674215, 0.9464867161833326, 0.9653090331937001, 0.9667447062190575, 0.9689808179127644, 0.9675035385612623, 0.9743543564412255, 0.9562399053089271, 0.9771936924343023, 0.9737992418876734]}, {\"categories\": [\"0\", \"1\", \"2\", \"3\", \"4\", \"5\", \"6\", \"7\", \"8\", \"9\", \"10\", \"11\", \"12\", \"13\", \"14\", \"15\", \"16\", \"17\", \"18\", \"19\", \"20\", \"21\", \"22\", \"23\", \"24\", \"25\", \"26\", \"27\", \"28\", \"29\", \"30\", \"31\", \"32\", \"33\", \"34\", \"35\", \"36\", \"37\", \"38\", \"39\", \"40\", \"41\", \"42\", \"43\", \"44\", \"45\", \"46\", \"47\", \"48\", \"49\", \"50\", \"55\", \"56\"], \"mode\": \"lines\", \"name\": \"weighted_accuracy_max\", \"stepped\": true, \"type\": \"scatter\", \"data\": [0.9771903575116936, 0.9771903575116936, 0.9771903575116936, 0.9771903575116936, 0.9771903575116936, 0.9771903575116936, 0.9771903575116936, 0.9771903575116936, 0.9771903575116936, 0.9771903575116936, 0.9771903575116936, 0.9771903575116936, 0.9771903575116936, 0.9775943791001861, 0.9775943791001861, 0.9775943791001861, 0.9775943791001861, 0.9775943791001861, 0.9775943791001861, 0.9775943791001861, 0.9775943791001861, 0.9775943791001861, 0.9775943791001861, 0.9775943791001861, 0.9775943791001861, 0.9775943791001861, 0.9775943791001861, 0.9775943791001861, 0.9775943791001861, 0.9775943791001861, 0.9775943791001861, 0.9775943791001861, 0.9775943791001861, 0.9775943791001861, 0.9775943791001861, 0.9775943791001861, 0.9775943791001861, 0.9775943791001861, 0.9775943791001861, 0.9775943791001861, 0.9775943791001861, 0.9775943791001861, 0.9775943791001861, 0.9775943791001861, 0.9775943791001861, 0.9775943791001861, 0.9775943791001861, 0.9775943791001861, 0.9775943791001861, 0.9775943791001861, 0.9775943791001861, 0.9775943791001861, 0.9775943791001861]}], \"precision_score_macro\": [{\"categories\": [\"0\", \"1\", \"2\", \"3\", \"4\", \"5\", \"6\", \"7\", \"8\", \"9\", \"10\", \"11\", \"12\", \"13\", \"14\", \"15\", \"16\", \"17\", \"18\", \"19\", \"20\", \"21\", \"22\", \"23\", \"24\", \"25\", \"26\", \"27\", \"28\", \"29\", \"30\", \"31\", \"32\", \"33\", \"34\", \"35\", \"36\", \"37\", \"38\", \"39\", \"40\", \"41\", \"42\", \"43\", \"44\", \"45\", \"46\", \"47\", \"48\", \"49\", \"50\", \"55\", \"56\"], \"mode\": \"markers\", \"name\": \"precision_score_macro\", \"stepped\": false, \"type\": \"scatter\", \"data\": [0.9281458919694263, 0.9192284041466074, 0.8577268670338898, 0.8348657915537906, 0.7953283162843163, 0.875740166881713, 0.8878450823503092, 0.8730673923801721, 0.9069598814574826, 0.8577590837280009, 0.8447955620587321, 0.8438975383738884, 0.8733546929456508, 0.896109193061665, 0.8722182198544741, 0.8827309375259447, 0.8957670780747933, 0.8094005810601536, 0.7129644017279749, 0.8952609072953519, 0.8766597664061841, 0.8870694474292439, 0.5086381065350609, 0.9291578818245206, 0.868234969071875, 0.2591328783621036, 0.843840346333334, 0.8888205653130516, 0.6865353089205289, 0.8580462591979652, 0.8170432194758115, 0.6785507476361236, 0.8866655931176396, 0.8817951129774503, 0.8919588209537075, 0.8808713240340094, 0.8877014066892521, 0.8999478667718313, 0.9133001528036105, 0.8852113225643672, 0.8567871277499404, 0.8785482895577073, 0.8931978630853215, 0.892332803843753, 0.8236260268621856, 0.8780466834709266, 0.8871527585033258, 0.8986015460965235, 0.8859556682039494, 0.928273620019409, 0.8382097669083493, 0.9383426707637895, 0.929071231608595]}, {\"categories\": [\"0\", \"1\", \"2\", \"3\", \"4\", \"5\", \"6\", \"7\", \"8\", \"9\", \"10\", \"11\", \"12\", \"13\", \"14\", \"15\", \"16\", \"17\", \"18\", \"19\", \"20\", \"21\", \"22\", \"23\", \"24\", \"25\", \"26\", \"27\", \"28\", \"29\", \"30\", \"31\", \"32\", \"33\", \"34\", \"35\", \"36\", \"37\", \"38\", \"39\", \"40\", \"41\", \"42\", \"43\", \"44\", \"45\", \"46\", \"47\", \"48\", \"49\", \"50\", \"55\", \"56\"], \"mode\": \"lines\", \"name\": \"precision_score_macro_max\", \"stepped\": true, \"type\": \"scatter\", \"data\": [0.9281458919694263, 0.9281458919694263, 0.9281458919694263, 0.9281458919694263, 0.9281458919694263, 0.9281458919694263, 0.9281458919694263, 0.9281458919694263, 0.9281458919694263, 0.9281458919694263, 0.9281458919694263, 0.9281458919694263, 0.9281458919694263, 0.9281458919694263, 0.9281458919694263, 0.9281458919694263, 0.9281458919694263, 0.9281458919694263, 0.9281458919694263, 0.9281458919694263, 0.9281458919694263, 0.9281458919694263, 0.9281458919694263, 0.9291578818245206, 0.9291578818245206, 0.9291578818245206, 0.9291578818245206, 0.9291578818245206, 0.9291578818245206, 0.9291578818245206, 0.9291578818245206, 0.9291578818245206, 0.9291578818245206, 0.9291578818245206, 0.9291578818245206, 0.9291578818245206, 0.9291578818245206, 0.9291578818245206, 0.9291578818245206, 0.9291578818245206, 0.9291578818245206, 0.9291578818245206, 0.9291578818245206, 0.9291578818245206, 0.9291578818245206, 0.9291578818245206, 0.9291578818245206, 0.9291578818245206, 0.9291578818245206, 0.9291578818245206, 0.9291578818245206, 0.9383426707637895, 0.9383426707637895]}], \"average_precision_score_weighted\": [{\"categories\": [\"0\", \"1\", \"2\", \"3\", \"4\", \"5\", \"6\", \"7\", \"8\", \"9\", \"10\", \"11\", \"12\", \"13\", \"14\", \"15\", \"16\", \"17\", \"18\", \"19\", \"20\", \"21\", \"22\", \"23\", \"24\", \"25\", \"26\", \"27\", \"28\", \"29\", \"30\", \"31\", \"32\", \"33\", \"34\", \"35\", \"36\", \"37\", \"38\", \"39\", \"40\", \"41\", \"42\", \"43\", \"44\", \"45\", \"46\", \"47\", \"48\", \"49\", \"50\", \"55\", \"56\"], \"mode\": \"markers\", \"name\": \"average_precision_score_weighted\", \"stepped\": false, \"type\": \"scatter\", \"data\": [0.9817727596206062, 0.9797181247442198, 0.9496321904882457, 0.925411939528191, 0.9579211773552039, 0.9656352194643179, 0.9689051231023879, 0.9689051809378875, 0.9728822003278591, 0.963242129132869, 0.9509344454577422, 0.9340178442449257, 0.9592031716221714, 0.9633520986209966, 0.9292532140034131, 0.9595456901650161, 0.968265691383916, 0.939161149460839, 0.932338432199658, 0.9682616586999616, 0.9575030766468942, 0.9633366982485843, 0.9247920103324405, 0.9797781334288406, 0.9484229329404821, 0.9199004087057748, 0.926717657741525, 0.9542220641643574, 0.9328152450639395, 0.9541123766732454, 0.943057573351522, 0.9225170298085967, 0.9676372976353662, 0.9673103901233135, 0.9563315031280044, 0.9654668630919183, 0.9714381394088555, 0.9681443474097721, 0.97812136516931, 0.9641716305923034, 0.9520119749244257, 0.9671816497752893, 0.970605817939887, 0.9711829353545578, 0.9302621617573716, 0.9697552710578428, 0.9691350174650776, 0.972364912014231, 0.9698211606597003, 0.9819513736428738, 0.9435024022051209, 0.9815976262219278, 0.9796295831996389]}, {\"categories\": [\"0\", \"1\", \"2\", \"3\", \"4\", \"5\", \"6\", \"7\", \"8\", \"9\", \"10\", \"11\", \"12\", \"13\", \"14\", \"15\", \"16\", \"17\", \"18\", \"19\", \"20\", \"21\", \"22\", \"23\", \"24\", \"25\", \"26\", \"27\", \"28\", \"29\", \"30\", \"31\", \"32\", \"33\", \"34\", \"35\", \"36\", \"37\", \"38\", \"39\", \"40\", \"41\", \"42\", \"43\", \"44\", \"45\", \"46\", \"47\", \"48\", \"49\", \"50\", \"55\", \"56\"], \"mode\": \"lines\", \"name\": \"average_precision_score_weighted_max\", \"stepped\": true, \"type\": \"scatter\", \"data\": [0.9817727596206062, 0.9817727596206062, 0.9817727596206062, 0.9817727596206062, 0.9817727596206062, 0.9817727596206062, 0.9817727596206062, 0.9817727596206062, 0.9817727596206062, 0.9817727596206062, 0.9817727596206062, 0.9817727596206062, 0.9817727596206062, 0.9817727596206062, 0.9817727596206062, 0.9817727596206062, 0.9817727596206062, 0.9817727596206062, 0.9817727596206062, 0.9817727596206062, 0.9817727596206062, 0.9817727596206062, 0.9817727596206062, 0.9817727596206062, 0.9817727596206062, 0.9817727596206062, 0.9817727596206062, 0.9817727596206062, 0.9817727596206062, 0.9817727596206062, 0.9817727596206062, 0.9817727596206062, 0.9817727596206062, 0.9817727596206062, 0.9817727596206062, 0.9817727596206062, 0.9817727596206062, 0.9817727596206062, 0.9817727596206062, 0.9817727596206062, 0.9817727596206062, 0.9817727596206062, 0.9817727596206062, 0.9817727596206062, 0.9817727596206062, 0.9817727596206062, 0.9817727596206062, 0.9817727596206062, 0.9817727596206062, 0.9819513736428738, 0.9819513736428738, 0.9819513736428738, 0.9819513736428738]}], \"norm_macro_recall\": [{\"categories\": [\"0\", \"1\", \"2\", \"3\", \"4\", \"5\", \"6\", \"7\", \"8\", \"9\", \"10\", \"11\", \"12\", \"13\", \"14\", \"15\", \"16\", \"17\", \"18\", \"19\", \"20\", \"21\", \"22\", \"23\", \"24\", \"25\", \"26\", \"27\", \"28\", \"29\", \"30\", \"31\", \"32\", \"33\", \"34\", \"35\", \"36\", \"37\", \"38\", \"39\", \"40\", \"41\", \"42\", \"43\", \"44\", \"45\", \"46\", \"47\", \"48\", \"49\", \"50\", \"55\", \"56\"], \"mode\": \"markers\", \"name\": \"norm_macro_recall\", \"stepped\": false, \"type\": \"scatter\", \"data\": [0.8466270783873922, 0.8237396045564072, 0.6090057352762914, 0.4360691724643754, 0.7855582377267656, 0.7631472553672948, 0.7546707260545586, 0.7286461336756623, 0.7798570456480861, 0.7590989218873855, 0.6746463428628482, 0.626118009406399, 0.6499401584634291, 0.6208766416567378, 0.34389318850312517, 0.5907026170211805, 0.7539409954613193, 0.6772816038008409, 0.3873163925129087, 0.7618921763508195, 0.6754629875204661, 0.7226327276990521, 0.21312887826561094, 0.8096961842972471, 0.6011440064759561, 0.0, 0.35178401753585226, 0.6613521462881986, 0.719749324798176, 0.6701264989635947, 0.2713916337573482, 0.6849418971452301, 0.7542331579404478, 0.7385059426249831, 0.6148411006257245, 0.7254731032885832, 0.7567888540918133, 0.7513976908651788, 0.7970093652710493, 0.7333120969149832, 0.665719510984353, 0.7400166655085784, 0.7682255853825518, 0.7707586963296384, 0.6473014523358492, 0.7330460099206284, 0.764329889534685, 0.776586911130972, 0.7737895482746833, 0.8439175845331139, 0.6701452162570497, 0.8513632713742301, 0.8378834060396091]}, {\"categories\": [\"0\", \"1\", \"2\", \"3\", \"4\", \"5\", \"6\", \"7\", \"8\", \"9\", \"10\", \"11\", \"12\", \"13\", \"14\", \"15\", \"16\", \"17\", \"18\", \"19\", \"20\", \"21\", \"22\", \"23\", \"24\", \"25\", \"26\", \"27\", \"28\", \"29\", \"30\", \"31\", \"32\", \"33\", \"34\", \"35\", \"36\", \"37\", \"38\", \"39\", \"40\", \"41\", \"42\", \"43\", \"44\", \"45\", \"46\", \"47\", \"48\", \"49\", \"50\", \"55\", \"56\"], \"mode\": \"lines\", \"name\": \"norm_macro_recall_max\", \"stepped\": true, \"type\": \"scatter\", \"data\": [0.8466270783873922, 0.8466270783873922, 0.8466270783873922, 0.8466270783873922, 0.8466270783873922, 0.8466270783873922, 0.8466270783873922, 0.8466270783873922, 0.8466270783873922, 0.8466270783873922, 0.8466270783873922, 0.8466270783873922, 0.8466270783873922, 0.8466270783873922, 0.8466270783873922, 0.8466270783873922, 0.8466270783873922, 0.8466270783873922, 0.8466270783873922, 0.8466270783873922, 0.8466270783873922, 0.8466270783873922, 0.8466270783873922, 0.8466270783873922, 0.8466270783873922, 0.8466270783873922, 0.8466270783873922, 0.8466270783873922, 0.8466270783873922, 0.8466270783873922, 0.8466270783873922, 0.8466270783873922, 0.8466270783873922, 0.8466270783873922, 0.8466270783873922, 0.8466270783873922, 0.8466270783873922, 0.8466270783873922, 0.8466270783873922, 0.8466270783873922, 0.8466270783873922, 0.8466270783873922, 0.8466270783873922, 0.8466270783873922, 0.8466270783873922, 0.8466270783873922, 0.8466270783873922, 0.8466270783873922, 0.8466270783873922, 0.8466270783873922, 0.8466270783873922, 0.8513632713742301, 0.8513632713742301]}], \"recall_score_macro\": [{\"categories\": [\"0\", \"1\", \"2\", \"3\", \"4\", \"5\", \"6\", \"7\", \"8\", \"9\", \"10\", \"11\", \"12\", \"13\", \"14\", \"15\", \"16\", \"17\", \"18\", \"19\", \"20\", \"21\", \"22\", \"23\", \"24\", \"25\", \"26\", \"27\", \"28\", \"29\", \"30\", \"31\", \"32\", \"33\", \"34\", \"35\", \"36\", \"37\", \"38\", \"39\", \"40\", \"41\", \"42\", \"43\", \"44\", \"45\", \"46\", \"47\", \"48\", \"49\", \"50\", \"55\", \"56\"], \"mode\": \"markers\", \"name\": \"recall_score_macro\", \"stepped\": false, \"type\": \"scatter\", \"data\": [0.8977513855915948, 0.8824930697042715, 0.7393371568508609, 0.6240461149762503, 0.8570388251511771, 0.8420981702448632, 0.8364471507030393, 0.8190974224504416, 0.8532380304320574, 0.8393992812582571, 0.7830975619085655, 0.750745339604266, 0.7666267723089526, 0.7472510944378252, 0.5625954590020835, 0.7271350780141204, 0.8359606636408797, 0.784854402533894, 0.5915442616752724, 0.8412614509005463, 0.7836419916803108, 0.8150884851327014, 0.47541925217707404, 0.8731307895314983, 0.7340960043173042, 0.3333333333333333, 0.5678560116905682, 0.7742347641921324, 0.8131662165321174, 0.7800843326423965, 0.5142610891715654, 0.7899612647634867, 0.8361554386269651, 0.8256706284166556, 0.7432274004171497, 0.8169820688590554, 0.8378592360612089, 0.8342651272434527, 0.8646729101806996, 0.822208064609989, 0.7771463406562354, 0.8266777770057189, 0.8454837235883679, 0.8471724642197589, 0.7648676348905662, 0.822030673280419, 0.8428865930231233, 0.8510579407539813, 0.8491930321831221, 0.8959450563554092, 0.7800968108380333, 0.90090884758282, 0.8919222706930727]}, {\"categories\": [\"0\", \"1\", \"2\", \"3\", \"4\", \"5\", \"6\", \"7\", \"8\", \"9\", \"10\", \"11\", \"12\", \"13\", \"14\", \"15\", \"16\", \"17\", \"18\", \"19\", \"20\", \"21\", \"22\", \"23\", \"24\", \"25\", \"26\", \"27\", \"28\", \"29\", \"30\", \"31\", \"32\", \"33\", \"34\", \"35\", \"36\", \"37\", \"38\", \"39\", \"40\", \"41\", \"42\", \"43\", \"44\", \"45\", \"46\", \"47\", \"48\", \"49\", \"50\", \"55\", \"56\"], \"mode\": \"lines\", \"name\": \"recall_score_macro_max\", \"stepped\": true, \"type\": \"scatter\", \"data\": [0.8977513855915948, 0.8977513855915948, 0.8977513855915948, 0.8977513855915948, 0.8977513855915948, 0.8977513855915948, 0.8977513855915948, 0.8977513855915948, 0.8977513855915948, 0.8977513855915948, 0.8977513855915948, 0.8977513855915948, 0.8977513855915948, 0.8977513855915948, 0.8977513855915948, 0.8977513855915948, 0.8977513855915948, 0.8977513855915948, 0.8977513855915948, 0.8977513855915948, 0.8977513855915948, 0.8977513855915948, 0.8977513855915948, 0.8977513855915948, 0.8977513855915948, 0.8977513855915948, 0.8977513855915948, 0.8977513855915948, 0.8977513855915948, 0.8977513855915948, 0.8977513855915948, 0.8977513855915948, 0.8977513855915948, 0.8977513855915948, 0.8977513855915948, 0.8977513855915948, 0.8977513855915948, 0.8977513855915948, 0.8977513855915948, 0.8977513855915948, 0.8977513855915948, 0.8977513855915948, 0.8977513855915948, 0.8977513855915948, 0.8977513855915948, 0.8977513855915948, 0.8977513855915948, 0.8977513855915948, 0.8977513855915948, 0.8977513855915948, 0.8977513855915948, 0.90090884758282, 0.90090884758282]}], \"AUC_micro\": [{\"categories\": [\"0\", \"1\", \"2\", \"3\", \"4\", \"5\", \"6\", \"7\", \"8\", \"9\", \"10\", \"11\", \"12\", \"13\", \"14\", \"15\", \"16\", \"17\", \"18\", \"19\", \"20\", \"21\", \"22\", \"23\", \"24\", \"25\", \"26\", \"27\", \"28\", \"29\", \"30\", \"31\", \"32\", \"33\", \"34\", \"35\", \"36\", \"37\", \"38\", \"39\", \"40\", \"41\", \"42\", \"43\", \"44\", \"45\", \"46\", \"47\", \"48\", \"49\", \"50\", \"55\", \"56\"], \"mode\": \"markers\", \"name\": \"AUC_micro\", \"stepped\": false, \"type\": \"scatter\", \"data\": [0.9938013203102585, 0.992935167485259, 0.9810858820020755, 0.9709274580832812, 0.9787560345825141, 0.9896851881737009, 0.990193023957322, 0.9893782269570846, 0.9909004216951349, 0.9894018638642595, 0.9828669169299857, 0.9760011671350363, 0.9844677815593462, 0.982589953593283, 0.9701585327584367, 0.9806842230532675, 0.9886873645905103, 0.9828952980668454, 0.9731856910631725, 0.9899256860116525, 0.9838357767879966, 0.9874189643124076, 0.9660540219224085, 0.992483634509578, 0.9808643018516093, 0.928047218527744, 0.9680238921094725, 0.9825782447406736, 0.9547766710456248, 0.9830282880253176, 0.9694911164023642, 0.947188311958417, 0.9891383406593587, 0.9890953766095821, 0.9816926686656785, 0.9880831978800722, 0.9902499369904814, 0.9889336039585, 0.992103966769877, 0.9880648502619203, 0.9838653803617939, 0.9895098654618641, 0.9905420065691894, 0.9906272750732648, 0.9740382010028764, 0.990139194972054, 0.989714594263357, 0.9905684668482984, 0.9903908872152615, 0.9936424322488623, 0.9806762334899813, 0.9936655050120058, 0.9919148984809911]}, {\"categories\": [\"0\", \"1\", \"2\", \"3\", \"4\", \"5\", \"6\", \"7\", \"8\", \"9\", \"10\", \"11\", \"12\", \"13\", \"14\", \"15\", \"16\", \"17\", \"18\", \"19\", \"20\", \"21\", \"22\", \"23\", \"24\", \"25\", \"26\", \"27\", \"28\", \"29\", \"30\", \"31\", \"32\", \"33\", \"34\", \"35\", \"36\", \"37\", \"38\", \"39\", \"40\", \"41\", \"42\", \"43\", \"44\", \"45\", \"46\", \"47\", \"48\", \"49\", \"50\", \"55\", \"56\"], \"mode\": \"lines\", \"name\": \"AUC_micro_max\", \"stepped\": true, \"type\": \"scatter\", \"data\": [0.9938013203102585, 0.9938013203102585, 0.9938013203102585, 0.9938013203102585, 0.9938013203102585, 0.9938013203102585, 0.9938013203102585, 0.9938013203102585, 0.9938013203102585, 0.9938013203102585, 0.9938013203102585, 0.9938013203102585, 0.9938013203102585, 0.9938013203102585, 0.9938013203102585, 0.9938013203102585, 0.9938013203102585, 0.9938013203102585, 0.9938013203102585, 0.9938013203102585, 0.9938013203102585, 0.9938013203102585, 0.9938013203102585, 0.9938013203102585, 0.9938013203102585, 0.9938013203102585, 0.9938013203102585, 0.9938013203102585, 0.9938013203102585, 0.9938013203102585, 0.9938013203102585, 0.9938013203102585, 0.9938013203102585, 0.9938013203102585, 0.9938013203102585, 0.9938013203102585, 0.9938013203102585, 0.9938013203102585, 0.9938013203102585, 0.9938013203102585, 0.9938013203102585, 0.9938013203102585, 0.9938013203102585, 0.9938013203102585, 0.9938013203102585, 0.9938013203102585, 0.9938013203102585, 0.9938013203102585, 0.9938013203102585, 0.9938013203102585, 0.9938013203102585, 0.9938013203102585, 0.9938013203102585]}], \"precision_score_weighted\": [{\"categories\": [\"0\", \"1\", \"2\", \"3\", \"4\", \"5\", \"6\", \"7\", \"8\", \"9\", \"10\", \"11\", \"12\", \"13\", \"14\", \"15\", \"16\", \"17\", \"18\", \"19\", \"20\", \"21\", \"22\", \"23\", \"24\", \"25\", \"26\", \"27\", \"28\", \"29\", \"30\", \"31\", \"32\", \"33\", \"34\", \"35\", \"36\", \"37\", \"38\", \"39\", \"40\", \"41\", \"42\", \"43\", \"44\", \"45\", \"46\", \"47\", \"48\", \"49\", \"50\", \"55\", \"56\"], \"mode\": \"markers\", \"name\": \"precision_score_weighted\", \"stepped\": false, \"type\": \"scatter\", \"data\": [0.9502937357541983, 0.9411778860125212, 0.8917695578847586, 0.8683972031189118, 0.9107850130011051, 0.9218883236930779, 0.9258520193503775, 0.9179483185700257, 0.9328865496648484, 0.9175689222446725, 0.9055703675133591, 0.8903726268427311, 0.9027418736649298, 0.9066816884449725, 0.863023423665387, 0.8970223658831354, 0.9249748182525682, 0.893137958390896, 0.833963633077842, 0.9286706269484537, 0.9067845004065127, 0.9184082118275285, 0.7550788027963431, 0.9402391315630974, 0.8982335897224452, 0.6049062589111436, 0.8501905728241571, 0.9083733033829329, 0.8824943285669085, 0.9022858109944354, 0.8328808062455767, 0.8755542062984469, 0.9239582830640891, 0.9202363334960463, 0.9023296701695369, 0.9178809329791784, 0.9259004449919044, 0.9273653285419238, 0.9363821210099769, 0.9186592093036101, 0.8984023267147979, 0.925482942569728, 0.927813823432525, 0.9292431301631122, 0.8838345459675951, 0.9193626585370236, 0.925828400992225, 0.9319335369860324, 0.9289489647112198, 0.9479775753670205, 0.8976955966088533, 0.9519586705306097, 0.9472641414826555]}, {\"categories\": [\"0\", \"1\", \"2\", \"3\", \"4\", \"5\", \"6\", \"7\", \"8\", \"9\", \"10\", \"11\", \"12\", \"13\", \"14\", \"15\", \"16\", \"17\", \"18\", \"19\", \"20\", \"21\", \"22\", \"23\", \"24\", \"25\", \"26\", \"27\", \"28\", \"29\", \"30\", \"31\", \"32\", \"33\", \"34\", \"35\", \"36\", \"37\", \"38\", \"39\", \"40\", \"41\", \"42\", \"43\", \"44\", \"45\", \"46\", \"47\", \"48\", \"49\", \"50\", \"55\", \"56\"], \"mode\": \"lines\", \"name\": \"precision_score_weighted_max\", \"stepped\": true, \"type\": \"scatter\", \"data\": [0.9502937357541983, 0.9502937357541983, 0.9502937357541983, 0.9502937357541983, 0.9502937357541983, 0.9502937357541983, 0.9502937357541983, 0.9502937357541983, 0.9502937357541983, 0.9502937357541983, 0.9502937357541983, 0.9502937357541983, 0.9502937357541983, 0.9502937357541983, 0.9502937357541983, 0.9502937357541983, 0.9502937357541983, 0.9502937357541983, 0.9502937357541983, 0.9502937357541983, 0.9502937357541983, 0.9502937357541983, 0.9502937357541983, 0.9502937357541983, 0.9502937357541983, 0.9502937357541983, 0.9502937357541983, 0.9502937357541983, 0.9502937357541983, 0.9502937357541983, 0.9502937357541983, 0.9502937357541983, 0.9502937357541983, 0.9502937357541983, 0.9502937357541983, 0.9502937357541983, 0.9502937357541983, 0.9502937357541983, 0.9502937357541983, 0.9502937357541983, 0.9502937357541983, 0.9502937357541983, 0.9502937357541983, 0.9502937357541983, 0.9502937357541983, 0.9502937357541983, 0.9502937357541983, 0.9502937357541983, 0.9502937357541983, 0.9502937357541983, 0.9502937357541983, 0.9519586705306097, 0.9519586705306097]}], \"matthews_correlation\": [{\"categories\": [\"0\", \"1\", \"2\", \"3\", \"4\", \"5\", \"6\", \"7\", \"8\", \"9\", \"10\", \"11\", \"12\", \"13\", \"14\", \"15\", \"16\", \"17\", \"18\", \"19\", \"20\", \"21\", \"22\", \"23\", \"24\", \"25\", \"26\", \"27\", \"28\", \"29\", \"30\", \"31\", \"32\", \"33\", \"34\", \"35\", \"36\", \"37\", \"38\", \"39\", \"40\", \"41\", \"42\", \"43\", \"44\", \"45\", \"46\", \"47\", \"48\", \"49\", \"50\", \"55\", \"56\"], \"mode\": \"markers\", \"name\": \"matthews_correlation\", \"stepped\": false, \"type\": \"scatter\", \"data\": [0.8661989630905463, 0.8394383063173821, 0.7004167830468084, 0.6120791128569636, 0.7359072238128008, 0.7878575447983995, 0.798332439244769, 0.7763595393826057, 0.8148783109472717, 0.7762158622740578, 0.7444415065205039, 0.6958687612777548, 0.7342074684953166, 0.7366902369982522, 0.5623361353275123, 0.7105133265649544, 0.794024868116091, 0.7048467766928045, 0.589942969712237, 0.804836354648381, 0.7413791458314065, 0.7764573767924429, 0.46524488263014374, 0.8359977885118625, 0.7141596822604321, 0.0, 0.5463622291706943, 0.7442771038145686, 0.6437583046033545, 0.7333590714309637, 0.5047048721528385, 0.6253872309148275, 0.7920367750058952, 0.7814267438641641, 0.726022326182006, 0.7762875546468393, 0.7974289553391567, 0.7991519091944035, 0.8261741445992957, 0.7761778934111883, 0.7208390128240982, 0.7958724751844606, 0.803183090644709, 0.8048263939444087, 0.6853717046212473, 0.7791218387402298, 0.7976465530735615, 0.8126257889831694, 0.8055170305623832, 0.8588625536183278, 0.7232941973457788, 0.8686743151126549, 0.8563820845018835]}, {\"categories\": [\"0\", \"1\", \"2\", \"3\", \"4\", \"5\", \"6\", \"7\", \"8\", \"9\", \"10\", \"11\", \"12\", \"13\", \"14\", \"15\", \"16\", \"17\", \"18\", \"19\", \"20\", \"21\", \"22\", \"23\", \"24\", \"25\", \"26\", \"27\", \"28\", \"29\", \"30\", \"31\", \"32\", \"33\", \"34\", \"35\", \"36\", \"37\", \"38\", \"39\", \"40\", \"41\", \"42\", \"43\", \"44\", \"45\", \"46\", \"47\", \"48\", \"49\", \"50\", \"55\", \"56\"], \"mode\": \"lines\", \"name\": \"matthews_correlation_max\", \"stepped\": true, \"type\": \"scatter\", \"data\": [0.8661989630905463, 0.8661989630905463, 0.8661989630905463, 0.8661989630905463, 0.8661989630905463, 0.8661989630905463, 0.8661989630905463, 0.8661989630905463, 0.8661989630905463, 0.8661989630905463, 0.8661989630905463, 0.8661989630905463, 0.8661989630905463, 0.8661989630905463, 0.8661989630905463, 0.8661989630905463, 0.8661989630905463, 0.8661989630905463, 0.8661989630905463, 0.8661989630905463, 0.8661989630905463, 0.8661989630905463, 0.8661989630905463, 0.8661989630905463, 0.8661989630905463, 0.8661989630905463, 0.8661989630905463, 0.8661989630905463, 0.8661989630905463, 0.8661989630905463, 0.8661989630905463, 0.8661989630905463, 0.8661989630905463, 0.8661989630905463, 0.8661989630905463, 0.8661989630905463, 0.8661989630905463, 0.8661989630905463, 0.8661989630905463, 0.8661989630905463, 0.8661989630905463, 0.8661989630905463, 0.8661989630905463, 0.8661989630905463, 0.8661989630905463, 0.8661989630905463, 0.8661989630905463, 0.8661989630905463, 0.8661989630905463, 0.8661989630905463, 0.8661989630905463, 0.8686743151126549, 0.8686743151126549]}], \"average_precision_score_macro\": [{\"categories\": [\"0\", \"1\", \"2\", \"3\", \"4\", \"5\", \"6\", \"7\", \"8\", \"9\", \"10\", \"11\", \"12\", \"13\", \"14\", \"15\", \"16\", \"17\", \"18\", \"19\", \"20\", \"21\", \"22\", \"23\", \"24\", \"25\", \"26\", \"27\", \"28\", \"29\", \"30\", \"31\", \"32\", \"33\", \"34\", \"35\", \"36\", \"37\", \"38\", \"39\", \"40\", \"41\", \"42\", \"43\", \"44\", \"45\", \"46\", \"47\", \"48\", \"49\", \"50\", \"55\", \"56\"], \"mode\": \"markers\", \"name\": \"average_precision_score_macro\", \"stepped\": false, \"type\": \"scatter\", \"data\": [0.9572796337339886, 0.9545502735888256, 0.8789393720417902, 0.8156689396058268, 0.8969419996074286, 0.9185420099760331, 0.9273706436973622, 0.9274315365589108, 0.9382690177541397, 0.9116183496540013, 0.8756344165704186, 0.8432498246816549, 0.9030318325228652, 0.9109231175937221, 0.8253260226042874, 0.9026843705011188, 0.9271344902807345, 0.8482755220042817, 0.8335750571287621, 0.9251783394195792, 0.9025048905551871, 0.9149361892915444, 0.8176043436809236, 0.9548171394757876, 0.8734686614771888, 0.8043545425528895, 0.8206188437174935, 0.8944436184642649, 0.8268961120238508, 0.8950795950782224, 0.8563247917859622, 0.8054847747311384, 0.9241379021666365, 0.925013674267874, 0.8922640859898078, 0.9199928314063701, 0.933092470077469, 0.9265565588156294, 0.9490507864659318, 0.9171772577756461, 0.8863563858298938, 0.9178139490196224, 0.9320012543470353, 0.9326694282267549, 0.8480508107484415, 0.9294658175931957, 0.929834416546362, 0.9375471113318294, 0.9298670834608, 0.9591570377692508, 0.8641596433542797, 0.9573238934268075, 0.9521821538452784]}, {\"categories\": [\"0\", \"1\", \"2\", \"3\", \"4\", \"5\", \"6\", \"7\", \"8\", \"9\", \"10\", \"11\", \"12\", \"13\", \"14\", \"15\", \"16\", \"17\", \"18\", \"19\", \"20\", \"21\", \"22\", \"23\", \"24\", \"25\", \"26\", \"27\", \"28\", \"29\", \"30\", \"31\", \"32\", \"33\", \"34\", \"35\", \"36\", \"37\", \"38\", \"39\", \"40\", \"41\", \"42\", \"43\", \"44\", \"45\", \"46\", \"47\", \"48\", \"49\", \"50\", \"55\", \"56\"], \"mode\": \"lines\", \"name\": \"average_precision_score_macro_max\", \"stepped\": true, \"type\": \"scatter\", \"data\": [0.9572796337339886, 0.9572796337339886, 0.9572796337339886, 0.9572796337339886, 0.9572796337339886, 0.9572796337339886, 0.9572796337339886, 0.9572796337339886, 0.9572796337339886, 0.9572796337339886, 0.9572796337339886, 0.9572796337339886, 0.9572796337339886, 0.9572796337339886, 0.9572796337339886, 0.9572796337339886, 0.9572796337339886, 0.9572796337339886, 0.9572796337339886, 0.9572796337339886, 0.9572796337339886, 0.9572796337339886, 0.9572796337339886, 0.9572796337339886, 0.9572796337339886, 0.9572796337339886, 0.9572796337339886, 0.9572796337339886, 0.9572796337339886, 0.9572796337339886, 0.9572796337339886, 0.9572796337339886, 0.9572796337339886, 0.9572796337339886, 0.9572796337339886, 0.9572796337339886, 0.9572796337339886, 0.9572796337339886, 0.9572796337339886, 0.9572796337339886, 0.9572796337339886, 0.9572796337339886, 0.9572796337339886, 0.9572796337339886, 0.9572796337339886, 0.9572796337339886, 0.9572796337339886, 0.9572796337339886, 0.9572796337339886, 0.9591570377692508, 0.9591570377692508, 0.9591570377692508, 0.9591570377692508]}]}, \"metricName\": null, \"primaryMetricName\": \"accuracy\", \"showLegend\": false}, \"run_metrics\": [{\"name\": \"experiment_status\", \"run_id\": \"AutoML_719dc484-cd77-4408-ba66-fb1b871b7adf\", \"categories\": [0, 1, 2, 3, 4, 5, 6], \"series\": [{\"data\": [\"DatasetEvaluation\", \"FeaturesGeneration\", \"DatasetFeaturization\", \"DatasetFeaturizationCompleted\", \"DatasetBalancing\", \"DatasetCrossValidationSplit\", \"ModelSelection\"]}]}, {\"name\": \"experiment_status_description\", \"run_id\": \"AutoML_719dc484-cd77-4408-ba66-fb1b871b7adf\", \"categories\": [0, 1, 2, 3, 4, 5, 6], \"series\": [{\"data\": [\"Gathering dataset statistics.\", \"Generating features for the dataset.\", \"Beginning to fit featurizers and featurize the dataset.\", \"Completed fit featurizers and featurizing the dataset.\", \"Performing class balancing sweeping\", \"Generating individually featurized CV splits.\", \"Beginning model selection.\"]}]}, {\"name\": \"recall_score_weighted\", \"run_id\": \"AutoML_719dc484-cd77-4408-ba66-fb1b871b7adf\", \"categories\": [0], \"series\": [{\"data\": [0.9527376332575047]}]}, {\"name\": \"balanced_accuracy\", \"run_id\": \"AutoML_719dc484-cd77-4408-ba66-fb1b871b7adf\", \"categories\": [0], \"series\": [{\"data\": [0.90090884758282]}]}, {\"name\": \"AUC_micro\", \"run_id\": \"AutoML_719dc484-cd77-4408-ba66-fb1b871b7adf\", \"categories\": [0], \"series\": [{\"data\": [0.9936655050120058]}]}, {\"name\": \"log_loss\", \"run_id\": \"AutoML_719dc484-cd77-4408-ba66-fb1b871b7adf\", \"categories\": [0], \"series\": [{\"data\": [0.1721237656562539]}]}, {\"name\": \"AUC_weighted\", \"run_id\": \"AutoML_719dc484-cd77-4408-ba66-fb1b871b7adf\", \"categories\": [0], \"series\": [{\"data\": [0.9874571209516432]}]}, {\"name\": \"weighted_accuracy\", \"run_id\": \"AutoML_719dc484-cd77-4408-ba66-fb1b871b7adf\", \"categories\": [0], \"series\": [{\"data\": [0.9771936924343023]}]}, {\"name\": \"recall_score_macro\", \"run_id\": \"AutoML_719dc484-cd77-4408-ba66-fb1b871b7adf\", \"categories\": [0], \"series\": [{\"data\": [0.90090884758282]}]}, {\"name\": \"average_precision_score_macro\", \"run_id\": \"AutoML_719dc484-cd77-4408-ba66-fb1b871b7adf\", \"categories\": [0], \"series\": [{\"data\": [0.9573238934268075]}]}, {\"name\": \"accuracy\", \"run_id\": \"AutoML_719dc484-cd77-4408-ba66-fb1b871b7adf\", \"categories\": [0], \"series\": [{\"data\": [0.9527376332575047]}]}, {\"name\": \"average_precision_score_weighted\", \"run_id\": \"AutoML_719dc484-cd77-4408-ba66-fb1b871b7adf\", \"categories\": [0], \"series\": [{\"data\": [0.9815976262219278]}]}, {\"name\": \"AUC_macro\", \"run_id\": \"AutoML_719dc484-cd77-4408-ba66-fb1b871b7adf\", \"categories\": [0], \"series\": [{\"data\": [0.9877827227457061]}]}, {\"name\": \"recall_score_micro\", \"run_id\": \"AutoML_719dc484-cd77-4408-ba66-fb1b871b7adf\", \"categories\": [0], \"series\": [{\"data\": [0.9527376332575047]}]}, {\"name\": \"matthews_correlation\", \"run_id\": \"AutoML_719dc484-cd77-4408-ba66-fb1b871b7adf\", \"categories\": [0], \"series\": [{\"data\": [0.8686743151126549]}]}, {\"name\": \"f1_score_macro\", \"run_id\": \"AutoML_719dc484-cd77-4408-ba66-fb1b871b7adf\", \"categories\": [0], \"series\": [{\"data\": [0.9174440105525207]}]}, {\"name\": \"average_precision_score_micro\", \"run_id\": \"AutoML_719dc484-cd77-4408-ba66-fb1b871b7adf\", \"categories\": [0], \"series\": [{\"data\": [0.9883976937037154]}]}, {\"name\": \"f1_score_weighted\", \"run_id\": \"AutoML_719dc484-cd77-4408-ba66-fb1b871b7adf\", \"categories\": [0], \"series\": [{\"data\": [0.9514295442283691]}]}, {\"name\": \"precision_score_weighted\", \"run_id\": \"AutoML_719dc484-cd77-4408-ba66-fb1b871b7adf\", \"categories\": [0], \"series\": [{\"data\": [0.9519586705306097]}]}, {\"name\": \"precision_score_micro\", \"run_id\": \"AutoML_719dc484-cd77-4408-ba66-fb1b871b7adf\", \"categories\": [0], \"series\": [{\"data\": [0.9527376332575047]}]}, {\"name\": \"norm_macro_recall\", \"run_id\": \"AutoML_719dc484-cd77-4408-ba66-fb1b871b7adf\", \"categories\": [0], \"series\": [{\"data\": [0.8513632713742301]}]}, {\"name\": \"f1_score_micro\", \"run_id\": \"AutoML_719dc484-cd77-4408-ba66-fb1b871b7adf\", \"categories\": [0], \"series\": [{\"data\": [0.9527376332575047]}]}, {\"name\": \"precision_score_macro\", \"run_id\": \"AutoML_719dc484-cd77-4408-ba66-fb1b871b7adf\", \"categories\": [0], \"series\": [{\"data\": [0.9383426707637895]}]}], \"run_logs\": \"\\nRun is completed.\", \"graph\": {}, \"widget_settings\": {\"childWidgetDisplay\": \"popup\", \"send_telemetry\": false, \"log_level\": \"INFO\", \"sdk_version\": \"1.20.0\"}, \"loading\": false}"
     },
     "metadata": {},
     "output_type": "display_data"
    }
   ],
   "source": [
    "RunDetails(remote_run).show()"
   ]
  },
  {
   "cell_type": "code",
   "execution_count": 11,
   "metadata": {
    "gather": {
     "logged": 1612164299642
    },
    "jupyter": {
     "outputs_hidden": false,
     "source_hidden": false
    },
    "nteract": {
     "transient": {
      "deleting": false
     }
    }
   },
   "outputs": [
    {
     "name": "stdout",
     "output_type": "stream",
     "text": [
      "\n",
      "Current status: FeaturesGeneration. Generating features for the dataset.\n",
      "Current status: DatasetBalancing. Performing class balancing sweeping\n",
      "Current status: ModelSelection. Beginning model selection.\n",
      "\n",
      "****************************************************************************************************\n",
      "DATA GUARDRAILS: \n",
      "\n",
      "TYPE:         Class balancing detection\n",
      "STATUS:       ALERTED\n",
      "DESCRIPTION:  To decrease model bias, please cancel the current run and fix balancing problem.\n",
      "              Learn more about imbalanced data: https://aka.ms/AutomatedMLImbalancedData\n",
      "DETAILS:      Imbalanced data can lead to a falsely perceived positive effect of a model's accuracy because the input data has bias towards one class.\n",
      "+---------------------------------+---------------------------------+--------------------------------------+\n",
      "|Size of the smallest class       |Name/Label of the smallest class |Number of samples in the training data|\n",
      "+=================================+=================================+======================================+\n",
      "|176                              |3.0                              |2116                                  |\n",
      "+---------------------------------+---------------------------------+--------------------------------------+\n",
      "\n",
      "****************************************************************************************************\n",
      "\n",
      "TYPE:         Missing feature values imputation\n",
      "STATUS:       PASSED\n",
      "DESCRIPTION:  No feature missing values were detected in the training data.\n",
      "              Learn more about missing value imputation: https://aka.ms/AutomatedMLFeaturization\n",
      "\n",
      "****************************************************************************************************\n",
      "\n",
      "TYPE:         High cardinality feature detection\n",
      "STATUS:       PASSED\n",
      "DESCRIPTION:  Your inputs were analyzed, and no high cardinality features were detected.\n",
      "              Learn more about high cardinality feature handling: https://aka.ms/AutomatedMLFeaturization\n",
      "\n",
      "****************************************************************************************************\n",
      "\n",
      "****************************************************************************************************\n",
      "ITERATION: The iteration being evaluated.\n",
      "PIPELINE: A summary description of the pipeline being evaluated.\n",
      "DURATION: Time taken for the current iteration.\n",
      "METRIC: The result of computing score on the fitted pipeline.\n",
      "BEST: The best observed score thus far.\n",
      "****************************************************************************************************\n",
      "\n",
      " ITERATION   PIPELINE                                       DURATION      METRIC      BEST\n",
      "         2   MinMaxScaler RandomForest                      0:01:20       0.8965    0.8965\n",
      "         3   MinMaxScaler RandomForest                      0:01:20       0.8705    0.8965\n",
      "         4   MinMaxScaler RandomForest                      0:01:20       0.8889    0.8965\n",
      "         1   MaxAbsScaler XGBoostClassifier                 0:01:33       0.9423    0.9423\n",
      "         0   MaxAbsScaler LightGBM                          0:01:14       0.9513    0.9513\n",
      "         5   MinMaxScaler SVM                               0:01:15       0.9239    0.9513\n",
      "         7   SparseNormalizer XGBoostClassifier             0:01:40       0.9206    0.9513\n",
      "         6   SparseNormalizer XGBoostClassifier             0:01:44       0.9286    0.9513\n",
      "         8   SparseNormalizer XGBoostClassifier             0:01:26       0.9338    0.9513\n",
      "         9   MinMaxScaler SVM                               0:01:16       0.9182    0.9513\n",
      "        10   MaxAbsScaler GradientBoosting                  0:01:21       0.9093    0.9513\n",
      "        11   SparseNormalizer LightGBM                      0:01:35       0.8932    0.9513\n",
      "        13   MaxAbsScaler LightGBM                          0:01:04       0.9088    0.9513\n",
      "        12   StandardScalerWrapper RandomForest             0:01:25       0.9069    0.9513\n",
      "        14   MinMaxScaler LightGBM                          0:01:04       0.8577    0.9513\n",
      "        15   MaxAbsScaler LightGBM                          0:01:12       0.9003    0.9513\n",
      "        16   SparseNormalizer XGBoostClassifier             0:01:18       0.9267    0.9513\n",
      "        17   StandardScalerWrapper LogisticRegression       0:01:14       0.8927    0.9513\n",
      "        18   StandardScalerWrapper RandomForest             0:01:13       0.8639    0.9513\n",
      "        19   SparseNormalizer XGBoostClassifier             0:01:25       0.9305    0.9513\n",
      "        20   SparseNormalizer XGBoostClassifier             0:01:17       0.9097    0.9513\n",
      "        21   SparseNormalizer XGBoostClassifier             0:01:23       0.9215    0.9513\n",
      "        22   MaxAbsScaler ExtremeRandomTrees                0:01:14       0.8341    0.9513\n",
      "        23   StandardScalerWrapper XGBoostClassifier        0:01:15       0.9414    0.9513\n",
      "        24   StandardScalerWrapper LightGBM                 0:01:15       0.9012    0.9513\n",
      "        25   MaxAbsScaler LightGBM                          0:01:20       0.7774    0.9513\n",
      "        26   StandardScalerWrapper ExtremeRandomTrees       0:01:14       0.8535    0.9513\n",
      "        27   SparseNormalizer XGBoostClassifier             0:01:26       0.9116    0.9513\n",
      "        28   MaxAbsScaler RandomForest                      0:01:06       0.8336    0.9513\n",
      "        29   SparseNormalizer XGBoostClassifier             0:01:23       0.9069    0.9513\n",
      "        30   StandardScalerWrapper LightGBM                 0:01:12       0.8436    0.9513\n",
      "        31   StandardScalerWrapper RandomForest             0:01:40       0.8237    0.9513\n",
      "        32   SparseNormalizer LightGBM                      0:01:40       0.9263    0.9513\n",
      "        35   SparseNormalizer XGBoostClassifier             0:01:48       0.9211    0.9513\n",
      "        33   SparseNormalizer XGBoostClassifier             0:02:08       0.9225    0.9513\n",
      "        34   StandardScalerWrapper LightGBM                 0:02:06       0.9050    0.9513\n",
      "        36   SparseNormalizer XGBoostClassifier             0:01:48       0.9277    0.9513\n",
      "        37   SparseNormalizer XGBoostClassifier             0:01:32       0.9291    0.9513\n",
      "        38   StandardScalerWrapper LightGBM                 0:01:23       0.9376    0.9513\n",
      "        39   SparseNormalizer XGBoostClassifier             0:01:24       0.9211    0.9513\n",
      "        40   TruncatedSVDWrapper LightGBM                   0:01:12       0.9026    0.9513\n",
      "        41   MinMaxScaler LightGBM                          0:01:24       0.9272    0.9513\n",
      "        42   SparseNormalizer XGBoostClassifier             0:01:22       0.9300    0.9513\n",
      "        43   SparseNormalizer XGBoostClassifier             0:01:32       0.9305    0.9513\n",
      "        44   TruncatedSVDWrapper LightGBM                   0:01:18       0.8899    0.9513\n",
      "        45   SparseNormalizer XGBoostClassifier             0:01:30       0.9215    0.9513\n",
      "        46   SparseNormalizer XGBoostClassifier             0:01:54       0.9277    0.9513\n",
      "        47   SparseNormalizer XGBoostClassifier             0:01:44       0.9329    0.9513\n",
      "        48   SparseNormalizer XGBoostClassifier             0:01:48       0.9305    0.9513\n",
      "        49   StandardScalerWrapper XGBoostClassifier        0:01:32       0.9490    0.9513\n",
      "        50   SparseNormalizer LightGBM                      0:01:22       0.9026    0.9513\n",
      "        51   StandardScalerWrapper XGBoostClassifier        0:00:41          nan    0.9513\n",
      "ERROR: {\n",
      "    \"additional_properties\": {},\n",
      "    \"error\": {\n",
      "        \"additional_properties\": {\n",
      "            \"debugInfo\": null\n",
      "        },\n",
      "        \"code\": \"UserError\",\n",
      "        \"severity\": null,\n",
      "        \"message\": \"Experiment timeout reached, please consider increasing your experiment timeout.\",\n",
      "        \"message_format\": \"Experiment timeout reached, please consider increasing your experiment timeout.\",\n",
      "        \"message_parameters\": {},\n",
      "        \"reference_code\": null,\n",
      "        \"details_uri\": null,\n",
      "        \"target\": null,\n",
      "        \"details\": [],\n",
      "        \"inner_error\": {\n",
      "            \"additional_properties\": {},\n",
      "            \"code\": \"ResourceExhausted\",\n",
      "            \"inner_error\": {\n",
      "                \"additional_properties\": {},\n",
      "                \"code\": \"Timeout\",\n",
      "                \"inner_error\": {\n",
      "                    \"additional_properties\": {},\n",
      "                    \"code\": \"ExperimentTimeoutForIterations\",\n",
      "                    \"inner_error\": null\n",
      "                }\n",
      "            }\n",
      "        }\n",
      "    },\n",
      "    \"correlation\": null,\n",
      "    \"environment\": null,\n",
      "    \"location\": null,\n",
      "    \"time\": {},\n",
      "    \"component_name\": null\n",
      "}\n",
      "        52                                                  0:00:24          nan    0.9513\n",
      "ERROR: {\n",
      "    \"additional_properties\": {},\n",
      "    \"error\": {\n",
      "        \"additional_properties\": {\n",
      "            \"debugInfo\": null\n",
      "        },\n",
      "        \"code\": \"UserError\",\n",
      "        \"severity\": null,\n",
      "        \"message\": \"Experiment timeout reached, please consider increasing your experiment timeout.\",\n",
      "        \"message_format\": \"Experiment timeout reached, please consider increasing your experiment timeout.\",\n",
      "        \"message_parameters\": {},\n",
      "        \"reference_code\": null,\n",
      "        \"details_uri\": null,\n",
      "        \"target\": null,\n",
      "        \"details\": [],\n",
      "        \"inner_error\": {\n",
      "            \"additional_properties\": {},\n",
      "            \"code\": \"ResourceExhausted\",\n",
      "            \"inner_error\": {\n",
      "                \"additional_properties\": {},\n",
      "                \"code\": \"Timeout\",\n",
      "                \"inner_error\": {\n",
      "                    \"additional_properties\": {},\n",
      "                    \"code\": \"ExperimentTimeoutForIterations\",\n",
      "                    \"inner_error\": null\n",
      "                }\n",
      "            }\n",
      "        }\n",
      "    },\n",
      "    \"correlation\": null,\n",
      "    \"environment\": null,\n",
      "    \"location\": null,\n",
      "    \"time\": {},\n",
      "    \"component_name\": null\n",
      "}\n",
      "        53                                                  0:00:12          nan    0.9513\n",
      "ERROR: {\n",
      "    \"additional_properties\": {},\n",
      "    \"error\": {\n",
      "        \"additional_properties\": {\n",
      "            \"debugInfo\": null\n",
      "        },\n",
      "        \"code\": \"UserError\",\n",
      "        \"severity\": null,\n",
      "        \"message\": \"Experiment timeout reached, please consider increasing your experiment timeout.\",\n",
      "        \"message_format\": \"Experiment timeout reached, please consider increasing your experiment timeout.\",\n",
      "        \"message_parameters\": {},\n",
      "        \"reference_code\": null,\n",
      "        \"details_uri\": null,\n",
      "        \"target\": null,\n",
      "        \"details\": [],\n",
      "        \"inner_error\": {\n",
      "            \"additional_properties\": {},\n",
      "            \"code\": \"ResourceExhausted\",\n",
      "            \"inner_error\": {\n",
      "                \"additional_properties\": {},\n",
      "                \"code\": \"Timeout\",\n",
      "                \"inner_error\": {\n",
      "                    \"additional_properties\": {},\n",
      "                    \"code\": \"ExperimentTimeoutForIterations\",\n",
      "                    \"inner_error\": null\n",
      "                }\n",
      "            }\n",
      "        }\n",
      "    },\n",
      "    \"correlation\": null,\n",
      "    \"environment\": null,\n",
      "    \"location\": null,\n",
      "    \"time\": {},\n",
      "    \"component_name\": null\n",
      "}\n",
      "        54                                                  0:00:20          nan    0.9513\n",
      "ERROR: {\n",
      "    \"additional_properties\": {},\n",
      "    \"error\": {\n",
      "        \"additional_properties\": {\n",
      "            \"debugInfo\": null\n",
      "        },\n",
      "        \"code\": \"UserError\",\n",
      "        \"severity\": null,\n",
      "        \"message\": \"Experiment timeout reached, please consider increasing your experiment timeout.\",\n",
      "        \"message_format\": \"Experiment timeout reached, please consider increasing your experiment timeout.\",\n",
      "        \"message_parameters\": {},\n",
      "        \"reference_code\": null,\n",
      "        \"details_uri\": null,\n",
      "        \"target\": null,\n",
      "        \"details\": [],\n",
      "        \"inner_error\": {\n",
      "            \"additional_properties\": {},\n",
      "            \"code\": \"ResourceExhausted\",\n",
      "            \"inner_error\": {\n",
      "                \"additional_properties\": {},\n",
      "                \"code\": \"Timeout\",\n",
      "                \"inner_error\": {\n",
      "                    \"additional_properties\": {},\n",
      "                    \"code\": \"ExperimentTimeoutForIterations\",\n",
      "                    \"inner_error\": null\n",
      "                }\n",
      "            }\n",
      "        }\n",
      "    },\n",
      "    \"correlation\": null,\n",
      "    \"environment\": null,\n",
      "    \"location\": null,\n",
      "    \"time\": {},\n",
      "    \"component_name\": null\n",
      "}\n",
      "        55    VotingEnsemble                                0:02:25       0.9527    0.9527\n",
      "        56    StackEnsemble                                 0:02:35       0.9480    0.9527\n"
     ]
    },
    {
     "data": {
      "text/plain": [
       "{'runId': 'AutoML_719dc484-cd77-4408-ba66-fb1b871b7adf',\n",
       " 'target': 'FHCapstoneCompute',\n",
       " 'status': 'Completed',\n",
       " 'startTimeUtc': '2021-02-01T06:56:31.429357Z',\n",
       " 'endTimeUtc': '2021-02-01T07:24:55.522481Z',\n",
       " 'properties': {'num_iterations': '1000',\n",
       "  'training_type': 'TrainFull',\n",
       "  'acquisition_function': 'EI',\n",
       "  'primary_metric': 'accuracy',\n",
       "  'train_split': '0',\n",
       "  'acquisition_parameter': '0',\n",
       "  'num_cross_validation': '5',\n",
       "  'target': 'FHCapstoneCompute',\n",
       "  'AMLSettingsJsonString': '{\"path\":null,\"name\":\"FetalHealthAutomlExp\",\"subscription_id\":\"d4ad7261-832d-46b2-b093-22156001df5b\",\"resource_group\":\"aml-quickstarts-136799\",\"workspace_name\":\"quick-starts-ws-136799\",\"region\":\"southcentralus\",\"compute_target\":\"FHCapstoneCompute\",\"spark_service\":null,\"azure_service\":\"remote\",\"many_models\":false,\"pipeline_fetch_max_batch_size\":1,\"iterations\":1000,\"primary_metric\":\"accuracy\",\"task_type\":\"classification\",\"data_script\":null,\"validation_size\":0.0,\"n_cross_validations\":5,\"y_min\":null,\"y_max\":null,\"num_classes\":null,\"featurization\":\"auto\",\"_ignore_package_version_incompatibilities\":false,\"is_timeseries\":false,\"max_cores_per_iteration\":1,\"max_concurrent_iterations\":5,\"iteration_timeout_minutes\":null,\"mem_in_mb\":null,\"enforce_time_on_windows\":false,\"experiment_timeout_minutes\":20,\"experiment_exit_score\":null,\"whitelist_models\":null,\"blacklist_algos\":[\"TensorFlowLinearClassifier\",\"TensorFlowDNN\"],\"supported_models\":[\"LinearSVM\",\"RandomForest\",\"ExtremeRandomTrees\",\"SVM\",\"LogisticRegression\",\"TensorFlowLinearClassifier\",\"KNN\",\"LightGBM\",\"XGBoostClassifier\",\"BernoulliNaiveBayes\",\"TensorFlowDNN\",\"DecisionTree\",\"AveragedPerceptronClassifier\",\"GradientBoosting\",\"SGD\",\"MultinomialNaiveBayes\"],\"auto_blacklist\":true,\"blacklist_samples_reached\":false,\"exclude_nan_labels\":true,\"verbosity\":20,\"_debug_log\":\"azureml_automl.log\",\"show_warnings\":false,\"model_explainability\":true,\"service_url\":null,\"sdk_url\":null,\"sdk_packages\":null,\"enable_onnx_compatible_models\":false,\"enable_split_onnx_featurizer_estimator_models\":false,\"vm_type\":\"STANDARD_DS2_V2\",\"telemetry_verbosity\":20,\"send_telemetry\":true,\"enable_dnn\":false,\"scenario\":\"SDK-1.13.0\",\"environment_label\":null,\"force_text_dnn\":false,\"enable_feature_sweeping\":true,\"enable_early_stopping\":false,\"early_stopping_n_iters\":10,\"metrics\":null,\"enable_ensembling\":true,\"enable_stack_ensembling\":true,\"ensemble_iterations\":15,\"enable_tf\":false,\"enable_subsampling\":null,\"subsample_seed\":null,\"enable_nimbusml\":false,\"enable_streaming\":false,\"force_streaming\":false,\"track_child_runs\":true,\"allowed_private_models\":[],\"label_column_name\":\"fetal_health\",\"weight_column_name\":null,\"cv_split_column_names\":null,\"enable_local_managed\":false,\"_local_managed_run_id\":null,\"cost_mode\":1,\"lag_length\":0,\"metric_operation\":\"maximize\",\"preprocess\":true}',\n",
       "  'DataPrepJsonString': '{\\\\\"training_data\\\\\": \\\\\"{\\\\\\\\\\\\\"blocks\\\\\\\\\\\\\": [{\\\\\\\\\\\\\"id\\\\\\\\\\\\\": \\\\\\\\\\\\\"668b51d2-3217-4f4e-a99f-76f2fbf34103\\\\\\\\\\\\\", \\\\\\\\\\\\\"type\\\\\\\\\\\\\": \\\\\\\\\\\\\"Microsoft.DPrep.GetDatastoreFilesBlock\\\\\\\\\\\\\", \\\\\\\\\\\\\"arguments\\\\\\\\\\\\\": {\\\\\\\\\\\\\"datastores\\\\\\\\\\\\\": [{\\\\\\\\\\\\\"datastoreName\\\\\\\\\\\\\": \\\\\\\\\\\\\"workspaceblobstore\\\\\\\\\\\\\", \\\\\\\\\\\\\"path\\\\\\\\\\\\\": \\\\\\\\\\\\\"fh_training_dataset/train_data.csv\\\\\\\\\\\\\", \\\\\\\\\\\\\"resourceGroup\\\\\\\\\\\\\": \\\\\\\\\\\\\"aml-quickstarts-136799\\\\\\\\\\\\\", \\\\\\\\\\\\\"subscription\\\\\\\\\\\\\": \\\\\\\\\\\\\"d4ad7261-832d-46b2-b093-22156001df5b\\\\\\\\\\\\\", \\\\\\\\\\\\\"workspaceName\\\\\\\\\\\\\": \\\\\\\\\\\\\"quick-starts-ws-136799\\\\\\\\\\\\\"}]}, \\\\\\\\\\\\\"localData\\\\\\\\\\\\\": {}, \\\\\\\\\\\\\"isEnabled\\\\\\\\\\\\\": true, \\\\\\\\\\\\\"name\\\\\\\\\\\\\": null, \\\\\\\\\\\\\"annotation\\\\\\\\\\\\\": null}, {\\\\\\\\\\\\\"id\\\\\\\\\\\\\": \\\\\\\\\\\\\"9e77863f-56d6-4506-b8a4-0385b9c6d80c\\\\\\\\\\\\\", \\\\\\\\\\\\\"type\\\\\\\\\\\\\": \\\\\\\\\\\\\"Microsoft.DPrep.ParseDelimitedBlock\\\\\\\\\\\\\", \\\\\\\\\\\\\"arguments\\\\\\\\\\\\\": {\\\\\\\\\\\\\"columnHeadersMode\\\\\\\\\\\\\": 3, \\\\\\\\\\\\\"fileEncoding\\\\\\\\\\\\\": 0, \\\\\\\\\\\\\"handleQuotedLineBreaks\\\\\\\\\\\\\": false, \\\\\\\\\\\\\"preview\\\\\\\\\\\\\": false, \\\\\\\\\\\\\"separator\\\\\\\\\\\\\": \\\\\\\\\\\\\",\\\\\\\\\\\\\", \\\\\\\\\\\\\"skipRows\\\\\\\\\\\\\": 0, \\\\\\\\\\\\\"skipRowsMode\\\\\\\\\\\\\": 0}, \\\\\\\\\\\\\"localData\\\\\\\\\\\\\": {}, \\\\\\\\\\\\\"isEnabled\\\\\\\\\\\\\": true, \\\\\\\\\\\\\"name\\\\\\\\\\\\\": null, \\\\\\\\\\\\\"annotation\\\\\\\\\\\\\": null}, {\\\\\\\\\\\\\"id\\\\\\\\\\\\\": \\\\\\\\\\\\\"0d28cb5c-1aeb-4ae6-afc2-f37c26179446\\\\\\\\\\\\\", \\\\\\\\\\\\\"type\\\\\\\\\\\\\": \\\\\\\\\\\\\"Microsoft.DPrep.DropColumnsBlock\\\\\\\\\\\\\", \\\\\\\\\\\\\"arguments\\\\\\\\\\\\\": {\\\\\\\\\\\\\"columns\\\\\\\\\\\\\": {\\\\\\\\\\\\\"type\\\\\\\\\\\\\": 0, \\\\\\\\\\\\\"details\\\\\\\\\\\\\": {\\\\\\\\\\\\\"selectedColumns\\\\\\\\\\\\\": [\\\\\\\\\\\\\"Path\\\\\\\\\\\\\"]}}}, \\\\\\\\\\\\\"localData\\\\\\\\\\\\\": {}, \\\\\\\\\\\\\"isEnabled\\\\\\\\\\\\\": true, \\\\\\\\\\\\\"name\\\\\\\\\\\\\": null, \\\\\\\\\\\\\"annotation\\\\\\\\\\\\\": null}, {\\\\\\\\\\\\\"id\\\\\\\\\\\\\": \\\\\\\\\\\\\"8630faa1-5bc7-4a09-aa8f-4d79e9f8b863\\\\\\\\\\\\\", \\\\\\\\\\\\\"type\\\\\\\\\\\\\": \\\\\\\\\\\\\"Microsoft.DPrep.SetColumnTypesBlock\\\\\\\\\\\\\", \\\\\\\\\\\\\"arguments\\\\\\\\\\\\\": {\\\\\\\\\\\\\"columnConversion\\\\\\\\\\\\\": [{\\\\\\\\\\\\\"column\\\\\\\\\\\\\": {\\\\\\\\\\\\\"type\\\\\\\\\\\\\": 2, \\\\\\\\\\\\\"details\\\\\\\\\\\\\": {\\\\\\\\\\\\\"selectedColumn\\\\\\\\\\\\\": \\\\\\\\\\\\\"baseline value\\\\\\\\\\\\\"}}, \\\\\\\\\\\\\"typeProperty\\\\\\\\\\\\\": 3}, {\\\\\\\\\\\\\"column\\\\\\\\\\\\\": {\\\\\\\\\\\\\"type\\\\\\\\\\\\\": 2, \\\\\\\\\\\\\"details\\\\\\\\\\\\\": {\\\\\\\\\\\\\"selectedColumn\\\\\\\\\\\\\": \\\\\\\\\\\\\"accelerations\\\\\\\\\\\\\"}}, \\\\\\\\\\\\\"typeProperty\\\\\\\\\\\\\": 3}, {\\\\\\\\\\\\\"column\\\\\\\\\\\\\": {\\\\\\\\\\\\\"type\\\\\\\\\\\\\": 2, \\\\\\\\\\\\\"details\\\\\\\\\\\\\": {\\\\\\\\\\\\\"selectedColumn\\\\\\\\\\\\\": \\\\\\\\\\\\\"fetal_movement\\\\\\\\\\\\\"}}, \\\\\\\\\\\\\"typeProperty\\\\\\\\\\\\\": 3}, {\\\\\\\\\\\\\"column\\\\\\\\\\\\\": {\\\\\\\\\\\\\"type\\\\\\\\\\\\\": 2, \\\\\\\\\\\\\"details\\\\\\\\\\\\\": {\\\\\\\\\\\\\"selectedColumn\\\\\\\\\\\\\": \\\\\\\\\\\\\"uterine_contractions\\\\\\\\\\\\\"}}, \\\\\\\\\\\\\"typeProperty\\\\\\\\\\\\\": 3}, {\\\\\\\\\\\\\"column\\\\\\\\\\\\\": {\\\\\\\\\\\\\"type\\\\\\\\\\\\\": 2, \\\\\\\\\\\\\"details\\\\\\\\\\\\\": {\\\\\\\\\\\\\"selectedColumn\\\\\\\\\\\\\": \\\\\\\\\\\\\"light_decelerations\\\\\\\\\\\\\"}}, \\\\\\\\\\\\\"typeProperty\\\\\\\\\\\\\": 3}, {\\\\\\\\\\\\\"column\\\\\\\\\\\\\": {\\\\\\\\\\\\\"type\\\\\\\\\\\\\": 2, \\\\\\\\\\\\\"details\\\\\\\\\\\\\": {\\\\\\\\\\\\\"selectedColumn\\\\\\\\\\\\\": \\\\\\\\\\\\\"severe_decelerations\\\\\\\\\\\\\"}}, \\\\\\\\\\\\\"typeProperty\\\\\\\\\\\\\": 3}, {\\\\\\\\\\\\\"column\\\\\\\\\\\\\": {\\\\\\\\\\\\\"type\\\\\\\\\\\\\": 2, \\\\\\\\\\\\\"details\\\\\\\\\\\\\": {\\\\\\\\\\\\\"selectedColumn\\\\\\\\\\\\\": \\\\\\\\\\\\\"prolongued_decelerations\\\\\\\\\\\\\"}}, \\\\\\\\\\\\\"typeProperty\\\\\\\\\\\\\": 3}, {\\\\\\\\\\\\\"column\\\\\\\\\\\\\": {\\\\\\\\\\\\\"type\\\\\\\\\\\\\": 2, \\\\\\\\\\\\\"details\\\\\\\\\\\\\": {\\\\\\\\\\\\\"selectedColumn\\\\\\\\\\\\\": \\\\\\\\\\\\\"abnormal_short_term_variability\\\\\\\\\\\\\"}}, \\\\\\\\\\\\\"typeProperty\\\\\\\\\\\\\": 3}, {\\\\\\\\\\\\\"column\\\\\\\\\\\\\": {\\\\\\\\\\\\\"type\\\\\\\\\\\\\": 2, \\\\\\\\\\\\\"details\\\\\\\\\\\\\": {\\\\\\\\\\\\\"selectedColumn\\\\\\\\\\\\\": \\\\\\\\\\\\\"mean_value_of_short_term_variability\\\\\\\\\\\\\"}}, \\\\\\\\\\\\\"typeProperty\\\\\\\\\\\\\": 3}, {\\\\\\\\\\\\\"column\\\\\\\\\\\\\": {\\\\\\\\\\\\\"type\\\\\\\\\\\\\": 2, \\\\\\\\\\\\\"details\\\\\\\\\\\\\": {\\\\\\\\\\\\\"selectedColumn\\\\\\\\\\\\\": \\\\\\\\\\\\\"percentage_of_time_with_abnormal_long_term_variability\\\\\\\\\\\\\"}}, \\\\\\\\\\\\\"typeProperty\\\\\\\\\\\\\": 3}, {\\\\\\\\\\\\\"column\\\\\\\\\\\\\": {\\\\\\\\\\\\\"type\\\\\\\\\\\\\": 2, \\\\\\\\\\\\\"details\\\\\\\\\\\\\": {\\\\\\\\\\\\\"selectedColumn\\\\\\\\\\\\\": \\\\\\\\\\\\\"mean_value_of_long_term_variability\\\\\\\\\\\\\"}}, \\\\\\\\\\\\\"typeProperty\\\\\\\\\\\\\": 3}, {\\\\\\\\\\\\\"column\\\\\\\\\\\\\": {\\\\\\\\\\\\\"type\\\\\\\\\\\\\": 2, \\\\\\\\\\\\\"details\\\\\\\\\\\\\": {\\\\\\\\\\\\\"selectedColumn\\\\\\\\\\\\\": \\\\\\\\\\\\\"histogram_width\\\\\\\\\\\\\"}}, \\\\\\\\\\\\\"typeProperty\\\\\\\\\\\\\": 3}, {\\\\\\\\\\\\\"column\\\\\\\\\\\\\": {\\\\\\\\\\\\\"type\\\\\\\\\\\\\": 2, \\\\\\\\\\\\\"details\\\\\\\\\\\\\": {\\\\\\\\\\\\\"selectedColumn\\\\\\\\\\\\\": \\\\\\\\\\\\\"histogram_min\\\\\\\\\\\\\"}}, \\\\\\\\\\\\\"typeProperty\\\\\\\\\\\\\": 3}, {\\\\\\\\\\\\\"column\\\\\\\\\\\\\": {\\\\\\\\\\\\\"type\\\\\\\\\\\\\": 2, \\\\\\\\\\\\\"details\\\\\\\\\\\\\": {\\\\\\\\\\\\\"selectedColumn\\\\\\\\\\\\\": \\\\\\\\\\\\\"histogram_max\\\\\\\\\\\\\"}}, \\\\\\\\\\\\\"typeProperty\\\\\\\\\\\\\": 3}, {\\\\\\\\\\\\\"column\\\\\\\\\\\\\": {\\\\\\\\\\\\\"type\\\\\\\\\\\\\": 2, \\\\\\\\\\\\\"details\\\\\\\\\\\\\": {\\\\\\\\\\\\\"selectedColumn\\\\\\\\\\\\\": \\\\\\\\\\\\\"histogram_number_of_peaks\\\\\\\\\\\\\"}}, \\\\\\\\\\\\\"typeProperty\\\\\\\\\\\\\": 3}, {\\\\\\\\\\\\\"column\\\\\\\\\\\\\": {\\\\\\\\\\\\\"type\\\\\\\\\\\\\": 2, \\\\\\\\\\\\\"details\\\\\\\\\\\\\": {\\\\\\\\\\\\\"selectedColumn\\\\\\\\\\\\\": \\\\\\\\\\\\\"histogram_number_of_zeroes\\\\\\\\\\\\\"}}, \\\\\\\\\\\\\"typeProperty\\\\\\\\\\\\\": 3}, {\\\\\\\\\\\\\"column\\\\\\\\\\\\\": {\\\\\\\\\\\\\"type\\\\\\\\\\\\\": 2, \\\\\\\\\\\\\"details\\\\\\\\\\\\\": {\\\\\\\\\\\\\"selectedColumn\\\\\\\\\\\\\": \\\\\\\\\\\\\"histogram_mode\\\\\\\\\\\\\"}}, \\\\\\\\\\\\\"typeProperty\\\\\\\\\\\\\": 3}, {\\\\\\\\\\\\\"column\\\\\\\\\\\\\": {\\\\\\\\\\\\\"type\\\\\\\\\\\\\": 2, \\\\\\\\\\\\\"details\\\\\\\\\\\\\": {\\\\\\\\\\\\\"selectedColumn\\\\\\\\\\\\\": \\\\\\\\\\\\\"histogram_mean\\\\\\\\\\\\\"}}, \\\\\\\\\\\\\"typeProperty\\\\\\\\\\\\\": 3}, {\\\\\\\\\\\\\"column\\\\\\\\\\\\\": {\\\\\\\\\\\\\"type\\\\\\\\\\\\\": 2, \\\\\\\\\\\\\"details\\\\\\\\\\\\\": {\\\\\\\\\\\\\"selectedColumn\\\\\\\\\\\\\": \\\\\\\\\\\\\"histogram_median\\\\\\\\\\\\\"}}, \\\\\\\\\\\\\"typeProperty\\\\\\\\\\\\\": 3}, {\\\\\\\\\\\\\"column\\\\\\\\\\\\\": {\\\\\\\\\\\\\"type\\\\\\\\\\\\\": 2, \\\\\\\\\\\\\"details\\\\\\\\\\\\\": {\\\\\\\\\\\\\"selectedColumn\\\\\\\\\\\\\": \\\\\\\\\\\\\"histogram_variance\\\\\\\\\\\\\"}}, \\\\\\\\\\\\\"typeProperty\\\\\\\\\\\\\": 3}, {\\\\\\\\\\\\\"column\\\\\\\\\\\\\": {\\\\\\\\\\\\\"type\\\\\\\\\\\\\": 2, \\\\\\\\\\\\\"details\\\\\\\\\\\\\": {\\\\\\\\\\\\\"selectedColumn\\\\\\\\\\\\\": \\\\\\\\\\\\\"histogram_tendency\\\\\\\\\\\\\"}}, \\\\\\\\\\\\\"typeProperty\\\\\\\\\\\\\": 3}, {\\\\\\\\\\\\\"column\\\\\\\\\\\\\": {\\\\\\\\\\\\\"type\\\\\\\\\\\\\": 2, \\\\\\\\\\\\\"details\\\\\\\\\\\\\": {\\\\\\\\\\\\\"selectedColumn\\\\\\\\\\\\\": \\\\\\\\\\\\\"fetal_health\\\\\\\\\\\\\"}}, \\\\\\\\\\\\\"typeProperty\\\\\\\\\\\\\": 3}]}, \\\\\\\\\\\\\"localData\\\\\\\\\\\\\": {}, \\\\\\\\\\\\\"isEnabled\\\\\\\\\\\\\": true, \\\\\\\\\\\\\"name\\\\\\\\\\\\\": null, \\\\\\\\\\\\\"annotation\\\\\\\\\\\\\": null}], \\\\\\\\\\\\\"inspectors\\\\\\\\\\\\\": [], \\\\\\\\\\\\\"meta\\\\\\\\\\\\\": {\\\\\\\\\\\\\"savedDatasetId\\\\\\\\\\\\\": \\\\\\\\\\\\\"11aa6b69-c7d9-42f7-a5f8-e400217bddcc\\\\\\\\\\\\\", \\\\\\\\\\\\\"datasetType\\\\\\\\\\\\\": \\\\\\\\\\\\\"tabular\\\\\\\\\\\\\", \\\\\\\\\\\\\"subscriptionId\\\\\\\\\\\\\": \\\\\\\\\\\\\"d4ad7261-832d-46b2-b093-22156001df5b\\\\\\\\\\\\\", \\\\\\\\\\\\\"workspaceId\\\\\\\\\\\\\": \\\\\\\\\\\\\"bacef661-b0e0-4d02-95b0-f068e6c4c66c\\\\\\\\\\\\\", \\\\\\\\\\\\\"workspaceLocation\\\\\\\\\\\\\": \\\\\\\\\\\\\"southcentralus\\\\\\\\\\\\\"}}\\\\\", \\\\\"activities\\\\\": 0}',\n",
       "  'EnableSubsampling': None,\n",
       "  'runTemplate': 'AutoML',\n",
       "  'azureml.runsource': 'automl',\n",
       "  'display_task_type': 'classification',\n",
       "  'dependencies_versions': '{\"azureml-widgets\": \"1.20.0\", \"azureml-train\": \"1.20.0\", \"azureml-train-restclients-hyperdrive\": \"1.20.0\", \"azureml-train-core\": \"1.20.0\", \"azureml-train-automl\": \"1.20.0\", \"azureml-train-automl-runtime\": \"1.20.0\", \"azureml-train-automl-client\": \"1.20.0\", \"azureml-tensorboard\": \"1.20.0\", \"azureml-telemetry\": \"1.20.0\", \"azureml-sdk\": \"1.20.0\", \"azureml-samples\": \"0+unknown\", \"azureml-pipeline\": \"1.20.0\", \"azureml-pipeline-steps\": \"1.20.0\", \"azureml-pipeline-core\": \"1.20.0\", \"azureml-opendatasets\": \"1.20.0\", \"azureml-model-management-sdk\": \"1.0.1b6.post1\", \"azureml-mlflow\": \"1.20.0.post1\", \"azureml-interpret\": \"1.20.0\", \"azureml-explain-model\": \"1.20.0\", \"azureml-defaults\": \"1.20.0\", \"azureml-dataset-runtime\": \"1.20.0\", \"azureml-dataprep\": \"2.7.3\", \"azureml-dataprep-rslex\": \"1.5.0\", \"azureml-dataprep-native\": \"27.0.0\", \"azureml-datadrift\": \"1.20.0\", \"azureml-core\": \"1.20.0\", \"azureml-contrib-services\": \"1.20.0\", \"azureml-contrib-server\": \"1.20.0\", \"azureml-contrib-reinforcementlearning\": \"1.20.0\", \"azureml-contrib-pipeline-steps\": \"1.20.0\", \"azureml-contrib-notebook\": \"1.20.0\", \"azureml-contrib-interpret\": \"1.20.0\", \"azureml-contrib-gbdt\": \"1.20.0\", \"azureml-contrib-fairness\": \"1.20.0\", \"azureml-contrib-dataset\": \"1.20.0\", \"azureml-cli-common\": \"1.20.0\", \"azureml-automl-runtime\": \"1.20.0\", \"azureml-automl-core\": \"1.20.0\", \"azureml-accel-models\": \"1.20.0\"}',\n",
       "  '_aml_system_scenario_identification': 'Remote.Parent',\n",
       "  'ClientType': 'SDK',\n",
       "  'environment_cpu_name': 'AzureML-AutoML',\n",
       "  'environment_cpu_label': 'prod',\n",
       "  'environment_gpu_name': 'AzureML-AutoML-GPU',\n",
       "  'environment_gpu_label': 'prod',\n",
       "  'root_attribution': 'automl',\n",
       "  'attribution': 'AutoML',\n",
       "  'Orchestrator': 'AutoML',\n",
       "  'CancelUri': 'https://southcentralus.experiments.azureml.net/jasmine/v1.0/subscriptions/d4ad7261-832d-46b2-b093-22156001df5b/resourceGroups/aml-quickstarts-136799/providers/Microsoft.MachineLearningServices/workspaces/quick-starts-ws-136799/experimentids/6b02c4b4-a4e4-45ff-bf8f-b4f5acea7b95/cancel/AutoML_719dc484-cd77-4408-ba66-fb1b871b7adf',\n",
       "  'ClientSdkVersion': '1.20.0.post1',\n",
       "  'snapshotId': '00000000-0000-0000-0000-000000000000',\n",
       "  'SetupRunId': 'AutoML_719dc484-cd77-4408-ba66-fb1b871b7adf_setup',\n",
       "  'SetupRunContainerId': 'dcid.AutoML_719dc484-cd77-4408-ba66-fb1b871b7adf_setup',\n",
       "  'FeaturizationRunJsonPath': 'featurizer_container.json',\n",
       "  'FeaturizationRunId': 'AutoML_719dc484-cd77-4408-ba66-fb1b871b7adf_featurize',\n",
       "  'ProblemInfoJsonString': '{\"dataset_num_categorical\": 0, \"is_sparse\": false, \"subsampling\": false, \"dataset_classes\": 3, \"dataset_features\": 21, \"dataset_samples\": 2116, \"single_frequency_class_detected\": false}',\n",
       "  'ModelExplainRunId': 'AutoML_719dc484-cd77-4408-ba66-fb1b871b7adf_ModelExplain'},\n",
       " 'inputDatasets': [{'dataset': {'id': '11aa6b69-c7d9-42f7-a5f8-e400217bddcc'}, 'consumptionDetails': {'type': 'RunInput', 'inputName': 'training_data', 'mechanism': 'Direct'}}],\n",
       " 'outputDatasets': [],\n",
       " 'logFiles': {},\n",
       " 'submittedBy': 'ODL_User 136799'}"
      ]
     },
     "execution_count": 11,
     "metadata": {},
     "output_type": "execute_result"
    }
   ],
   "source": [
    "remote_run.wait_for_completion(show_output=True)"
   ]
  },
  {
   "cell_type": "markdown",
   "metadata": {},
   "source": [
    "## Best Model\n",
    "\n",
    "TODO: In the cell below, get the best model from the automl experiments and display all the properties of the model.\n",
    "\n"
   ]
  },
  {
   "cell_type": "code",
   "execution_count": 12,
   "metadata": {
    "gather": {
     "logged": 1612164414673
    },
    "jupyter": {
     "outputs_hidden": false,
     "source_hidden": false
    },
    "nteract": {
     "transient": {
      "deleting": false
     }
    }
   },
   "outputs": [
    {
     "name": "stdout",
     "output_type": "stream",
     "text": [
      "Run(Experiment: FetalHealthAutomlExp,\n",
      "Id: AutoML_719dc484-cd77-4408-ba66-fb1b871b7adf_55,\n",
      "Type: azureml.scriptrun,\n",
      "Status: Completed)\n",
      "average_precision_score_weighted 0.9815976262219278\n",
      "log_loss 0.1721237656562539\n",
      "f1_score_micro 0.9527376332575047\n",
      "AUC_weighted 0.9874571209516432\n",
      "recall_score_micro 0.9527376332575047\n",
      "matthews_correlation 0.8686743151126549\n",
      "accuracy 0.9527376332575047\n",
      "AUC_micro 0.9936655050120058\n",
      "norm_macro_recall 0.8513632713742301\n",
      "AUC_macro 0.9877827227457061\n",
      "balanced_accuracy 0.90090884758282\n",
      "precision_score_macro 0.9383426707637895\n",
      "average_precision_score_micro 0.9883976937037154\n",
      "precision_score_micro 0.9527376332575047\n",
      "f1_score_weighted 0.9514295442283691\n",
      "weighted_accuracy 0.9771936924343023\n",
      "precision_score_weighted 0.9519586705306097\n",
      "f1_score_macro 0.9174440105525207\n",
      "recall_score_weighted 0.9527376332575047\n",
      "recall_score_macro 0.90090884758282\n",
      "average_precision_score_macro 0.9573238934268075\n",
      "confusion_matrix aml://artifactId/ExperimentRun/dcid.AutoML_719dc484-cd77-4408-ba66-fb1b871b7adf_55/confusion_matrix\n",
      "accuracy_table aml://artifactId/ExperimentRun/dcid.AutoML_719dc484-cd77-4408-ba66-fb1b871b7adf_55/accuracy_table\n"
     ]
    }
   ],
   "source": [
    "# Get best run and model\n",
    "best_run, fitted_model = remote_run.get_output()\n",
    "\n",
    "# Print the best run\n",
    "print(best_run)\n",
    "\n",
    "# Get all metrics of the best run\n",
    "best_run_metrics = best_run.get_metrics()\n",
    "\n",
    "# Print all metrics of the best run\n",
    "for metric_name in best_run_metrics:\n",
    "    metric = best_run_metrics[metric_name]\n",
    "    print(metric_name, metric)"
   ]
  },
  {
   "cell_type": "code",
   "execution_count": 14,
   "metadata": {
    "gather": {
     "logged": 1612164502212
    },
    "jupyter": {
     "outputs_hidden": false,
     "source_hidden": false
    },
    "nteract": {
     "transient": {
      "deleting": false
     }
    }
   },
   "outputs": [
    {
     "name": "stdout",
     "output_type": "stream",
     "text": [
      "Model(workspace=Workspace.create(name='quick-starts-ws-136799', subscription_id='d4ad7261-832d-46b2-b093-22156001df5b', resource_group='aml-quickstarts-136799'), name=fh_best_automl_Model, id=fh_best_automl_Model:1, version=1, tags={'Training context': 'Auto ML'}, properties={'Accuracy': '0.9527376332575047'})\n"
     ]
    }
   ],
   "source": [
    "#TODO: Save the best model\n",
    "automl_best_Model = best_run.register_model(model_path='outputs/model.pkl', model_name='fh_best_automl_Model',\n",
    "                        tags={'Training context':'Auto ML'},\n",
    "                        properties={'Accuracy': best_run_metrics['accuracy']})\n",
    "\n",
    "print(automl_best_Model)"
   ]
  },
  {
   "cell_type": "code",
   "execution_count": 15,
   "metadata": {
    "gather": {
     "logged": 1612164514282
    },
    "jupyter": {
     "outputs_hidden": false,
     "source_hidden": false
    },
    "nteract": {
     "transient": {
      "deleting": false
     }
    }
   },
   "outputs": [
    {
     "name": "stdout",
     "output_type": "stream",
     "text": [
      "fh_best_automl_Model version: 1\n",
      "\t Training context : Auto ML\n",
      "\t Accuracy : 0.9527376332575047\n",
      "\n",
      "\n"
     ]
    }
   ],
   "source": [
    "# List registered models to verify if model has been saved\n",
    "for model in Model.list(ws):\n",
    "    print(model.name, 'version:', model.version)\n",
    "    for tag_name in model.tags:\n",
    "        tag = model.tags[tag_name]\n",
    "        print ('\\t',tag_name, ':', tag)\n",
    "    for prop_name in model.properties:\n",
    "        prop = model.properties[prop_name]\n",
    "        print ('\\t',prop_name, ':', prop)\n",
    "    print('\\n')"
   ]
  },
  {
   "cell_type": "markdown",
   "metadata": {},
   "source": [
    "## Model Deployment\n",
    "\n",
    "Remember you have to deploy only one of the two models you trained.. Perform the steps in the rest of this notebook only if you wish to deploy this model.\n",
    "\n",
    "TODO: In the cell below, register the model, create an inference config and deploy the model as a web service."
   ]
  },
  {
   "cell_type": "code",
   "execution_count": 16,
   "metadata": {
    "gather": {
     "logged": 1612164525076
    }
   },
   "outputs": [],
   "source": [
    "# Download scoring file \n",
    "best_run.download_file('outputs/scoring_file_v_1_0_0.py', 'score.py')\n",
    "\n",
    "# Download environment file\n",
    "best_run.download_file('outputs/conda_env_v_1_0_0.yml', 'envFile.yml')"
   ]
  },
  {
   "cell_type": "code",
   "execution_count": 18,
   "metadata": {
    "gather": {
     "logged": 1612164776429
    },
    "jupyter": {
     "outputs_hidden": false,
     "source_hidden": false
    },
    "nteract": {
     "transient": {
      "deleting": false
     }
    }
   },
   "outputs": [
    {
     "name": "stdout",
     "output_type": "stream",
     "text": [
      "Tips: You can try get_logs(): https://aka.ms/debugimage#dockerlog or local deployment: https://aka.ms/debugimage#debug-locally to debug if deployment takes longer than 10 minutes.\n",
      "Running........................................\n",
      "Succeeded\n",
      "ACI service creation operation finished, operation \"Succeeded\"\n",
      "Healthy\n",
      "http://803091ac-684a-45d4-876e-a9276fc3e4b4.southcentralus.azurecontainer.io/score\n",
      "http://803091ac-684a-45d4-876e-a9276fc3e4b4.southcentralus.azurecontainer.io/swagger.json\n"
     ]
    }
   ],
   "source": [
    "from azureml.core.environment import Environment\n",
    "from azureml.core.model import InferenceConfig\n",
    "\n",
    "inference_config = InferenceConfig(entry_script='score.py',\n",
    "                                    environment=best_run.get_environment())\n",
    "\n",
    "# deploy\n",
    "from azureml.core.webservice import AciWebservice\n",
    "\n",
    "deployment_config = AciWebservice.deploy_configuration(cpu_cores = 1, memory_gb = 1)\n",
    "service = Model.deploy(ws, \"myservice\", [automl_best_Model], inference_config, deployment_config)\n",
    "service.wait_for_deployment(show_output = True)\n",
    "print(service.state)\n",
    "\n",
    "print(service.scoring_uri)\n",
    "\n",
    "print(service.swagger_uri)"
   ]
  },
  {
   "cell_type": "code",
   "execution_count": 21,
   "metadata": {
    "gather": {
     "logged": 1612164906097
    }
   },
   "outputs": [
    {
     "name": "stdout",
     "output_type": "stream",
     "text": [
      "{\"data\": [{\"baseline value\": 128.0, \"accelerations\": 0.0, \"fetal_movement\": 0.006, \"uterine_contractions\": 0.009, \"light_decelerations\": 0.01, \"severe_decelerations\": 0.0, \"prolongued_decelerations\": 0.0, \"abnormal_short_term_variability\": 63.0, \"mean_value_of_short_term_variability\": 2.7, \"percentage_of_time_with_abnormal_long_term_variability\": 0.0, \"mean_value_of_long_term_variability\": 1.3, \"histogram_width\": 96.0, \"histogram_min\": 64.0, \"histogram_max\": 160.0, \"histogram_number_of_peaks\": 6.0, \"histogram_number_of_zeroes\": 1.0, \"histogram_mode\": 129.0, \"histogram_mean\": 111.0, \"histogram_median\": 128.0, \"histogram_variance\": 21.0, \"histogram_tendency\": 0.0}, {\"baseline value\": 129.0, \"accelerations\": 0.003, \"fetal_movement\": 0.001, \"uterine_contractions\": 0.0, \"light_decelerations\": 0.0, \"severe_decelerations\": 0.0, \"prolongued_decelerations\": 0.0, \"abnormal_short_term_variability\": 59.0, \"mean_value_of_short_term_variability\": 0.9, \"percentage_of_time_with_abnormal_long_term_variability\": 21.0, \"mean_value_of_long_term_variability\": 19.4, \"histogram_width\": 118.0, \"histogram_min\": 66.0, \"histogram_max\": 184.0, \"histogram_number_of_peaks\": 18.0, \"histogram_number_of_zeroes\": 0.0, \"histogram_mode\": 133.0, \"histogram_mean\": 135.0, \"histogram_median\": 137.0, \"histogram_variance\": 7.0, \"histogram_tendency\": 0.0}, {\"baseline value\": 122.0, \"accelerations\": 0.0, \"fetal_movement\": 0.0, \"uterine_contractions\": 0.0, \"light_decelerations\": 0.0, \"severe_decelerations\": 0.0, \"prolongued_decelerations\": 0.0, \"abnormal_short_term_variability\": 29.0, \"mean_value_of_short_term_variability\": 1.3, \"percentage_of_time_with_abnormal_long_term_variability\": 0.0, \"mean_value_of_long_term_variability\": 10.2, \"histogram_width\": 27.0, \"histogram_min\": 110.0, \"histogram_max\": 137.0, \"histogram_number_of_peaks\": 0.0, \"histogram_number_of_zeroes\": 1.0, \"histogram_mode\": 127.0, \"histogram_mean\": 126.0, \"histogram_median\": 127.0, \"histogram_variance\": 1.0, \"histogram_tendency\": 0.0}, {\"baseline value\": 136.0, \"accelerations\": 0.0, \"fetal_movement\": 0.0, \"uterine_contractions\": 0.008, \"light_decelerations\": 0.005, \"severe_decelerations\": 0.0, \"prolongued_decelerations\": 0.0, \"abnormal_short_term_variability\": 32.0, \"mean_value_of_short_term_variability\": 1.3, \"percentage_of_time_with_abnormal_long_term_variability\": 0.0, \"mean_value_of_long_term_variability\": 17.5, \"histogram_width\": 102.0, \"histogram_min\": 61.0, \"histogram_max\": 163.0, \"histogram_number_of_peaks\": 7.0, \"histogram_number_of_zeroes\": 0.0, \"histogram_mode\": 136.0, \"histogram_mean\": 133.0, \"histogram_median\": 137.0, \"histogram_variance\": 17.0, \"histogram_tendency\": 1.0}, {\"baseline value\": 128.0, \"accelerations\": 0.008, \"fetal_movement\": 0.014, \"uterine_contractions\": 0.004, \"light_decelerations\": 0.0, \"severe_decelerations\": 0.0, \"prolongued_decelerations\": 0.0, \"abnormal_short_term_variability\": 40.0, \"mean_value_of_short_term_variability\": 1.1, \"percentage_of_time_with_abnormal_long_term_variability\": 0.0, \"mean_value_of_long_term_variability\": 12.7, \"histogram_width\": 123.0, \"histogram_min\": 59.0, \"histogram_max\": 182.0, \"histogram_number_of_peaks\": 7.0, \"histogram_number_of_zeroes\": 0.0, \"histogram_mode\": 129.0, \"histogram_mean\": 139.0, \"histogram_median\": 136.0, \"histogram_variance\": 25.0, \"histogram_tendency\": 0.0}, {\"baseline value\": 126.0, \"accelerations\": 0.009, \"fetal_movement\": 0.0, \"uterine_contractions\": 0.008, \"light_decelerations\": 0.0, \"severe_decelerations\": 0.0, \"prolongued_decelerations\": 0.0, \"abnormal_short_term_variability\": 23.0, \"mean_value_of_short_term_variability\": 1.5, \"percentage_of_time_with_abnormal_long_term_variability\": 0.0, \"mean_value_of_long_term_variability\": 10.3, \"histogram_width\": 33.0, \"histogram_min\": 122.0, \"histogram_max\": 155.0, \"histogram_number_of_peaks\": 2.0, \"histogram_number_of_zeroes\": 0.0, \"histogram_mode\": 136.0, \"histogram_mean\": 137.0, \"histogram_median\": 139.0, \"histogram_variance\": 3.0, \"histogram_tendency\": 0.0}, {\"baseline value\": 142.0, \"accelerations\": 0.005, \"fetal_movement\": 0.0, \"uterine_contractions\": 0.001, \"light_decelerations\": 0.0, \"severe_decelerations\": 0.0, \"prolongued_decelerations\": 0.0, \"abnormal_short_term_variability\": 39.0, \"mean_value_of_short_term_variability\": 0.8, \"percentage_of_time_with_abnormal_long_term_variability\": 0.0, \"mean_value_of_long_term_variability\": 10.2, \"histogram_width\": 53.0, \"histogram_min\": 106.0, \"histogram_max\": 159.0, \"histogram_number_of_peaks\": 7.0, \"histogram_number_of_zeroes\": 0.0, \"histogram_mode\": 150.0, \"histogram_mean\": 149.0, \"histogram_median\": 151.0, \"histogram_variance\": 2.0, \"histogram_tendency\": 1.0}, {\"baseline value\": 132.0, \"accelerations\": 0.003, \"fetal_movement\": 0.005, \"uterine_contractions\": 0.006, \"light_decelerations\": 0.0, \"severe_decelerations\": 0.0, \"prolongued_decelerations\": 0.0, \"abnormal_short_term_variability\": 58.0, \"mean_value_of_short_term_variability\": 0.5, \"percentage_of_time_with_abnormal_long_term_variability\": 23.0, \"mean_value_of_long_term_variability\": 7.8, \"histogram_width\": 36.0, \"histogram_min\": 120.0, \"histogram_max\": 156.0, \"histogram_number_of_peaks\": 2.0, \"histogram_number_of_zeroes\": 0.0, \"histogram_mode\": 133.0, \"histogram_mean\": 135.0, \"histogram_median\": 134.0, \"histogram_variance\": 3.0, \"histogram_tendency\": 0.0}, {\"baseline value\": 137.0, \"accelerations\": 0.003, \"fetal_movement\": 0.002, \"uterine_contractions\": 0.0, \"light_decelerations\": 0.0, \"severe_decelerations\": 0.0, \"prolongued_decelerations\": 0.0, \"abnormal_short_term_variability\": 59.0, \"mean_value_of_short_term_variability\": 0.8, \"percentage_of_time_with_abnormal_long_term_variability\": 24.0, \"mean_value_of_long_term_variability\": 13.4, \"histogram_width\": 97.0, \"histogram_min\": 70.0, \"histogram_max\": 167.0, \"histogram_number_of_peaks\": 8.0, \"histogram_number_of_zeroes\": 0.0, \"histogram_mode\": 143.0, \"histogram_mean\": 144.0, \"histogram_median\": 145.0, \"histogram_variance\": 5.0, \"histogram_tendency\": 1.0}, {\"baseline value\": 130.0, \"accelerations\": 0.008, \"fetal_movement\": 0.013, \"uterine_contractions\": 0.004, \"light_decelerations\": 0.0, \"severe_decelerations\": 0.0, \"prolongued_decelerations\": 0.0, \"abnormal_short_term_variability\": 36.0, \"mean_value_of_short_term_variability\": 1.9, \"percentage_of_time_with_abnormal_long_term_variability\": 0.0, \"mean_value_of_long_term_variability\": 20.5, \"histogram_width\": 118.0, \"histogram_min\": 54.0, \"histogram_max\": 172.0, \"histogram_number_of_peaks\": 6.0, \"histogram_number_of_zeroes\": 0.0, \"histogram_mode\": 154.0, \"histogram_mean\": 148.0, \"histogram_median\": 154.0, \"histogram_variance\": 26.0, \"histogram_tendency\": 1.0}]}\n"
     ]
    }
   ],
   "source": [
    "import json\n",
    "\n",
    "label = x_test.pop('fetal_health')\n",
    "\n",
    "testing_data = json.dumps({'data': x_test.to_dict(orient='records')})\n",
    "\n",
    "print(testing_data)"
   ]
  },
  {
   "cell_type": "markdown",
   "metadata": {
    "gather": {
     "logged": 1598431657736
    },
    "jupyter": {
     "outputs_hidden": false,
     "source_hidden": false
    },
    "nteract": {
     "transient": {
      "deleting": false
     }
    }
   },
   "source": [
    "TODO: In the cell below, send a request to the web service you deployed to test it."
   ]
  },
  {
   "cell_type": "code",
   "execution_count": 22,
   "metadata": {
    "gather": {
     "logged": 1612164913050
    },
    "jupyter": {
     "outputs_hidden": false,
     "source_hidden": false
    },
    "nteract": {
     "transient": {
      "deleting": false
     }
    }
   },
   "outputs": [],
   "source": [
    "import requests # Used for http post request\n",
    "\n",
    "# Set the content type\n",
    "headers = {'Content-type': 'application/json'}\n",
    "\n",
    "\n",
    "response = requests.post(service.scoring_uri, testing_data, headers=headers)"
   ]
  },
  {
   "cell_type": "code",
   "execution_count": 23,
   "metadata": {
    "gather": {
     "logged": 1612164918174
    }
   },
   "outputs": [
    {
     "name": "stdout",
     "output_type": "stream",
     "text": [
      "\"{\\\"result\\\": [1.0, 1.0, 1.0, 1.0, 1.0, 1.0, 1.0, 1.0, 1.0, 1.0]}\"\n"
     ]
    }
   ],
   "source": [
    "# Print results from the inference\n",
    "print(response.text)"
   ]
  },
  {
   "cell_type": "code",
   "execution_count": 24,
   "metadata": {
    "gather": {
     "logged": 1612164921864
    }
   },
   "outputs": [
    {
     "name": "stdout",
     "output_type": "stream",
     "text": [
      "2045   1.00\n",
      "763    1.00\n",
      "1090   1.00\n",
      "955    1.00\n",
      "504    1.00\n",
      "1166   1.00\n",
      "949    1.00\n",
      "716    1.00\n",
      "532    1.00\n",
      "502    1.00\n",
      "Name: fetal_health, dtype: float64\n"
     ]
    }
   ],
   "source": [
    "# Print original labels\n",
    "print(label)"
   ]
  },
  {
   "cell_type": "markdown",
   "metadata": {
    "gather": {
     "logged": 1598432765711
    },
    "jupyter": {
     "outputs_hidden": false,
     "source_hidden": false
    },
    "nteract": {
     "transient": {
      "deleting": false
     }
    }
   },
   "source": [
    "TODO: In the cell below, print the logs of the web service and delete the service"
   ]
  },
  {
   "cell_type": "code",
   "execution_count": 25,
   "metadata": {
    "gather": {
     "logged": 1612164928414
    }
   },
   "outputs": [
    {
     "name": "stdout",
     "output_type": "stream",
     "text": [
      "/usr/sbin/nginx: /azureml-envs/azureml_265db83b0c6014ce472c5de2f0b97e04/lib/libcrypto.so.1.0.0: no version information available (required by /usr/sbin/nginx)\n",
      "/usr/sbin/nginx: /azureml-envs/azureml_265db83b0c6014ce472c5de2f0b97e04/lib/libcrypto.so.1.0.0: no version information available (required by /usr/sbin/nginx)\n",
      "/usr/sbin/nginx: /azureml-envs/azureml_265db83b0c6014ce472c5de2f0b97e04/lib/libssl.so.1.0.0: no version information available (required by /usr/sbin/nginx)\n",
      "/usr/sbin/nginx: /azureml-envs/azureml_265db83b0c6014ce472c5de2f0b97e04/lib/libssl.so.1.0.0: no version information available (required by /usr/sbin/nginx)\n",
      "/usr/sbin/nginx: /azureml-envs/azureml_265db83b0c6014ce472c5de2f0b97e04/lib/libssl.so.1.0.0: no version information available (required by /usr/sbin/nginx)\n",
      "2021-02-01T07:32:35,063175422+00:00 - gunicorn/run \n",
      "2021-02-01T07:32:35,064703926+00:00 - iot-server/run \n",
      "2021-02-01T07:32:35,064904827+00:00 - nginx/run \n",
      "2021-02-01T07:32:35,065891629+00:00 - rsyslog/run \n",
      "rsyslogd: /azureml-envs/azureml_265db83b0c6014ce472c5de2f0b97e04/lib/libuuid.so.1: no version information available (required by rsyslogd)\n",
      "EdgeHubConnectionString and IOTEDGE_IOTHUBHOSTNAME are not set. Exiting...\n",
      "2021-02-01T07:32:35,239606683+00:00 - iot-server/finish 1 0\n",
      "2021-02-01T07:32:35,240917887+00:00 - Exit code 1 is normal. Not restarting iot-server.\n",
      "Starting gunicorn 19.9.0\n",
      "Listening at: http://127.0.0.1:31311 (14)\n",
      "Using worker: sync\n",
      "worker timeout is set to 300\n",
      "Booting worker with pid: 42\n",
      "SPARK_HOME not set. Skipping PySpark Initialization.\n",
      "Generating new fontManager, this may take some time...\n",
      "Initializing logger\n",
      "2021-02-01 07:32:36,528 | root | INFO | Starting up app insights client\n",
      "2021-02-01 07:32:36,528 | root | INFO | Starting up request id generator\n",
      "2021-02-01 07:32:36,528 | root | INFO | Starting up app insight hooks\n",
      "2021-02-01 07:32:36,528 | root | INFO | Invoking user's init function\n",
      "2021-02-01 07:32:39,183 | azureml.core | WARNING | Failure while loading azureml_run_type_providers. Failed to load entrypoint automl = azureml.train.automl.run:AutoMLRun._from_run_dto with exception cannot import name 'RunType'.\n",
      "Failure while loading azureml_run_type_providers. Failed to load entrypoint automl = azureml.train.automl.run:AutoMLRun._from_run_dto with exception cannot import name 'RunType'.\n",
      "2021-02-01 07:32:39,544 | root | INFO | Users's init has completed successfully\n",
      "2021-02-01 07:32:39,548 | root | INFO | Skipping middleware: dbg_model_info as it's not enabled.\n",
      "2021-02-01 07:32:39,548 | root | INFO | Skipping middleware: dbg_resource_usage as it's not enabled.\n",
      "2021-02-01 07:32:39,550 | root | INFO | Scoring timeout is found from os.environ: 60000 ms\n",
      "2021-02-01 07:32:49,682 | root | INFO | 200\n",
      "127.0.0.1 - - [01/Feb/2021:07:32:49 +0000] \"GET /swagger.json HTTP/1.0\" 200 3971 \"-\" \"Go-http-client/1.1\"\n",
      "2021-02-01 07:32:55,168 | root | INFO | 200\n",
      "127.0.0.1 - - [01/Feb/2021:07:32:55 +0000] \"GET /swagger.json HTTP/1.0\" 200 3971 \"-\" \"Go-http-client/1.1\"\n",
      "2021-02-01 07:35:12,123 | root | INFO | Validation Request Content-Type\n",
      "2021-02-01 07:35:12,124 | root | INFO | Scoring Timer is set to 60.0 seconds\n",
      "2021-02-01 07:35:12,240 | root | INFO | 200\n",
      "127.0.0.1 - - [01/Feb/2021:07:35:12 +0000] \"POST /score HTTP/1.0\" 200 66 \"-\" \"python-requests/2.25.1\"\n",
      "\n"
     ]
    }
   ],
   "source": [
    "print(service.get_logs())"
   ]
  },
  {
   "cell_type": "code",
   "execution_count": 26,
   "metadata": {
    "gather": {
     "logged": 1612164935385
    },
    "jupyter": {
     "outputs_hidden": false,
     "source_hidden": false
    },
    "nteract": {
     "transient": {
      "deleting": false
     }
    }
   },
   "outputs": [],
   "source": [
    "service.delete()"
   ]
  }
 ],
 "metadata": {
  "kernel_info": {
   "name": "python3"
  },
  "kernelspec": {
   "display_name": "Python 3",
   "language": "python",
   "name": "python3"
  },
  "language_info": {
   "codemirror_mode": {
    "name": "ipython",
    "version": 3
   },
   "file_extension": ".py",
   "mimetype": "text/x-python",
   "name": "python",
   "nbconvert_exporter": "python",
   "pygments_lexer": "ipython3",
   "version": "3.7.6"
  },
  "nteract": {
   "version": "nteract-front-end@1.0.0"
  }
 },
 "nbformat": 4,
 "nbformat_minor": 4
}
